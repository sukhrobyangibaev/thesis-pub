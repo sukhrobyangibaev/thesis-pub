{
 "cells": [
  {
   "cell_type": "code",
   "execution_count": 1,
   "metadata": {},
   "outputs": [],
   "source": [
    "import pandas as pd\n",
    "import numpy as np\n",
    "from sklearn.model_selection import train_test_split\n",
    "from sklearn.preprocessing import LabelEncoder, StandardScaler\n",
    "from sklearn import tree\n",
    "from sklearn.tree import DecisionTreeClassifier\n",
    "from sklearn.ensemble import ExtraTreesClassifier, GradientBoostingClassifier, HistGradientBoostingClassifier, RandomForestClassifier, AdaBoostClassifier\n",
    "from sklearn.metrics import accuracy_score, confusion_matrix\n",
    "import matplotlib.pyplot as plt"
   ]
  },
  {
   "cell_type": "code",
   "execution_count": 2,
   "metadata": {},
   "outputs": [
    {
     "data": {
      "text/html": [
       "<div>\n",
       "<style scoped>\n",
       "    .dataframe tbody tr th:only-of-type {\n",
       "        vertical-align: middle;\n",
       "    }\n",
       "\n",
       "    .dataframe tbody tr th {\n",
       "        vertical-align: top;\n",
       "    }\n",
       "\n",
       "    .dataframe thead th {\n",
       "        text-align: right;\n",
       "    }\n",
       "</style>\n",
       "<table border=\"1\" class=\"dataframe\">\n",
       "  <thead>\n",
       "    <tr style=\"text-align: right;\">\n",
       "      <th></th>\n",
       "      <th>age</th>\n",
       "      <th>workclass</th>\n",
       "      <th>fnlwgt</th>\n",
       "      <th>education</th>\n",
       "      <th>education-num</th>\n",
       "      <th>marital-status</th>\n",
       "      <th>occupation</th>\n",
       "      <th>relationship</th>\n",
       "      <th>race</th>\n",
       "      <th>sex</th>\n",
       "      <th>capital-gain</th>\n",
       "      <th>capital-loss</th>\n",
       "      <th>hours-per-week</th>\n",
       "      <th>native-country</th>\n",
       "      <th>income</th>\n",
       "    </tr>\n",
       "  </thead>\n",
       "  <tbody>\n",
       "    <tr>\n",
       "      <th>0</th>\n",
       "      <td>39</td>\n",
       "      <td>State-gov</td>\n",
       "      <td>77516</td>\n",
       "      <td>Bachelors</td>\n",
       "      <td>13</td>\n",
       "      <td>Never-married</td>\n",
       "      <td>Adm-clerical</td>\n",
       "      <td>Not-in-family</td>\n",
       "      <td>White</td>\n",
       "      <td>Male</td>\n",
       "      <td>2174</td>\n",
       "      <td>0</td>\n",
       "      <td>40</td>\n",
       "      <td>United-States</td>\n",
       "      <td>&lt;=50K</td>\n",
       "    </tr>\n",
       "    <tr>\n",
       "      <th>1</th>\n",
       "      <td>50</td>\n",
       "      <td>Self-emp-not-inc</td>\n",
       "      <td>83311</td>\n",
       "      <td>Bachelors</td>\n",
       "      <td>13</td>\n",
       "      <td>Married-civ-spouse</td>\n",
       "      <td>Exec-managerial</td>\n",
       "      <td>Husband</td>\n",
       "      <td>White</td>\n",
       "      <td>Male</td>\n",
       "      <td>0</td>\n",
       "      <td>0</td>\n",
       "      <td>13</td>\n",
       "      <td>United-States</td>\n",
       "      <td>&lt;=50K</td>\n",
       "    </tr>\n",
       "    <tr>\n",
       "      <th>2</th>\n",
       "      <td>38</td>\n",
       "      <td>Private</td>\n",
       "      <td>215646</td>\n",
       "      <td>HS-grad</td>\n",
       "      <td>9</td>\n",
       "      <td>Divorced</td>\n",
       "      <td>Handlers-cleaners</td>\n",
       "      <td>Not-in-family</td>\n",
       "      <td>White</td>\n",
       "      <td>Male</td>\n",
       "      <td>0</td>\n",
       "      <td>0</td>\n",
       "      <td>40</td>\n",
       "      <td>United-States</td>\n",
       "      <td>&lt;=50K</td>\n",
       "    </tr>\n",
       "    <tr>\n",
       "      <th>3</th>\n",
       "      <td>53</td>\n",
       "      <td>Private</td>\n",
       "      <td>234721</td>\n",
       "      <td>11th</td>\n",
       "      <td>7</td>\n",
       "      <td>Married-civ-spouse</td>\n",
       "      <td>Handlers-cleaners</td>\n",
       "      <td>Husband</td>\n",
       "      <td>Black</td>\n",
       "      <td>Male</td>\n",
       "      <td>0</td>\n",
       "      <td>0</td>\n",
       "      <td>40</td>\n",
       "      <td>United-States</td>\n",
       "      <td>&lt;=50K</td>\n",
       "    </tr>\n",
       "    <tr>\n",
       "      <th>4</th>\n",
       "      <td>28</td>\n",
       "      <td>Private</td>\n",
       "      <td>338409</td>\n",
       "      <td>Bachelors</td>\n",
       "      <td>13</td>\n",
       "      <td>Married-civ-spouse</td>\n",
       "      <td>Prof-specialty</td>\n",
       "      <td>Wife</td>\n",
       "      <td>Black</td>\n",
       "      <td>Female</td>\n",
       "      <td>0</td>\n",
       "      <td>0</td>\n",
       "      <td>40</td>\n",
       "      <td>Cuba</td>\n",
       "      <td>&lt;=50K</td>\n",
       "    </tr>\n",
       "  </tbody>\n",
       "</table>\n",
       "</div>"
      ],
      "text/plain": [
       "   age          workclass   fnlwgt   education   education-num   \n",
       "0   39          State-gov    77516   Bachelors              13  \\\n",
       "1   50   Self-emp-not-inc    83311   Bachelors              13   \n",
       "2   38            Private   215646     HS-grad               9   \n",
       "3   53            Private   234721        11th               7   \n",
       "4   28            Private   338409   Bachelors              13   \n",
       "\n",
       "        marital-status          occupation    relationship    race      sex   \n",
       "0        Never-married        Adm-clerical   Not-in-family   White     Male  \\\n",
       "1   Married-civ-spouse     Exec-managerial         Husband   White     Male   \n",
       "2             Divorced   Handlers-cleaners   Not-in-family   White     Male   \n",
       "3   Married-civ-spouse   Handlers-cleaners         Husband   Black     Male   \n",
       "4   Married-civ-spouse      Prof-specialty            Wife   Black   Female   \n",
       "\n",
       "    capital-gain   capital-loss   hours-per-week  native-country  income  \n",
       "0           2174              0               40   United-States   <=50K  \n",
       "1              0              0               13   United-States   <=50K  \n",
       "2              0              0               40   United-States   <=50K  \n",
       "3              0              0               40   United-States   <=50K  \n",
       "4              0              0               40            Cuba   <=50K  "
      ]
     },
     "execution_count": 2,
     "metadata": {},
     "output_type": "execute_result"
    }
   ],
   "source": [
    "dataset = pd.read_csv('adult.data', delimiter=',')\n",
    "dataset.head()"
   ]
  },
  {
   "cell_type": "code",
   "execution_count": 3,
   "metadata": {},
   "outputs": [],
   "source": [
    "X_labels = dataset.iloc[:, [1,3,4,5,6,7,8,9,13]].values\n",
    "X_continious = dataset.iloc[:, [0,2,10,11,12]].values\n",
    "y = dataset.iloc[:, -1].values"
   ]
  },
  {
   "cell_type": "code",
   "execution_count": 4,
   "metadata": {},
   "outputs": [],
   "source": [
    "le_y = LabelEncoder()\n",
    "y = le_y.fit_transform(y)"
   ]
  },
  {
   "cell_type": "code",
   "execution_count": 5,
   "metadata": {},
   "outputs": [],
   "source": [
    "le_X = LabelEncoder()\n",
    "X_labels = pd.DataFrame(X_labels)\n",
    "X_labels = X_labels.apply(le_X.fit_transform)"
   ]
  },
  {
   "cell_type": "code",
   "execution_count": 6,
   "metadata": {},
   "outputs": [
    {
     "data": {
      "text/html": [
       "<div>\n",
       "<style scoped>\n",
       "    .dataframe tbody tr th:only-of-type {\n",
       "        vertical-align: middle;\n",
       "    }\n",
       "\n",
       "    .dataframe tbody tr th {\n",
       "        vertical-align: top;\n",
       "    }\n",
       "\n",
       "    .dataframe thead th {\n",
       "        text-align: right;\n",
       "    }\n",
       "</style>\n",
       "<table border=\"1\" class=\"dataframe\">\n",
       "  <thead>\n",
       "    <tr style=\"text-align: right;\">\n",
       "      <th></th>\n",
       "      <th>0</th>\n",
       "      <th>1</th>\n",
       "      <th>2</th>\n",
       "      <th>3</th>\n",
       "      <th>4</th>\n",
       "      <th>5</th>\n",
       "      <th>6</th>\n",
       "      <th>7</th>\n",
       "      <th>8</th>\n",
       "    </tr>\n",
       "  </thead>\n",
       "  <tbody>\n",
       "    <tr>\n",
       "      <th>0</th>\n",
       "      <td>7</td>\n",
       "      <td>9</td>\n",
       "      <td>12</td>\n",
       "      <td>4</td>\n",
       "      <td>1</td>\n",
       "      <td>1</td>\n",
       "      <td>4</td>\n",
       "      <td>1</td>\n",
       "      <td>39</td>\n",
       "    </tr>\n",
       "    <tr>\n",
       "      <th>1</th>\n",
       "      <td>6</td>\n",
       "      <td>9</td>\n",
       "      <td>12</td>\n",
       "      <td>2</td>\n",
       "      <td>4</td>\n",
       "      <td>0</td>\n",
       "      <td>4</td>\n",
       "      <td>1</td>\n",
       "      <td>39</td>\n",
       "    </tr>\n",
       "    <tr>\n",
       "      <th>2</th>\n",
       "      <td>4</td>\n",
       "      <td>11</td>\n",
       "      <td>8</td>\n",
       "      <td>0</td>\n",
       "      <td>6</td>\n",
       "      <td>1</td>\n",
       "      <td>4</td>\n",
       "      <td>1</td>\n",
       "      <td>39</td>\n",
       "    </tr>\n",
       "    <tr>\n",
       "      <th>3</th>\n",
       "      <td>4</td>\n",
       "      <td>1</td>\n",
       "      <td>6</td>\n",
       "      <td>2</td>\n",
       "      <td>6</td>\n",
       "      <td>0</td>\n",
       "      <td>2</td>\n",
       "      <td>1</td>\n",
       "      <td>39</td>\n",
       "    </tr>\n",
       "    <tr>\n",
       "      <th>4</th>\n",
       "      <td>4</td>\n",
       "      <td>9</td>\n",
       "      <td>12</td>\n",
       "      <td>2</td>\n",
       "      <td>10</td>\n",
       "      <td>5</td>\n",
       "      <td>2</td>\n",
       "      <td>0</td>\n",
       "      <td>5</td>\n",
       "    </tr>\n",
       "    <tr>\n",
       "      <th>...</th>\n",
       "      <td>...</td>\n",
       "      <td>...</td>\n",
       "      <td>...</td>\n",
       "      <td>...</td>\n",
       "      <td>...</td>\n",
       "      <td>...</td>\n",
       "      <td>...</td>\n",
       "      <td>...</td>\n",
       "      <td>...</td>\n",
       "    </tr>\n",
       "    <tr>\n",
       "      <th>32556</th>\n",
       "      <td>4</td>\n",
       "      <td>7</td>\n",
       "      <td>11</td>\n",
       "      <td>2</td>\n",
       "      <td>13</td>\n",
       "      <td>5</td>\n",
       "      <td>4</td>\n",
       "      <td>0</td>\n",
       "      <td>39</td>\n",
       "    </tr>\n",
       "    <tr>\n",
       "      <th>32557</th>\n",
       "      <td>4</td>\n",
       "      <td>11</td>\n",
       "      <td>8</td>\n",
       "      <td>2</td>\n",
       "      <td>7</td>\n",
       "      <td>0</td>\n",
       "      <td>4</td>\n",
       "      <td>1</td>\n",
       "      <td>39</td>\n",
       "    </tr>\n",
       "    <tr>\n",
       "      <th>32558</th>\n",
       "      <td>4</td>\n",
       "      <td>11</td>\n",
       "      <td>8</td>\n",
       "      <td>6</td>\n",
       "      <td>1</td>\n",
       "      <td>4</td>\n",
       "      <td>4</td>\n",
       "      <td>0</td>\n",
       "      <td>39</td>\n",
       "    </tr>\n",
       "    <tr>\n",
       "      <th>32559</th>\n",
       "      <td>4</td>\n",
       "      <td>11</td>\n",
       "      <td>8</td>\n",
       "      <td>4</td>\n",
       "      <td>1</td>\n",
       "      <td>3</td>\n",
       "      <td>4</td>\n",
       "      <td>1</td>\n",
       "      <td>39</td>\n",
       "    </tr>\n",
       "    <tr>\n",
       "      <th>32560</th>\n",
       "      <td>5</td>\n",
       "      <td>11</td>\n",
       "      <td>8</td>\n",
       "      <td>2</td>\n",
       "      <td>4</td>\n",
       "      <td>5</td>\n",
       "      <td>4</td>\n",
       "      <td>0</td>\n",
       "      <td>39</td>\n",
       "    </tr>\n",
       "  </tbody>\n",
       "</table>\n",
       "<p>32561 rows × 9 columns</p>\n",
       "</div>"
      ],
      "text/plain": [
       "       0   1   2  3   4  5  6  7   8\n",
       "0      7   9  12  4   1  1  4  1  39\n",
       "1      6   9  12  2   4  0  4  1  39\n",
       "2      4  11   8  0   6  1  4  1  39\n",
       "3      4   1   6  2   6  0  2  1  39\n",
       "4      4   9  12  2  10  5  2  0   5\n",
       "...   ..  ..  .. ..  .. .. .. ..  ..\n",
       "32556  4   7  11  2  13  5  4  0  39\n",
       "32557  4  11   8  2   7  0  4  1  39\n",
       "32558  4  11   8  6   1  4  4  0  39\n",
       "32559  4  11   8  4   1  3  4  1  39\n",
       "32560  5  11   8  2   4  5  4  0  39\n",
       "\n",
       "[32561 rows x 9 columns]"
      ]
     },
     "execution_count": 6,
     "metadata": {},
     "output_type": "execute_result"
    }
   ],
   "source": [
    "X_labels"
   ]
  },
  {
   "cell_type": "code",
   "execution_count": 7,
   "metadata": {},
   "outputs": [],
   "source": [
    "X_labels = X_labels.to_numpy()"
   ]
  },
  {
   "cell_type": "code",
   "execution_count": 8,
   "metadata": {},
   "outputs": [
    {
     "data": {
      "text/plain": [
       "array([[ 7,  9, 12, ...,  4,  1, 39],\n",
       "       [ 6,  9, 12, ...,  4,  1, 39],\n",
       "       [ 4, 11,  8, ...,  4,  1, 39],\n",
       "       ...,\n",
       "       [ 4, 11,  8, ...,  4,  0, 39],\n",
       "       [ 4, 11,  8, ...,  4,  1, 39],\n",
       "       [ 5, 11,  8, ...,  4,  0, 39]])"
      ]
     },
     "execution_count": 8,
     "metadata": {},
     "output_type": "execute_result"
    }
   ],
   "source": [
    "X_labels"
   ]
  },
  {
   "cell_type": "code",
   "execution_count": 9,
   "metadata": {},
   "outputs": [],
   "source": [
    "X = np.c_[X_continious, X_labels]"
   ]
  },
  {
   "cell_type": "code",
   "execution_count": 10,
   "metadata": {},
   "outputs": [
    {
     "data": {
      "text/plain": [
       "array([   39, 77516,  2174,     0,    40,     7,     9,    12,     4,\n",
       "           1,     1,     4,     1,    39], dtype=int64)"
      ]
     },
     "execution_count": 10,
     "metadata": {},
     "output_type": "execute_result"
    }
   ],
   "source": [
    "X[0]"
   ]
  },
  {
   "cell_type": "code",
   "execution_count": 11,
   "metadata": {},
   "outputs": [],
   "source": [
    "X_train, X_test, y_train, y_test = train_test_split(X, y, test_size=0.2, random_state=1)"
   ]
  },
  {
   "cell_type": "code",
   "execution_count": 12,
   "metadata": {},
   "outputs": [],
   "source": [
    "results = []"
   ]
  },
  {
   "cell_type": "markdown",
   "metadata": {},
   "source": [
    "# CART gini"
   ]
  },
  {
   "cell_type": "code",
   "execution_count": 13,
   "metadata": {},
   "outputs": [
    {
     "name": "stdout",
     "output_type": "stream",
     "text": [
      "0.8159066482419776\n"
     ]
    }
   ],
   "source": [
    "criterion = 'gini'\n",
    "\n",
    "classifier = DecisionTreeClassifier(criterion=criterion, random_state=1)\n",
    "classifier.fit(X_train, y_train)\n",
    "y_pred = classifier.predict(X_test)\n",
    "\n",
    "acc = accuracy_score(y_test, y_pred)\n",
    "print(acc)\n",
    "results.append({\n",
    "    'classifier': 'CART', \n",
    "    'criterion': criterion,\n",
    "    'accuracy_score': acc\n",
    "    })"
   ]
  },
  {
   "cell_type": "markdown",
   "metadata": {},
   "source": [
    "# ID3 C4.5 entropy"
   ]
  },
  {
   "cell_type": "code",
   "execution_count": 14,
   "metadata": {},
   "outputs": [
    {
     "name": "stdout",
     "output_type": "stream",
     "text": [
      "0.8128358667280823\n"
     ]
    }
   ],
   "source": [
    "criterion = 'entropy'\n",
    "\n",
    "classifier = DecisionTreeClassifier(criterion=criterion, random_state=1)\n",
    "classifier.fit(X_train, y_train)\n",
    "y_pred = classifier.predict(X_test)\n",
    "\n",
    "acc = accuracy_score(y_test, y_pred)\n",
    "print(acc)\n",
    "results.append({\n",
    "    'classifier': 'C4.5',\n",
    "    'criterion': criterion,\n",
    "    'accuracy_score': acc\n",
    "    })"
   ]
  },
  {
   "cell_type": "markdown",
   "metadata": {},
   "source": [
    "# Extra Trees Classifier"
   ]
  },
  {
   "cell_type": "code",
   "execution_count": 15,
   "metadata": {},
   "outputs": [
    {
     "name": "stdout",
     "output_type": "stream",
     "text": [
      "0.855366190695532\n"
     ]
    }
   ],
   "source": [
    "criterions = ['gini', 'entropy', 'log_loss']\n",
    "n_estimators_arr = [10, 20, 50, 100, 150]\n",
    "etc_results = []\n",
    "\n",
    "for criterion in criterions:\n",
    "    for n_estimators in n_estimators_arr:\n",
    "        classifier = ExtraTreesClassifier(criterion=criterion, n_estimators=n_estimators, random_state=1)\n",
    "        classifier.fit(X_train, y_train)\n",
    "        y_pred = classifier.predict(X_test)\n",
    "        etc_results.append({\n",
    "            'criterion': criterion,\n",
    "            'n_estimators': n_estimators, \n",
    "            'accuracy_score': accuracy_score(y_test, y_pred)})\n",
    "\n",
    "result = max(etc_results, key=lambda x: x['accuracy_score'])\n",
    "print(result['accuracy_score'])\n",
    "result['classifier'] = 'Extra Trees Classifier'\n",
    "results.append(result)"
   ]
  },
  {
   "cell_type": "markdown",
   "metadata": {},
   "source": [
    "# Gradient Boosting"
   ]
  },
  {
   "cell_type": "code",
   "execution_count": 16,
   "metadata": {},
   "outputs": [
    {
     "name": "stdout",
     "output_type": "stream",
     "text": [
      "0.8728696453247351\n"
     ]
    }
   ],
   "source": [
    "loss_arr = ['log_loss']\n",
    "learning_rate_arr = [0.1, 0.2, 1]\n",
    "n_estimators_arr = [50, 100, 150] #this param need to change\n",
    "criterion_arr = ['friedman_mse', 'squared_error']\n",
    "max_depth_arr = [2, 3, 4]\n",
    "gb_results = []\n",
    "\n",
    "for loss in loss_arr:\n",
    "    for learning_rate in learning_rate_arr:\n",
    "        for n_estimators in n_estimators_arr:\n",
    "            for criterion in criterion_arr:\n",
    "                for max_depth in max_depth_arr:\n",
    "                    classifier = GradientBoostingClassifier(loss=loss, n_estimators=n_estimators, learning_rate=learning_rate, criterion=criterion, max_depth=max_depth, random_state=1)\n",
    "                    classifier.fit(X_train, y_train)\n",
    "                    y_pred = classifier.predict(X_test)\n",
    "                    gb_results.append({\n",
    "                        'loss': loss,\n",
    "                        'learning_rate': learning_rate,\n",
    "                        'n_estimators': n_estimators,\n",
    "                        'criterion': criterion,\n",
    "                        'max_depth': max_depth,\n",
    "                        'accuracy_score': accuracy_score(y_test, y_pred)\n",
    "                    })\n",
    "\n",
    "result = max(gb_results, key=lambda x: x['accuracy_score'])\n",
    "print(result['accuracy_score'])\n",
    "result['classifier'] = 'Gradient Boosting'\n",
    "results.append(result)"
   ]
  },
  {
   "cell_type": "markdown",
   "metadata": {},
   "source": [
    "# Hist Gradient Boosting"
   ]
  },
  {
   "cell_type": "code",
   "execution_count": 17,
   "metadata": {},
   "outputs": [
    {
     "name": "stdout",
     "output_type": "stream",
     "text": [
      "0.8739444188545985\n"
     ]
    }
   ],
   "source": [
    "learning_rate_arr = [0.1, 0.2, 0.5, 1]\n",
    "max_iter_arr = [10, 50, 100, 150]\n",
    "hgb_results = []\n",
    "\n",
    "for learning_rate in learning_rate_arr:\n",
    "    for max_iter in max_iter_arr:\n",
    "        classifier = HistGradientBoostingClassifier(learning_rate=learning_rate, max_iter=max_iter, random_state=1)\n",
    "        classifier.fit(X_train, y_train)\n",
    "        y_pred = classifier.predict(X_test)\n",
    "        hgb_results.append({\n",
    "            'learning_rate': learning_rate,\n",
    "            'max_iter': max_iter,\n",
    "            'accuracy_score': accuracy_score(y_test, y_pred)\n",
    "        })\n",
    "\n",
    "result = max(hgb_results, key=lambda x: x['accuracy_score'])\n",
    "print(result['accuracy_score'])\n",
    "result['classifier'] = 'Hist Gradient Boosting'\n",
    "results.append(result)"
   ]
  },
  {
   "cell_type": "markdown",
   "metadata": {},
   "source": [
    "# Random Forest gini"
   ]
  },
  {
   "cell_type": "code",
   "execution_count": 18,
   "metadata": {},
   "outputs": [
    {
     "name": "stdout",
     "output_type": "stream",
     "text": [
      "0.8642714570858283\n"
     ]
    }
   ],
   "source": [
    "n_estimators_arr = [10, 20, 50, 100, 150]\n",
    "criterion_arr = ['gini', 'entropy']\n",
    "rf_results = []\n",
    "\n",
    "for n_estimators in n_estimators_arr:\n",
    "    for criterion in criterion_arr:\n",
    "        classifier = RandomForestClassifier(n_estimators=n_estimators, criterion=criterion, random_state=1)\n",
    "        classifier.fit(X_train, y_train)\n",
    "        y_pred = classifier.predict(X_test)\n",
    "        rf_results.append({\n",
    "            'n_estimators': n_estimators,\n",
    "            'criterion': criterion,\n",
    "            'accuracy_score': accuracy_score(y_test, y_pred)\n",
    "        })\n",
    "\n",
    "result = max(rf_results, key=lambda x: x['accuracy_score'])\n",
    "print(result['accuracy_score'])\n",
    "result['classifier'] = 'Random Forest'\n",
    "results.append(result)"
   ]
  },
  {
   "cell_type": "markdown",
   "metadata": {},
   "source": [
    "# Adaboost"
   ]
  },
  {
   "cell_type": "code",
   "execution_count": 19,
   "metadata": {},
   "outputs": [
    {
     "name": "stdout",
     "output_type": "stream",
     "text": [
      "0.8687240902809765\n"
     ]
    }
   ],
   "source": [
    "n_estimators_arr = [10, 20, 50, 100, 150]\n",
    "learning_rate_arr = [0.1, 0.2, 0.5, 1]\n",
    "algorithm_arr = ['SAMME', 'SAMME.R']\n",
    "ada_results = []\n",
    "\n",
    "for n_estimators in n_estimators_arr:\n",
    "    for learning_rate in learning_rate_arr:\n",
    "        for algorithm in algorithm_arr:\n",
    "            classifier = AdaBoostClassifier(n_estimators=n_estimators, learning_rate=learning_rate, algorithm=algorithm, random_state=0)\n",
    "            classifier.fit(X_train, y_train)\n",
    "            y_pred = classifier.predict(X_test)\n",
    "            ada_results.append({\n",
    "                'n_estimators': n_estimators,\n",
    "                'learning_rate': learning_rate,\n",
    "                'algorithm': algorithm,\n",
    "                'accuracy_score': accuracy_score(y_test, y_pred)\n",
    "            })\n",
    "\n",
    "result = max(ada_results, key=lambda x: x['accuracy_score'])\n",
    "print(result['accuracy_score'])\n",
    "result['classifier'] = 'Adaboost'\n",
    "results.append(result)"
   ]
  },
  {
   "cell_type": "code",
   "execution_count": 20,
   "metadata": {},
   "outputs": [
    {
     "data": {
      "text/plain": [
       "[{'classifier': 'CART',\n",
       "  'criterion': 'gini',\n",
       "  'accuracy_score': 0.8159066482419776},\n",
       " {'classifier': 'C4.5',\n",
       "  'criterion': 'entropy',\n",
       "  'accuracy_score': 0.8128358667280823},\n",
       " {'criterion': 'entropy',\n",
       "  'n_estimators': 150,\n",
       "  'accuracy_score': 0.855366190695532,\n",
       "  'classifier': 'Extra Trees Classifier'},\n",
       " {'loss': 'log_loss',\n",
       "  'learning_rate': 0.2,\n",
       "  'n_estimators': 100,\n",
       "  'criterion': 'squared_error',\n",
       "  'max_depth': 4,\n",
       "  'accuracy_score': 0.8728696453247351,\n",
       "  'classifier': 'Gradient Boosting'},\n",
       " {'learning_rate': 0.2,\n",
       "  'max_iter': 50,\n",
       "  'accuracy_score': 0.8739444188545985,\n",
       "  'classifier': 'Hist Gradient Boosting'},\n",
       " {'n_estimators': 150,\n",
       "  'criterion': 'gini',\n",
       "  'accuracy_score': 0.8642714570858283,\n",
       "  'classifier': 'Random Forest'},\n",
       " {'n_estimators': 150,\n",
       "  'learning_rate': 1,\n",
       "  'algorithm': 'SAMME.R',\n",
       "  'accuracy_score': 0.8687240902809765,\n",
       "  'classifier': 'Adaboost'}]"
      ]
     },
     "execution_count": 20,
     "metadata": {},
     "output_type": "execute_result"
    }
   ],
   "source": [
    "results"
   ]
  },
  {
   "cell_type": "code",
   "execution_count": 21,
   "metadata": {},
   "outputs": [
    {
     "name": "stdout",
     "output_type": "stream",
     "text": [
      "               classifier      criterion  accuracy_score  n_estimators   \n",
      "1                    C4.5        entropy        0.812836           NaN  \\\n",
      "0                    CART           gini        0.815907           NaN   \n",
      "2  Extra Trees Classifier        entropy        0.855366         150.0   \n",
      "5           Random Forest           gini        0.864271         150.0   \n",
      "6                Adaboost            NaN        0.868724         150.0   \n",
      "3       Gradient Boosting  squared_error        0.872870         100.0   \n",
      "4  Hist Gradient Boosting            NaN        0.873944           NaN   \n",
      "\n",
      "       loss  learning_rate  max_depth  max_iter algorithm  \n",
      "1       NaN            NaN        NaN       NaN       NaN  \n",
      "0       NaN            NaN        NaN       NaN       NaN  \n",
      "2       NaN            NaN        NaN       NaN       NaN  \n",
      "5       NaN            NaN        NaN       NaN       NaN  \n",
      "6       NaN            1.0        NaN       NaN   SAMME.R  \n",
      "3  log_loss            0.2        4.0       NaN       NaN  \n",
      "4       NaN            0.2        NaN      50.0       NaN  \n"
     ]
    },
    {
     "data": {
      "image/png": "[encoded data removed]",
      "text/plain": [
       "<Figure size 640x480 with 1 Axes>"
      ]
     },
     "metadata": {},
     "output_type": "display_data"
    }
   ],
   "source": [
    "plt.rcdefaults()\n",
    "fig, ax = plt.subplots()\n",
    "\n",
    "df = pd.DataFrame(results)\n",
    "\n",
    "df_sorted = df.sort_values('accuracy_score')\n",
    "\n",
    "ax.barh('classifier', 'accuracy_score', data=df_sorted)\n",
    "for i in range(len(results)):\n",
    "    ax.text(results[i]['accuracy_score'] * 0.9, results[i]['classifier'], round(results[i]['accuracy_score'], 4), ha='center', color='black')\n"
   ]
  }
 ],
 "metadata": {
  "kernelspec": {
   "display_name": "Python 3.10.7 ('thesis_venv': venv)",
   "language": "python",
   "name": "python3"
  },
  "language_info": {
   "codemirror_mode": {
    "name": "ipython",
    "version": 3
   },
   "file_extension": ".py",
   "mimetype": "text/x-python",
   "name": "python",
   "nbconvert_exporter": "python",
   "pygments_lexer": "ipython3",
   "version": "3.10.7"
  },
  "orig_nbformat": 4,
  "vscode": {
   "interpreter": {
    "hash": "6442ccbef71e3a52891e24f5e2ea91ce4ad765b6c4cfe5751cd7f175b2f3dc2f"
   }
  }
 },
 "nbformat": 4,
 "nbformat_minor": 2
}
