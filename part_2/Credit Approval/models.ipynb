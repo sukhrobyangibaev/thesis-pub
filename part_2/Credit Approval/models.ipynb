{
 "cells": [
  {
   "cell_type": "code",
   "execution_count": 16,
   "metadata": {},
   "outputs": [],
   "source": [
    "import pandas as pd\n",
    "import numpy as np\n",
    "from sklearn.model_selection import train_test_split\n",
    "from sklearn.preprocessing import LabelEncoder, StandardScaler\n",
    "from sklearn import tree\n",
    "from sklearn.tree import DecisionTreeClassifier\n",
    "from sklearn.ensemble import ExtraTreesClassifier, GradientBoostingClassifier, HistGradientBoostingClassifier, RandomForestClassifier, AdaBoostClassifier\n",
    "from sklearn.metrics import accuracy_score, confusion_matrix\n",
    "import matplotlib.pyplot as plt"
   ]
  },
  {
   "cell_type": "code",
   "execution_count": 17,
   "metadata": {},
   "outputs": [
    {
     "name": "stdout",
     "output_type": "stream",
     "text": [
      "                0        1.25          01            0.1\n",
      "count  689.000000  689.000000  689.000000     689.000000\n",
      "mean     4.765631    2.224819    2.402032    1018.862119\n",
      "std      4.978470    3.348739    4.866180    5213.743149\n",
      "min      0.000000    0.000000    0.000000       0.000000\n",
      "25%      1.000000    0.165000    0.000000       0.000000\n",
      "50%      2.750000    1.000000    0.000000       5.000000\n",
      "75%      7.250000    2.625000    3.000000     396.000000\n",
      "max     28.000000   28.500000   67.000000  100000.000000\n"
     ]
    },
    {
     "data": {
      "text/html": [
       "<div>\n",
       "<style scoped>\n",
       "    .dataframe tbody tr th:only-of-type {\n",
       "        vertical-align: middle;\n",
       "    }\n",
       "\n",
       "    .dataframe tbody tr th {\n",
       "        vertical-align: top;\n",
       "    }\n",
       "\n",
       "    .dataframe thead th {\n",
       "        text-align: right;\n",
       "    }\n",
       "</style>\n",
       "<table border=\"1\" class=\"dataframe\">\n",
       "  <thead>\n",
       "    <tr style=\"text-align: right;\">\n",
       "      <th></th>\n",
       "      <th>0</th>\n",
       "      <th>1.25</th>\n",
       "      <th>01</th>\n",
       "      <th>0.1</th>\n",
       "    </tr>\n",
       "  </thead>\n",
       "  <tbody>\n",
       "    <tr>\n",
       "      <th>count</th>\n",
       "      <td>652.000000</td>\n",
       "      <td>652.000000</td>\n",
       "      <td>652.000000</td>\n",
       "      <td>652.000000</td>\n",
       "    </tr>\n",
       "    <tr>\n",
       "      <th>mean</th>\n",
       "      <td>4.836940</td>\n",
       "      <td>2.245821</td>\n",
       "      <td>2.504601</td>\n",
       "      <td>1015.315951</td>\n",
       "    </tr>\n",
       "    <tr>\n",
       "      <th>std</th>\n",
       "      <td>5.027369</td>\n",
       "      <td>3.373483</td>\n",
       "      <td>4.971962</td>\n",
       "      <td>5257.161359</td>\n",
       "    </tr>\n",
       "    <tr>\n",
       "      <th>min</th>\n",
       "      <td>0.000000</td>\n",
       "      <td>0.000000</td>\n",
       "      <td>0.000000</td>\n",
       "      <td>0.000000</td>\n",
       "    </tr>\n",
       "    <tr>\n",
       "      <th>25%</th>\n",
       "      <td>1.040000</td>\n",
       "      <td>0.165000</td>\n",
       "      <td>0.000000</td>\n",
       "      <td>0.000000</td>\n",
       "    </tr>\n",
       "    <tr>\n",
       "      <th>50%</th>\n",
       "      <td>2.855000</td>\n",
       "      <td>1.000000</td>\n",
       "      <td>0.000000</td>\n",
       "      <td>5.000000</td>\n",
       "    </tr>\n",
       "    <tr>\n",
       "      <th>75%</th>\n",
       "      <td>7.500000</td>\n",
       "      <td>2.625000</td>\n",
       "      <td>3.000000</td>\n",
       "      <td>400.000000</td>\n",
       "    </tr>\n",
       "    <tr>\n",
       "      <th>max</th>\n",
       "      <td>28.000000</td>\n",
       "      <td>28.500000</td>\n",
       "      <td>67.000000</td>\n",
       "      <td>100000.000000</td>\n",
       "    </tr>\n",
       "  </tbody>\n",
       "</table>\n",
       "</div>"
      ],
      "text/plain": [
       "                0        1.25          01            0.1\n",
       "count  652.000000  652.000000  652.000000     652.000000\n",
       "mean     4.836940    2.245821    2.504601    1015.315951\n",
       "std      5.027369    3.373483    4.971962    5257.161359\n",
       "min      0.000000    0.000000    0.000000       0.000000\n",
       "25%      1.040000    0.165000    0.000000       0.000000\n",
       "50%      2.855000    1.000000    0.000000       5.000000\n",
       "75%      7.500000    2.625000    3.000000     400.000000\n",
       "max     28.000000   28.500000   67.000000  100000.000000"
      ]
     },
     "execution_count": 17,
     "metadata": {},
     "output_type": "execute_result"
    }
   ],
   "source": [
    "dataset = pd.read_csv('crx.data', delimiter=',')\n",
    "print(dataset.describe())\n",
    "wrong_rows = dataset[dataset.values == '?'].index\n",
    "dataset = dataset.drop(wrong_rows)\n",
    "dataset.describe()"
   ]
  },
  {
   "cell_type": "code",
   "execution_count": 18,
   "metadata": {},
   "outputs": [],
   "source": [
    "X_label = dataset.iloc[:, [0,3,4,5,6,8,9,11,12]]\n",
    "X_num = dataset.iloc[:, [1,2,7,10,13,14]].values\n",
    "y = dataset.iloc[:, -1].values"
   ]
  },
  {
   "cell_type": "code",
   "execution_count": 19,
   "metadata": {},
   "outputs": [],
   "source": [
    "le_y = LabelEncoder()\n",
    "y = le_y.fit_transform(y)"
   ]
  },
  {
   "cell_type": "code",
   "execution_count": 20,
   "metadata": {},
   "outputs": [],
   "source": [
    "le_X = LabelEncoder()\n",
    "X_label = X_label.apply(le_X.fit_transform)"
   ]
  },
  {
   "cell_type": "code",
   "execution_count": 21,
   "metadata": {},
   "outputs": [
    {
     "data": {
      "text/html": [
       "<div>\n",
       "<style scoped>\n",
       "    .dataframe tbody tr th:only-of-type {\n",
       "        vertical-align: middle;\n",
       "    }\n",
       "\n",
       "    .dataframe tbody tr th {\n",
       "        vertical-align: top;\n",
       "    }\n",
       "\n",
       "    .dataframe thead th {\n",
       "        text-align: right;\n",
       "    }\n",
       "</style>\n",
       "<table border=\"1\" class=\"dataframe\">\n",
       "  <thead>\n",
       "    <tr style=\"text-align: right;\">\n",
       "      <th></th>\n",
       "      <th>b</th>\n",
       "      <th>u</th>\n",
       "      <th>g</th>\n",
       "      <th>w</th>\n",
       "      <th>v</th>\n",
       "      <th>t</th>\n",
       "      <th>t.1</th>\n",
       "      <th>f</th>\n",
       "      <th>g.1</th>\n",
       "    </tr>\n",
       "  </thead>\n",
       "  <tbody>\n",
       "    <tr>\n",
       "      <th>0</th>\n",
       "      <td>0</td>\n",
       "      <td>1</td>\n",
       "      <td>0</td>\n",
       "      <td>10</td>\n",
       "      <td>3</td>\n",
       "      <td>1</td>\n",
       "      <td>1</td>\n",
       "      <td>0</td>\n",
       "      <td>0</td>\n",
       "    </tr>\n",
       "    <tr>\n",
       "      <th>1</th>\n",
       "      <td>0</td>\n",
       "      <td>1</td>\n",
       "      <td>0</td>\n",
       "      <td>10</td>\n",
       "      <td>3</td>\n",
       "      <td>1</td>\n",
       "      <td>0</td>\n",
       "      <td>0</td>\n",
       "      <td>0</td>\n",
       "    </tr>\n",
       "    <tr>\n",
       "      <th>2</th>\n",
       "      <td>1</td>\n",
       "      <td>1</td>\n",
       "      <td>0</td>\n",
       "      <td>12</td>\n",
       "      <td>7</td>\n",
       "      <td>1</td>\n",
       "      <td>1</td>\n",
       "      <td>1</td>\n",
       "      <td>0</td>\n",
       "    </tr>\n",
       "    <tr>\n",
       "      <th>3</th>\n",
       "      <td>1</td>\n",
       "      <td>1</td>\n",
       "      <td>0</td>\n",
       "      <td>12</td>\n",
       "      <td>7</td>\n",
       "      <td>1</td>\n",
       "      <td>0</td>\n",
       "      <td>0</td>\n",
       "      <td>2</td>\n",
       "    </tr>\n",
       "    <tr>\n",
       "      <th>4</th>\n",
       "      <td>1</td>\n",
       "      <td>1</td>\n",
       "      <td>0</td>\n",
       "      <td>9</td>\n",
       "      <td>7</td>\n",
       "      <td>1</td>\n",
       "      <td>0</td>\n",
       "      <td>1</td>\n",
       "      <td>0</td>\n",
       "    </tr>\n",
       "    <tr>\n",
       "      <th>...</th>\n",
       "      <td>...</td>\n",
       "      <td>...</td>\n",
       "      <td>...</td>\n",
       "      <td>...</td>\n",
       "      <td>...</td>\n",
       "      <td>...</td>\n",
       "      <td>...</td>\n",
       "      <td>...</td>\n",
       "      <td>...</td>\n",
       "    </tr>\n",
       "    <tr>\n",
       "      <th>684</th>\n",
       "      <td>1</td>\n",
       "      <td>2</td>\n",
       "      <td>2</td>\n",
       "      <td>4</td>\n",
       "      <td>3</td>\n",
       "      <td>0</td>\n",
       "      <td>0</td>\n",
       "      <td>0</td>\n",
       "      <td>0</td>\n",
       "    </tr>\n",
       "    <tr>\n",
       "      <th>685</th>\n",
       "      <td>0</td>\n",
       "      <td>1</td>\n",
       "      <td>0</td>\n",
       "      <td>1</td>\n",
       "      <td>7</td>\n",
       "      <td>0</td>\n",
       "      <td>1</td>\n",
       "      <td>1</td>\n",
       "      <td>0</td>\n",
       "    </tr>\n",
       "    <tr>\n",
       "      <th>686</th>\n",
       "      <td>0</td>\n",
       "      <td>2</td>\n",
       "      <td>2</td>\n",
       "      <td>5</td>\n",
       "      <td>2</td>\n",
       "      <td>0</td>\n",
       "      <td>1</td>\n",
       "      <td>1</td>\n",
       "      <td>0</td>\n",
       "    </tr>\n",
       "    <tr>\n",
       "      <th>687</th>\n",
       "      <td>1</td>\n",
       "      <td>1</td>\n",
       "      <td>0</td>\n",
       "      <td>0</td>\n",
       "      <td>7</td>\n",
       "      <td>0</td>\n",
       "      <td>0</td>\n",
       "      <td>0</td>\n",
       "      <td>0</td>\n",
       "    </tr>\n",
       "    <tr>\n",
       "      <th>688</th>\n",
       "      <td>1</td>\n",
       "      <td>1</td>\n",
       "      <td>0</td>\n",
       "      <td>1</td>\n",
       "      <td>3</td>\n",
       "      <td>0</td>\n",
       "      <td>0</td>\n",
       "      <td>1</td>\n",
       "      <td>0</td>\n",
       "    </tr>\n",
       "  </tbody>\n",
       "</table>\n",
       "<p>652 rows × 9 columns</p>\n",
       "</div>"
      ],
      "text/plain": [
       "     b  u  g   w  v  t  t.1  f  g.1\n",
       "0    0  1  0  10  3  1    1  0    0\n",
       "1    0  1  0  10  3  1    0  0    0\n",
       "2    1  1  0  12  7  1    1  1    0\n",
       "3    1  1  0  12  7  1    0  0    2\n",
       "4    1  1  0   9  7  1    0  1    0\n",
       "..  .. .. ..  .. .. ..  ... ..  ...\n",
       "684  1  2  2   4  3  0    0  0    0\n",
       "685  0  1  0   1  7  0    1  1    0\n",
       "686  0  2  2   5  2  0    1  1    0\n",
       "687  1  1  0   0  7  0    0  0    0\n",
       "688  1  1  0   1  3  0    0  1    0\n",
       "\n",
       "[652 rows x 9 columns]"
      ]
     },
     "execution_count": 21,
     "metadata": {},
     "output_type": "execute_result"
    }
   ],
   "source": [
    "X_label"
   ]
  },
  {
   "cell_type": "code",
   "execution_count": 22,
   "metadata": {},
   "outputs": [],
   "source": [
    "X_label = X_label.to_numpy()"
   ]
  },
  {
   "cell_type": "code",
   "execution_count": 23,
   "metadata": {},
   "outputs": [
    {
     "data": {
      "text/plain": [
       "array([[0, 1, 0, ..., 1, 0, 0],\n",
       "       [0, 1, 0, ..., 0, 0, 0],\n",
       "       [1, 1, 0, ..., 1, 1, 0],\n",
       "       ...,\n",
       "       [0, 2, 2, ..., 1, 1, 0],\n",
       "       [1, 1, 0, ..., 0, 0, 0],\n",
       "       [1, 1, 0, ..., 0, 1, 0]])"
      ]
     },
     "execution_count": 23,
     "metadata": {},
     "output_type": "execute_result"
    }
   ],
   "source": [
    "X_label"
   ]
  },
  {
   "cell_type": "code",
   "execution_count": 24,
   "metadata": {},
   "outputs": [],
   "source": [
    "X = np.c_[X_num, X_label]"
   ]
  },
  {
   "cell_type": "code",
   "execution_count": 25,
   "metadata": {},
   "outputs": [
    {
     "data": {
      "text/plain": [
       "array(['58.67', 4.46, 3.04, 6, '00043', 560, 0, 1, 0, 10, 3, 1, 1, 0, 0],\n",
       "      dtype=object)"
      ]
     },
     "execution_count": 25,
     "metadata": {},
     "output_type": "execute_result"
    }
   ],
   "source": [
    "X[0]"
   ]
  },
  {
   "cell_type": "code",
   "execution_count": 26,
   "metadata": {},
   "outputs": [],
   "source": [
    "X_train, X_test, y_train, y_test = train_test_split(X, y, test_size=0.2, random_state=1)"
   ]
  },
  {
   "cell_type": "code",
   "execution_count": 27,
   "metadata": {},
   "outputs": [],
   "source": [
    "results = []"
   ]
  },
  {
   "cell_type": "markdown",
   "metadata": {},
   "source": [
    "# CART gini"
   ]
  },
  {
   "cell_type": "code",
   "execution_count": 28,
   "metadata": {},
   "outputs": [
    {
     "name": "stdout",
     "output_type": "stream",
     "text": [
      "0.8778625954198473\n"
     ]
    }
   ],
   "source": [
    "criterion = 'gini'\n",
    "\n",
    "classifier = DecisionTreeClassifier(criterion=criterion, random_state=1)\n",
    "classifier.fit(X_train, y_train)\n",
    "y_pred = classifier.predict(X_test)\n",
    "\n",
    "acc = accuracy_score(y_test, y_pred)\n",
    "print(acc)\n",
    "results.append({\n",
    "    'classifier': 'CART', \n",
    "    'criterion': criterion,\n",
    "    'accuracy_score': acc\n",
    "    })"
   ]
  },
  {
   "cell_type": "markdown",
   "metadata": {},
   "source": [
    "# ID3 C4.5 entropy"
   ]
  },
  {
   "cell_type": "code",
   "execution_count": 29,
   "metadata": {},
   "outputs": [
    {
     "name": "stdout",
     "output_type": "stream",
     "text": [
      "0.7862595419847328\n"
     ]
    }
   ],
   "source": [
    "criterion = 'entropy'\n",
    "\n",
    "classifier = DecisionTreeClassifier(criterion=criterion, random_state=1)\n",
    "classifier.fit(X_train, y_train)\n",
    "y_pred = classifier.predict(X_test)\n",
    "\n",
    "acc = accuracy_score(y_test, y_pred)\n",
    "print(acc)\n",
    "results.append({\n",
    "    'classifier': 'C4.5',\n",
    "    'criterion': criterion,\n",
    "    'accuracy_score': acc\n",
    "    })"
   ]
  },
  {
   "cell_type": "markdown",
   "metadata": {},
   "source": [
    "# Extra Trees Classifier"
   ]
  },
  {
   "cell_type": "code",
   "execution_count": 30,
   "metadata": {},
   "outputs": [
    {
     "name": "stdout",
     "output_type": "stream",
     "text": [
      "0.8778625954198473\n"
     ]
    }
   ],
   "source": [
    "criterions = ['gini', 'entropy', 'log_loss']\n",
    "n_estimators_arr = [10, 20, 50, 100, 150]\n",
    "etc_results = []\n",
    "\n",
    "for criterion in criterions:\n",
    "    for n_estimators in n_estimators_arr:\n",
    "        classifier = ExtraTreesClassifier(criterion=criterion, n_estimators=n_estimators, random_state=1)\n",
    "        classifier.fit(X_train, y_train)\n",
    "        y_pred = classifier.predict(X_test)\n",
    "        etc_results.append({\n",
    "            'criterion': criterion,\n",
    "            'n_estimators': n_estimators, \n",
    "            'accuracy_score': accuracy_score(y_test, y_pred)})\n",
    "\n",
    "result = max(etc_results, key=lambda x: x['accuracy_score'])\n",
    "print(result['accuracy_score'])\n",
    "result['classifier'] = 'Extra Trees Classifier'\n",
    "results.append(result)"
   ]
  },
  {
   "cell_type": "markdown",
   "metadata": {},
   "source": [
    "# Gradient Boosting"
   ]
  },
  {
   "cell_type": "code",
   "execution_count": 31,
   "metadata": {},
   "outputs": [
    {
     "name": "stdout",
     "output_type": "stream",
     "text": [
      "0.916030534351145\n"
     ]
    }
   ],
   "source": [
    "loss_arr = ['log_loss']\n",
    "learning_rate_arr = [0.1, 0.2, 1]\n",
    "n_estimators_arr = [50, 100, 150] #this param need to change\n",
    "criterion_arr = ['friedman_mse', 'squared_error']\n",
    "max_depth_arr = [2, 3, 4]\n",
    "gb_results = []\n",
    "\n",
    "for loss in loss_arr:\n",
    "    for learning_rate in learning_rate_arr:\n",
    "        for n_estimators in n_estimators_arr:\n",
    "            for criterion in criterion_arr:\n",
    "                for max_depth in max_depth_arr:\n",
    "                    classifier = GradientBoostingClassifier(loss=loss, n_estimators=n_estimators, learning_rate=learning_rate, criterion=criterion, max_depth=max_depth, random_state=1)\n",
    "                    classifier.fit(X_train, y_train)\n",
    "                    y_pred = classifier.predict(X_test)\n",
    "                    gb_results.append({\n",
    "                        'loss': loss,\n",
    "                        'learning_rate': learning_rate,\n",
    "                        'n_estimators': n_estimators,\n",
    "                        'criterion': criterion,\n",
    "                        'max_depth': max_depth,\n",
    "                        'accuracy_score': accuracy_score(y_test, y_pred)\n",
    "                    })\n",
    "\n",
    "result = max(gb_results, key=lambda x: x['accuracy_score'])\n",
    "print(result['accuracy_score'])\n",
    "result['classifier'] = 'Gradient Boosting'\n",
    "results.append(result)"
   ]
  },
  {
   "cell_type": "markdown",
   "metadata": {},
   "source": [
    "# Hist Gradient Boosting"
   ]
  },
  {
   "cell_type": "code",
   "execution_count": 32,
   "metadata": {},
   "outputs": [
    {
     "name": "stdout",
     "output_type": "stream",
     "text": [
      "0.8931297709923665\n"
     ]
    }
   ],
   "source": [
    "learning_rate_arr = [0.1, 0.2, 0.5, 1]\n",
    "max_iter_arr = [10, 50, 100, 150]\n",
    "hgb_results = []\n",
    "\n",
    "for learning_rate in learning_rate_arr:\n",
    "    for max_iter in max_iter_arr:\n",
    "        classifier = HistGradientBoostingClassifier(learning_rate=learning_rate, max_iter=max_iter, random_state=1)\n",
    "        classifier.fit(X_train, y_train)\n",
    "        y_pred = classifier.predict(X_test)\n",
    "        hgb_results.append({\n",
    "            'learning_rate': learning_rate,\n",
    "            'max_iter': max_iter,\n",
    "            'accuracy_score': accuracy_score(y_test, y_pred)\n",
    "        })\n",
    "\n",
    "result = max(hgb_results, key=lambda x: x['accuracy_score'])\n",
    "print(result['accuracy_score'])\n",
    "result['classifier'] = 'Hist Gradient Boosting'\n",
    "results.append(result)"
   ]
  },
  {
   "cell_type": "markdown",
   "metadata": {},
   "source": [
    "# Random Forest gini"
   ]
  },
  {
   "cell_type": "code",
   "execution_count": 33,
   "metadata": {},
   "outputs": [
    {
     "name": "stdout",
     "output_type": "stream",
     "text": [
      "0.9007633587786259\n"
     ]
    }
   ],
   "source": [
    "n_estimators_arr = [10, 20, 50, 100, 150]\n",
    "criterion_arr = ['gini', 'entropy']\n",
    "rf_results = []\n",
    "\n",
    "for n_estimators in n_estimators_arr:\n",
    "    for criterion in criterion_arr:\n",
    "        classifier = RandomForestClassifier(n_estimators=n_estimators, criterion=criterion, random_state=1)\n",
    "        classifier.fit(X_train, y_train)\n",
    "        y_pred = classifier.predict(X_test)\n",
    "        rf_results.append({\n",
    "            'n_estimators': n_estimators,\n",
    "            'criterion': criterion,\n",
    "            'accuracy_score': accuracy_score(y_test, y_pred)\n",
    "        })\n",
    "\n",
    "result = max(rf_results, key=lambda x: x['accuracy_score'])\n",
    "print(result['accuracy_score'])\n",
    "result['classifier'] = 'Random Forest'\n",
    "results.append(result)"
   ]
  },
  {
   "cell_type": "markdown",
   "metadata": {},
   "source": [
    "# Adaboost"
   ]
  },
  {
   "cell_type": "code",
   "execution_count": 34,
   "metadata": {},
   "outputs": [
    {
     "name": "stdout",
     "output_type": "stream",
     "text": [
      "0.9083969465648855\n"
     ]
    }
   ],
   "source": [
    "n_estimators_arr = [10, 20, 50, 100, 150]\n",
    "learning_rate_arr = [0.1, 0.2, 0.5, 1]\n",
    "algorithm_arr = ['SAMME', 'SAMME.R']\n",
    "ada_results = []\n",
    "\n",
    "for n_estimators in n_estimators_arr:\n",
    "    for learning_rate in learning_rate_arr:\n",
    "        for algorithm in algorithm_arr:\n",
    "            classifier = AdaBoostClassifier(n_estimators=n_estimators, learning_rate=learning_rate, algorithm=algorithm, random_state=0)\n",
    "            classifier.fit(X_train, y_train)\n",
    "            y_pred = classifier.predict(X_test)\n",
    "            ada_results.append({\n",
    "                'n_estimators': n_estimators,\n",
    "                'learning_rate': learning_rate,\n",
    "                'algorithm': algorithm,\n",
    "                'accuracy_score': accuracy_score(y_test, y_pred)\n",
    "            })\n",
    "\n",
    "result = max(ada_results, key=lambda x: x['accuracy_score'])\n",
    "print(result['accuracy_score'])\n",
    "result['classifier'] = 'Adaboost'\n",
    "results.append(result)"
   ]
  },
  {
   "cell_type": "code",
   "execution_count": 35,
   "metadata": {},
   "outputs": [
    {
     "data": {
      "text/plain": [
       "[{'classifier': 'CART',\n",
       "  'criterion': 'gini',\n",
       "  'accuracy_score': 0.8778625954198473},\n",
       " {'classifier': 'C4.5',\n",
       "  'criterion': 'entropy',\n",
       "  'accuracy_score': 0.7862595419847328},\n",
       " {'criterion': 'gini',\n",
       "  'n_estimators': 150,\n",
       "  'accuracy_score': 0.8778625954198473,\n",
       "  'classifier': 'Extra Trees Classifier'},\n",
       " {'loss': 'log_loss',\n",
       "  'learning_rate': 0.2,\n",
       "  'n_estimators': 50,\n",
       "  'criterion': 'friedman_mse',\n",
       "  'max_depth': 2,\n",
       "  'accuracy_score': 0.916030534351145,\n",
       "  'classifier': 'Gradient Boosting'},\n",
       " {'learning_rate': 0.2,\n",
       "  'max_iter': 10,\n",
       "  'accuracy_score': 0.8931297709923665,\n",
       "  'classifier': 'Hist Gradient Boosting'},\n",
       " {'n_estimators': 150,\n",
       "  'criterion': 'entropy',\n",
       "  'accuracy_score': 0.9007633587786259,\n",
       "  'classifier': 'Random Forest'},\n",
       " {'n_estimators': 10,\n",
       "  'learning_rate': 1,\n",
       "  'algorithm': 'SAMME.R',\n",
       "  'accuracy_score': 0.9083969465648855,\n",
       "  'classifier': 'Adaboost'}]"
      ]
     },
     "execution_count": 35,
     "metadata": {},
     "output_type": "execute_result"
    }
   ],
   "source": [
    "results"
   ]
  },
  {
   "cell_type": "code",
   "execution_count": 36,
   "metadata": {},
   "outputs": [
    {
     "data": {
      "image/png": "[encoded data removed]",
      "text/plain": [
       "<Figure size 640x480 with 1 Axes>"
      ]
     },
     "metadata": {},
     "output_type": "display_data"
    }
   ],
   "source": [
    "plt.rcdefaults()\n",
    "fig, ax = plt.subplots()\n",
    "\n",
    "df = pd.DataFrame(results)\n",
    "\n",
    "df_sorted = df.sort_values('accuracy_score')\n",
    "\n",
    "ax.barh('classifier', 'accuracy_score', data=df_sorted)\n",
    "for i in range(len(results)):\n",
    "    ax.text(results[i]['accuracy_score'] * 0.9, results[i]['classifier'], round(results[i]['accuracy_score'], 4), ha='center', color='black')\n"
   ]
  }
 ],
 "metadata": {
  "kernelspec": {
   "display_name": "Python 3.10.7 ('thesis_venv': venv)",
   "language": "python",
   "name": "python3"
  },
  "language_info": {
   "codemirror_mode": {
    "name": "ipython",
    "version": 3
   },
   "file_extension": ".py",
   "mimetype": "text/x-python",
   "name": "python",
   "nbconvert_exporter": "python",
   "pygments_lexer": "ipython3",
   "version": "3.10.7"
  },
  "orig_nbformat": 4,
  "vscode": {
   "interpreter": {
    "hash": "6442ccbef71e3a52891e24f5e2ea91ce4ad765b6c4cfe5751cd7f175b2f3dc2f"
   }
  }
 },
 "nbformat": 4,
 "nbformat_minor": 2
}
