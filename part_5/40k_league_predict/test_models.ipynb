{
 "cells": [
  {
   "cell_type": "code",
   "execution_count": 38,
   "metadata": {},
   "outputs": [],
   "source": [
    "import pickle\n",
    "import pymongo\n",
    "import pandas as pd\n",
    "from bson import ObjectId"
   ]
  },
  {
   "cell_type": "code",
   "execution_count": 39,
   "metadata": {},
   "outputs": [],
   "source": [
    "with open('et_classifier.pkl', 'rb') as f:\n",
    "    et_classifier = pickle.load(f)\n",
    "with open('gb_classifier.pkl', 'rb') as f:\n",
    "    gb_classifier = pickle.load(f)\n",
    "with open('hgb_classifier.pkl', 'rb') as f:\n",
    "    hgb_classifier = pickle.load(f)\n",
    "with open('rf_classifier.pkl', 'rb') as f:\n",
    "    rf_classifier = pickle.load(f)\n",
    "with open('ab_classifier.pkl', 'rb') as f:\n",
    "    ab_classifier = pickle.load(f)\n",
    "with open('ann.pkl', 'rb') as f:\n",
    "    ann = pickle.load(f)\n",
    "with open('standart_scaler.pkl', 'rb') as f:\n",
    "    sc = pickle.load(f)"
   ]
  },
  {
   "cell_type": "code",
   "execution_count": 40,
   "metadata": {},
   "outputs": [],
   "source": [
    "MONGO_CLIENT = pymongo.MongoClient(\"mongodb://192.168.1.7:27017/\")\n",
    "SDA_DB = MONGO_CLIENT[\"steam_dota_api\"]\n",
    "LGC = SDA_DB[\"league_games_col\"]"
   ]
  },
  {
   "cell_type": "code",
   "execution_count": 41,
   "metadata": {},
   "outputs": [],
   "source": [
    "# matches = MLRS_COL.find({\"_id\": ObjectId(\"65b5e65abb22a1e961d58c20\")})\n",
    "matches = LGC.find({\"match_id\": 7562523900})\n",
    "\n",
    "matches_for_pd = []\n",
    "\n",
    "for match in matches:\n",
    "    match_dict = {}\n",
    "\n",
    "    match_dict['game_time'] = int(match['scoreboard']['duration'])\n",
    "    match_dict['score'] = match[\"scoreboard\"]['radiant'][\"score\"] - match[\"scoreboard\"]['dire'][\"score\"]\n",
    "\n",
    "    networth = 0\n",
    "    for player in match['scoreboard']['radiant']['players']:\n",
    "        networth += player['net_worth']\n",
    "    for player in match['scoreboard']['dire']['players']:\n",
    "        networth -= player['net_worth']\n",
    "    match_dict['net_worth'] = networth\n",
    "\n",
    "    for p_idx, player in enumerate(match['scoreboard']['radiant']['players']):\n",
    "        match_dict[\"team_0_player_{}_level\".format(p_idx)] = player['level']\n",
    "        match_dict[\"team_0_player_{}_kill_count\".format(p_idx)] = player['kills']\n",
    "        match_dict[\"team_0_player_{}_death_count\".format(p_idx)] = player['death']\n",
    "        match_dict[\"team_0_player_{}_assists_count\".format(p_idx)] = player['assists']\n",
    "        match_dict[\"team_0_player_{}_denies_count\".format(p_idx)] = player['denies']\n",
    "        match_dict[\"team_0_player_{}_lh_count\".format(p_idx)] = player['last_hits']\n",
    "        match_dict[\"team_0_player_{}_gold\".format(p_idx)] = player['gold']\n",
    "        match_dict[\"team_0_player_{}_net_worth\".format(p_idx)] = player['net_worth']\n",
    "\n",
    "        match_dict[\"team_0_player_{}_item_0\".format(p_idx)] = player['item0']\n",
    "        match_dict[\"team_0_player_{}_item_1\".format(p_idx)] = player['item1']\n",
    "        match_dict[\"team_0_player_{}_item_2\".format(p_idx)] = player['item2']\n",
    "        match_dict[\"team_0_player_{}_item_3\".format(p_idx)] = player['item3']\n",
    "        match_dict[\"team_0_player_{}_item_4\".format(p_idx)] = player['item4']\n",
    "        match_dict[\"team_0_player_{}_item_5\".format(p_idx)] = player['item5']\n",
    "\n",
    "    for p_idx, player in enumerate(match['scoreboard']['dire']['players']):\n",
    "        match_dict[\"team_1_player_{}_level\".format(p_idx)] = player['level']\n",
    "        match_dict[\"team_1_player_{}_kill_count\".format(p_idx)] = player['kills']\n",
    "        match_dict[\"team_1_player_{}_death_count\".format(p_idx)] = player['death']\n",
    "        match_dict[\"team_1_player_{}_assists_count\".format(p_idx)] = player['assists']\n",
    "        match_dict[\"team_1_player_{}_denies_count\".format(p_idx)] = player['denies']\n",
    "        match_dict[\"team_1_player_{}_lh_count\".format(p_idx)] = player['last_hits']\n",
    "        match_dict[\"team_1_player_{}_gold\".format(p_idx)] = player['gold']\n",
    "        match_dict[\"team_1_player_{}_net_worth\".format(p_idx)] = player['net_worth']\n",
    "\n",
    "        match_dict[\"team_1_player_{}_item_0\".format(p_idx)] = player['item0']\n",
    "        match_dict[\"team_1_player_{}_item_1\".format(p_idx)] = player['item1']\n",
    "        match_dict[\"team_1_player_{}_item_2\".format(p_idx)] = player['item2']\n",
    "        match_dict[\"team_1_player_{}_item_3\".format(p_idx)] = player['item3']\n",
    "        match_dict[\"team_1_player_{}_item_4\".format(p_idx)] = player['item4']\n",
    "        match_dict[\"team_1_player_{}_item_5\".format(p_idx)] = player['item5']\n",
    "\n",
    "    matches_for_pd.append(match_dict)"
   ]
  },
  {
   "cell_type": "code",
   "execution_count": 42,
   "metadata": {},
   "outputs": [
    {
     "name": "stdout",
     "output_type": "stream",
     "text": [
      "<class 'pandas.core.frame.DataFrame'>\n",
      "RangeIndex: 37 entries, 0 to 36\n",
      "Columns: 143 entries, game_time to team_1_player_4_item_5\n",
      "dtypes: int64(143)\n",
      "memory usage: 41.5 KB\n"
     ]
    }
   ],
   "source": [
    "df = pd.DataFrame(matches_for_pd)\n",
    "df.info()"
   ]
  },
  {
   "cell_type": "code",
   "execution_count": 43,
   "metadata": {},
   "outputs": [
    {
     "name": "stdout",
     "output_type": "stream",
     "text": [
      "Index(['game_time', 'score', 'net_worth', 'team_0_player_0_level',\n",
      "       'team_0_player_0_kill_count', 'team_0_player_0_death_count',\n",
      "       'team_0_player_0_assists_count', 'team_0_player_0_denies_count',\n",
      "       'team_0_player_0_lh_count', 'team_0_player_0_gold',\n",
      "       ...\n",
      "       'team_1_player_4_denies_count', 'team_1_player_4_lh_count',\n",
      "       'team_1_player_4_gold', 'team_1_player_4_net_worth',\n",
      "       'team_1_player_4_item_0', 'team_1_player_4_item_1',\n",
      "       'team_1_player_4_item_2', 'team_1_player_4_item_3',\n",
      "       'team_1_player_4_item_4', 'team_1_player_4_item_5'],\n",
      "      dtype='object', length=143)\n"
     ]
    }
   ],
   "source": [
    "print(df.columns)"
   ]
  },
  {
   "cell_type": "code",
   "execution_count": 44,
   "metadata": {},
   "outputs": [
    {
     "name": "stdout",
     "output_type": "stream",
     "text": [
      "[[   7    0  190 ...   44   16   -1]\n",
      " [  67   -1 -139 ...   44   16   -1]\n",
      " [ 127   -1 -338 ...   44   16   -1]\n",
      " ...\n",
      " [1634    5 3196 ...    1  232   -1]\n",
      " [1694    5 3894 ...    1  232   -1]\n",
      " [1755    6 6954 ...    1  232  188]]\n"
     ]
    }
   ],
   "source": [
    "X = df.iloc[:, :].values\n",
    "print(X)"
   ]
  },
  {
   "cell_type": "code",
   "execution_count": 45,
   "metadata": {},
   "outputs": [],
   "source": [
    "# print(X[-4])"
   ]
  },
  {
   "cell_type": "code",
   "execution_count": 46,
   "metadata": {},
   "outputs": [
    {
     "name": "stdout",
     "output_type": "stream",
     "text": [
      "radiant 0.57\n",
      "radiant 0.51\n",
      "dire 0.57\n",
      "radiant 0.55\n",
      "dire 0.61\n",
      "dire 0.59\n",
      "dire 0.58\n",
      "dire 0.53\n",
      "dire 0.61\n",
      "dire 0.59\n",
      "dire 0.66\n",
      "dire 0.68\n",
      "dire 0.7\n",
      "dire 0.75\n",
      "dire 0.75\n",
      "dire 0.75\n",
      "dire 0.75\n",
      "dire 0.75\n",
      "dire 0.75\n",
      "dire 0.75\n",
      "dire 0.77\n",
      "dire 0.75\n",
      "dire 0.73\n",
      "dire 0.66\n",
      "dire 0.67\n",
      "dire 0.68\n",
      "dire 0.67\n",
      "dire 0.71\n",
      "dire 0.73\n",
      "dire 0.57\n",
      "dire 0.52\n",
      "dire 0.53\n",
      "radiant 0.51\n",
      "radiant 0.55\n",
      "radiant 0.61\n",
      "radiant 0.66\n",
      "radiant 0.67\n"
     ]
    }
   ],
   "source": [
    "for pred in et_classifier.predict_proba(X):\n",
    "    if pred[0] > pred[1]:\n",
    "        print('dire', round(pred[0], 2))\n",
    "    else:\n",
    "        print('radiant', round(pred[1], 2))"
   ]
  },
  {
   "cell_type": "code",
   "execution_count": 47,
   "metadata": {},
   "outputs": [
    {
     "name": "stdout",
     "output_type": "stream",
     "text": [
      "dire 0.73\n",
      "dire 0.65\n",
      "dire 0.8\n",
      "dire 0.58\n",
      "dire 0.81\n",
      "dire 0.72\n",
      "dire 0.74\n",
      "dire 0.68\n",
      "dire 0.79\n",
      "dire 0.55\n",
      "radiant 0.6\n",
      "dire 0.79\n",
      "dire 0.66\n",
      "dire 0.96\n",
      "dire 0.96\n",
      "dire 0.96\n",
      "dire 0.96\n",
      "dire 0.96\n",
      "dire 0.96\n",
      "dire 0.96\n",
      "dire 0.85\n",
      "dire 0.62\n",
      "dire 0.51\n",
      "radiant 0.51\n",
      "radiant 0.51\n",
      "dire 0.52\n",
      "radiant 0.5\n",
      "dire 0.85\n",
      "dire 0.89\n",
      "dire 0.82\n",
      "dire 0.7\n",
      "dire 0.81\n",
      "radiant 0.8\n",
      "radiant 0.57\n",
      "dire 1.0\n",
      "radiant 0.68\n",
      "radiant 0.78\n"
     ]
    }
   ],
   "source": [
    "for pred in gb_classifier.predict_proba(X):\n",
    "    if pred[0] > pred[1]:\n",
    "        print('dire', round(pred[0], 2))\n",
    "    else:\n",
    "        print('radiant', round(pred[1], 2))"
   ]
  },
  {
   "cell_type": "code",
   "execution_count": 48,
   "metadata": {},
   "outputs": [
    {
     "name": "stdout",
     "output_type": "stream",
     "text": [
      "dire 0.67\n",
      "radiant 0.5\n",
      "radiant 0.57\n",
      "dire 0.54\n",
      "dire 0.61\n",
      "dire 0.58\n",
      "dire 0.6\n",
      "dire 0.58\n",
      "dire 0.79\n",
      "dire 0.83\n",
      "dire 0.66\n",
      "dire 0.68\n",
      "dire 0.73\n",
      "dire 0.92\n",
      "dire 0.92\n",
      "dire 0.92\n",
      "dire 0.92\n",
      "dire 0.92\n",
      "dire 0.92\n",
      "dire 0.92\n",
      "dire 0.93\n",
      "dire 0.86\n",
      "dire 0.83\n",
      "dire 0.83\n",
      "dire 0.75\n",
      "dire 0.81\n",
      "dire 0.82\n",
      "dire 0.94\n",
      "dire 0.96\n",
      "dire 0.95\n",
      "dire 0.92\n",
      "dire 0.93\n",
      "dire 0.83\n",
      "dire 0.78\n",
      "dire 0.7\n",
      "dire 0.54\n",
      "radiant 0.81\n"
     ]
    }
   ],
   "source": [
    "for pred in hgb_classifier.predict_proba(X):\n",
    "    if pred[0] > pred[1]:\n",
    "        print('dire', round(pred[0], 2))\n",
    "    else:\n",
    "        print('radiant', round(pred[1], 2))"
   ]
  },
  {
   "cell_type": "code",
   "execution_count": 49,
   "metadata": {},
   "outputs": [
    {
     "name": "stdout",
     "output_type": "stream",
     "text": [
      "radiant 0.58\n",
      "radiant 0.54\n",
      "dire 0.64\n",
      "radiant 0.5\n",
      "dire 0.62\n",
      "dire 0.72\n",
      "dire 0.54\n",
      "dire 0.54\n",
      "dire 0.56\n",
      "dire 0.68\n",
      "dire 0.78\n",
      "dire 0.68\n",
      "dire 0.8\n",
      "dire 0.82\n",
      "dire 0.82\n",
      "dire 0.82\n",
      "dire 0.82\n",
      "dire 0.82\n",
      "dire 0.82\n",
      "dire 0.82\n",
      "dire 0.84\n",
      "dire 0.78\n",
      "dire 0.82\n",
      "dire 0.62\n",
      "dire 0.66\n",
      "dire 0.72\n",
      "dire 0.76\n",
      "dire 0.74\n",
      "dire 0.68\n",
      "dire 0.7\n",
      "dire 0.72\n",
      "dire 0.64\n",
      "radiant 0.52\n",
      "dire 0.52\n",
      "dire 0.52\n",
      "radiant 0.56\n",
      "radiant 0.6\n"
     ]
    }
   ],
   "source": [
    "for pred in rf_classifier.predict_proba(X):\n",
    "    if pred[0] > pred[1]:\n",
    "        print('dire', round(pred[0], 2))\n",
    "    else:\n",
    "        print('radiant', round(pred[1], 2))"
   ]
  },
  {
   "cell_type": "code",
   "execution_count": 50,
   "metadata": {},
   "outputs": [
    {
     "name": "stderr",
     "output_type": "stream",
     "text": [
      "/Library/Frameworks/Python.framework/Versions/3.10/lib/python3.10/site-packages/sklearn/base.py:493: UserWarning: X does not have valid feature names, but StandardScaler was fitted with feature names\n",
      "  warnings.warn(\n"
     ]
    },
    {
     "name": "stdout",
     "output_type": "stream",
     "text": [
      "2/2 [==============================] - 0s 4ms/step\n",
      "radiant 0.98\n",
      "dire 0.72\n",
      "dire 0.98\n",
      "radiant 1.0\n",
      "dire 0.85\n",
      "dire 0.93\n",
      "radiant 1.0\n",
      "radiant 1.0\n",
      "dire 1.0\n",
      "dire 1.0\n",
      "dire 1.0\n",
      "dire 1.0\n",
      "dire 1.0\n",
      "dire 1.0\n",
      "dire 1.0\n",
      "dire 1.0\n",
      "dire 1.0\n",
      "dire 1.0\n",
      "dire 1.0\n",
      "dire 1.0\n",
      "dire 1.0\n",
      "dire 1.0\n",
      "dire 1.0\n",
      "dire 1.0\n",
      "dire 1.0\n",
      "dire 1.0\n",
      "dire 1.0\n",
      "dire 1.0\n",
      "dire 1.0\n",
      "dire 1.0\n",
      "dire 1.0\n",
      "dire 1.0\n",
      "dire 1.0\n",
      "dire 1.0\n",
      "dire 1.0\n",
      "dire 1.0\n",
      "radiant 1.0\n"
     ]
    }
   ],
   "source": [
    "X_ss = sc.transform(X)\n",
    "\n",
    "y_pred = ann.predict(X_ss)\n",
    "for y in y_pred:\n",
    "    if y[0] > 0.5:\n",
    "        print('radiant', round(y[0], 2))\n",
    "    else:\n",
    "        print('dire', round(1- y[0], 2))"
   ]
  }
 ],
 "metadata": {
  "kernelspec": {
   "display_name": "Python 3",
   "language": "python",
   "name": "python3"
  },
  "language_info": {
   "codemirror_mode": {
    "name": "ipython",
    "version": 3
   },
   "file_extension": ".py",
   "mimetype": "text/x-python",
   "name": "python",
   "nbconvert_exporter": "python",
   "pygments_lexer": "ipython3",
   "version": "3.10.0"
  }
 },
 "nbformat": 4,
 "nbformat_minor": 2
}
