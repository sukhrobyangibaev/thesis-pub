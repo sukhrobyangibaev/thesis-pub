{
 "cells": [
  {
   "cell_type": "code",
   "execution_count": 1,
   "metadata": {},
   "outputs": [
    {
     "name": "stderr",
     "output_type": "stream",
     "text": [
      "/var/folders/f_/wp8d4zkn51lf_q_66klhkb9r0000gn/T/ipykernel_9242/264531854.py:2: DeprecationWarning: \n",
      "Pyarrow will become a required dependency of pandas in the next major release of pandas (pandas 3.0),\n",
      "(to allow more performant data types, such as the Arrow string type, and better interoperability with other libraries)\n",
      "but was not found to be installed on your system.\n",
      "If this would cause problems for you,\n",
      "please provide us feedback at https://github.com/pandas-dev/pandas/issues/54466\n",
      "        \n",
      "  import pandas as pd\n",
      "2024-01-31 09:17:59.665659: I tensorflow/core/platform/cpu_feature_guard.cc:182] This TensorFlow binary is optimized to use available CPU instructions in performance-critical operations.\n",
      "To enable the following instructions: AVX2 FMA, in other operations, rebuild TensorFlow with the appropriate compiler flags.\n"
     ]
    }
   ],
   "source": [
    "import numpy as np\n",
    "import pandas as pd\n",
    "import tensorflow as tf"
   ]
  },
  {
   "cell_type": "code",
   "execution_count": 2,
   "metadata": {},
   "outputs": [
    {
     "data": {
      "text/html": [
       "<div>\n",
       "<style scoped>\n",
       "    .dataframe tbody tr th:only-of-type {\n",
       "        vertical-align: middle;\n",
       "    }\n",
       "\n",
       "    .dataframe tbody tr th {\n",
       "        vertical-align: top;\n",
       "    }\n",
       "\n",
       "    .dataframe thead th {\n",
       "        text-align: right;\n",
       "    }\n",
       "</style>\n",
       "<table border=\"1\" class=\"dataframe\">\n",
       "  <thead>\n",
       "    <tr style=\"text-align: right;\">\n",
       "      <th></th>\n",
       "      <th>timestamp</th>\n",
       "      <th>game_time</th>\n",
       "      <th>score</th>\n",
       "      <th>net_worth</th>\n",
       "      <th>team_2_player_0_level</th>\n",
       "      <th>team_2_player_0_kill_count</th>\n",
       "      <th>team_2_player_0_death_count</th>\n",
       "      <th>team_2_player_0_assists_count</th>\n",
       "      <th>team_2_player_0_denies_count</th>\n",
       "      <th>team_2_player_0_lh_count</th>\n",
       "      <th>...</th>\n",
       "      <th>building_27</th>\n",
       "      <th>building_28</th>\n",
       "      <th>building_29</th>\n",
       "      <th>building_30</th>\n",
       "      <th>building_31</th>\n",
       "      <th>building_32</th>\n",
       "      <th>building_33</th>\n",
       "      <th>building_34</th>\n",
       "      <th>building_35</th>\n",
       "      <th>winner</th>\n",
       "    </tr>\n",
       "  </thead>\n",
       "  <tbody>\n",
       "    <tr>\n",
       "      <th>0</th>\n",
       "      <td>1278</td>\n",
       "      <td>961</td>\n",
       "      <td>8</td>\n",
       "      <td>2294</td>\n",
       "      <td>13</td>\n",
       "      <td>6</td>\n",
       "      <td>1</td>\n",
       "      <td>5</td>\n",
       "      <td>10</td>\n",
       "      <td>142</td>\n",
       "      <td>...</td>\n",
       "      <td>0</td>\n",
       "      <td>0</td>\n",
       "      <td>0</td>\n",
       "      <td>0</td>\n",
       "      <td>0</td>\n",
       "      <td>0</td>\n",
       "      <td>0</td>\n",
       "      <td>0</td>\n",
       "      <td>0</td>\n",
       "      <td>radiant</td>\n",
       "    </tr>\n",
       "    <tr>\n",
       "      <th>1</th>\n",
       "      <td>1144</td>\n",
       "      <td>849</td>\n",
       "      <td>-1</td>\n",
       "      <td>1261</td>\n",
       "      <td>11</td>\n",
       "      <td>4</td>\n",
       "      <td>1</td>\n",
       "      <td>3</td>\n",
       "      <td>6</td>\n",
       "      <td>84</td>\n",
       "      <td>...</td>\n",
       "      <td>0</td>\n",
       "      <td>0</td>\n",
       "      <td>0</td>\n",
       "      <td>0</td>\n",
       "      <td>0</td>\n",
       "      <td>0</td>\n",
       "      <td>0</td>\n",
       "      <td>0</td>\n",
       "      <td>0</td>\n",
       "      <td>dire</td>\n",
       "    </tr>\n",
       "    <tr>\n",
       "      <th>2</th>\n",
       "      <td>1322</td>\n",
       "      <td>1030</td>\n",
       "      <td>4</td>\n",
       "      <td>2241</td>\n",
       "      <td>13</td>\n",
       "      <td>6</td>\n",
       "      <td>1</td>\n",
       "      <td>3</td>\n",
       "      <td>9</td>\n",
       "      <td>159</td>\n",
       "      <td>...</td>\n",
       "      <td>0</td>\n",
       "      <td>0</td>\n",
       "      <td>0</td>\n",
       "      <td>0</td>\n",
       "      <td>0</td>\n",
       "      <td>0</td>\n",
       "      <td>0</td>\n",
       "      <td>0</td>\n",
       "      <td>0</td>\n",
       "      <td>dire</td>\n",
       "    </tr>\n",
       "    <tr>\n",
       "      <th>3</th>\n",
       "      <td>1281</td>\n",
       "      <td>1044</td>\n",
       "      <td>-10</td>\n",
       "      <td>-6837</td>\n",
       "      <td>12</td>\n",
       "      <td>3</td>\n",
       "      <td>2</td>\n",
       "      <td>3</td>\n",
       "      <td>4</td>\n",
       "      <td>102</td>\n",
       "      <td>...</td>\n",
       "      <td>0</td>\n",
       "      <td>0</td>\n",
       "      <td>0</td>\n",
       "      <td>0</td>\n",
       "      <td>0</td>\n",
       "      <td>0</td>\n",
       "      <td>0</td>\n",
       "      <td>0</td>\n",
       "      <td>0</td>\n",
       "      <td>dire</td>\n",
       "    </tr>\n",
       "    <tr>\n",
       "      <th>4</th>\n",
       "      <td>1178</td>\n",
       "      <td>897</td>\n",
       "      <td>21</td>\n",
       "      <td>13149</td>\n",
       "      <td>10</td>\n",
       "      <td>5</td>\n",
       "      <td>0</td>\n",
       "      <td>3</td>\n",
       "      <td>10</td>\n",
       "      <td>90</td>\n",
       "      <td>...</td>\n",
       "      <td>0</td>\n",
       "      <td>0</td>\n",
       "      <td>0</td>\n",
       "      <td>0</td>\n",
       "      <td>0</td>\n",
       "      <td>0</td>\n",
       "      <td>0</td>\n",
       "      <td>0</td>\n",
       "      <td>0</td>\n",
       "      <td>radiant</td>\n",
       "    </tr>\n",
       "  </tbody>\n",
       "</table>\n",
       "<p>5 rows × 339 columns</p>\n",
       "</div>"
      ],
      "text/plain": [
       "   timestamp  game_time  score  net_worth  team_2_player_0_level  \\\n",
       "0       1278        961      8       2294                     13   \n",
       "1       1144        849     -1       1261                     11   \n",
       "2       1322       1030      4       2241                     13   \n",
       "3       1281       1044    -10      -6837                     12   \n",
       "4       1178        897     21      13149                     10   \n",
       "\n",
       "   team_2_player_0_kill_count  team_2_player_0_death_count  \\\n",
       "0                           6                            1   \n",
       "1                           4                            1   \n",
       "2                           6                            1   \n",
       "3                           3                            2   \n",
       "4                           5                            0   \n",
       "\n",
       "   team_2_player_0_assists_count  team_2_player_0_denies_count  \\\n",
       "0                              5                            10   \n",
       "1                              3                             6   \n",
       "2                              3                             9   \n",
       "3                              3                             4   \n",
       "4                              3                            10   \n",
       "\n",
       "   team_2_player_0_lh_count  ...  building_27  building_28  building_29  \\\n",
       "0                       142  ...            0            0            0   \n",
       "1                        84  ...            0            0            0   \n",
       "2                       159  ...            0            0            0   \n",
       "3                       102  ...            0            0            0   \n",
       "4                        90  ...            0            0            0   \n",
       "\n",
       "   building_30  building_31  building_32  building_33  building_34  \\\n",
       "0            0            0            0            0            0   \n",
       "1            0            0            0            0            0   \n",
       "2            0            0            0            0            0   \n",
       "3            0            0            0            0            0   \n",
       "4            0            0            0            0            0   \n",
       "\n",
       "   building_35   winner  \n",
       "0            0  radiant  \n",
       "1            0     dire  \n",
       "2            0     dire  \n",
       "3            0     dire  \n",
       "4            0  radiant  \n",
       "\n",
       "[5 rows x 339 columns]"
      ]
     },
     "execution_count": 2,
     "metadata": {},
     "output_type": "execute_result"
    }
   ],
   "source": [
    "dataset = pd.read_csv('33847x339_samples.csv', delimiter=',')\n",
    "dataset.head()"
   ]
  },
  {
   "cell_type": "code",
   "execution_count": 3,
   "metadata": {},
   "outputs": [],
   "source": [
    "from sklearn.preprocessing import LabelEncoder\n",
    "\n",
    "label_encoder = LabelEncoder()\n",
    "dataset['winner'] = label_encoder.fit_transform(dataset['winner'])"
   ]
  },
  {
   "cell_type": "code",
   "execution_count": 4,
   "metadata": {},
   "outputs": [],
   "source": [
    "X = dataset.iloc[:, :-1]\n",
    "y = dataset.iloc[:, -1]"
   ]
  },
  {
   "cell_type": "code",
   "execution_count": 5,
   "metadata": {},
   "outputs": [],
   "source": [
    "from sklearn.model_selection import train_test_split\n",
    "X_train, X_test, y_train, y_test = train_test_split(X, y, test_size=0.1, random_state=1)"
   ]
  },
  {
   "cell_type": "code",
   "execution_count": 6,
   "metadata": {},
   "outputs": [],
   "source": [
    "from sklearn.preprocessing import StandardScaler\n",
    "sc = StandardScaler()\n",
    "X_train = sc.fit_transform(X_train)\n",
    "X_test = sc.transform(X_test)"
   ]
  },
  {
   "cell_type": "code",
   "execution_count": 7,
   "metadata": {},
   "outputs": [],
   "source": [
    "ann = tf.keras.models.Sequential()"
   ]
  },
  {
   "cell_type": "code",
   "execution_count": 8,
   "metadata": {},
   "outputs": [],
   "source": [
    "ann.add(tf.keras.layers.Dense(units=100, activation='relu'))\n",
    "ann.add(tf.keras.layers.Dense(units=100, activation='relu'))\n",
    "ann.add(tf.keras.layers.Dense(units=1, activation='sigmoid'))"
   ]
  },
  {
   "cell_type": "code",
   "execution_count": 9,
   "metadata": {},
   "outputs": [],
   "source": [
    "ann.compile(optimizer='adam', loss='binary_crossentropy', metrics=['accuracy'])"
   ]
  },
  {
   "cell_type": "code",
   "execution_count": 10,
   "metadata": {},
   "outputs": [
    {
     "name": "stdout",
     "output_type": "stream",
     "text": [
      "Epoch 1/100\n",
      "952/952 [==============================] - 2s 2ms/step - loss: 0.5372 - accuracy: 0.7077\n",
      "Epoch 2/100\n",
      "952/952 [==============================] - 2s 2ms/step - loss: 0.4536 - accuracy: 0.7659\n",
      "Epoch 3/100\n",
      "952/952 [==============================] - 4s 4ms/step - loss: 0.3888 - accuracy: 0.8041\n",
      "Epoch 4/100\n",
      "952/952 [==============================] - 2s 2ms/step - loss: 0.3353 - accuracy: 0.8340\n",
      "Epoch 5/100\n",
      "952/952 [==============================] - 2s 2ms/step - loss: 0.2980 - accuracy: 0.8531\n",
      "Epoch 6/100\n",
      "952/952 [==============================] - 2s 2ms/step - loss: 0.2675 - accuracy: 0.8695\n",
      "Epoch 7/100\n",
      "952/952 [==============================] - 2s 2ms/step - loss: 0.2428 - accuracy: 0.8812\n",
      "Epoch 8/100\n",
      "952/952 [==============================] - 2s 2ms/step - loss: 0.2261 - accuracy: 0.8881\n",
      "Epoch 9/100\n",
      "952/952 [==============================] - 2s 2ms/step - loss: 0.2057 - accuracy: 0.8987\n",
      "Epoch 10/100\n",
      "952/952 [==============================] - 1s 2ms/step - loss: 0.2022 - accuracy: 0.9016\n",
      "Epoch 11/100\n",
      "952/952 [==============================] - 2s 2ms/step - loss: 0.1830 - accuracy: 0.9098\n",
      "Epoch 12/100\n",
      "952/952 [==============================] - 1s 2ms/step - loss: 0.1775 - accuracy: 0.9128\n",
      "Epoch 13/100\n",
      "952/952 [==============================] - 1s 2ms/step - loss: 0.1644 - accuracy: 0.9202\n",
      "Epoch 14/100\n",
      "952/952 [==============================] - 1s 2ms/step - loss: 0.1646 - accuracy: 0.9189\n",
      "Epoch 15/100\n",
      "952/952 [==============================] - 1s 2ms/step - loss: 0.1490 - accuracy: 0.9261\n",
      "Epoch 16/100\n",
      "952/952 [==============================] - 2s 2ms/step - loss: 0.1509 - accuracy: 0.9258\n",
      "Epoch 17/100\n",
      "952/952 [==============================] - 1s 1ms/step - loss: 0.1462 - accuracy: 0.9296\n",
      "Epoch 18/100\n",
      "952/952 [==============================] - 1s 2ms/step - loss: 0.1399 - accuracy: 0.9335\n",
      "Epoch 19/100\n",
      "952/952 [==============================] - 1s 2ms/step - loss: 0.1292 - accuracy: 0.9387\n",
      "Epoch 20/100\n",
      "952/952 [==============================] - 1s 2ms/step - loss: 0.1315 - accuracy: 0.9373\n",
      "Epoch 21/100\n",
      "952/952 [==============================] - 2s 2ms/step - loss: 0.1331 - accuracy: 0.9383\n",
      "Epoch 22/100\n",
      "952/952 [==============================] - 1s 1ms/step - loss: 0.1240 - accuracy: 0.9431\n",
      "Epoch 23/100\n",
      "952/952 [==============================] - 1s 2ms/step - loss: 0.1188 - accuracy: 0.9436\n",
      "Epoch 24/100\n",
      "952/952 [==============================] - 1s 2ms/step - loss: 0.1214 - accuracy: 0.9456\n",
      "Epoch 25/100\n",
      "952/952 [==============================] - 1s 2ms/step - loss: 0.1146 - accuracy: 0.9455\n",
      "Epoch 26/100\n",
      "952/952 [==============================] - 2s 2ms/step - loss: 0.1066 - accuracy: 0.9512\n",
      "Epoch 27/100\n",
      "952/952 [==============================] - 1s 2ms/step - loss: 0.1154 - accuracy: 0.9475\n",
      "Epoch 28/100\n",
      "952/952 [==============================] - 1s 2ms/step - loss: 0.1119 - accuracy: 0.9496\n",
      "Epoch 29/100\n",
      "952/952 [==============================] - 1s 2ms/step - loss: 0.1030 - accuracy: 0.9552\n",
      "Epoch 30/100\n",
      "952/952 [==============================] - 1s 2ms/step - loss: 0.0968 - accuracy: 0.9564\n",
      "Epoch 31/100\n",
      "952/952 [==============================] - 2s 2ms/step - loss: 0.1044 - accuracy: 0.9525\n",
      "Epoch 32/100\n",
      "952/952 [==============================] - 1s 2ms/step - loss: 0.0862 - accuracy: 0.9595\n",
      "Epoch 33/100\n",
      "952/952 [==============================] - 1s 2ms/step - loss: 0.1177 - accuracy: 0.9508\n",
      "Epoch 34/100\n",
      "952/952 [==============================] - 1s 2ms/step - loss: 0.0815 - accuracy: 0.9635\n",
      "Epoch 35/100\n",
      "952/952 [==============================] - 2s 2ms/step - loss: 0.0813 - accuracy: 0.9632\n",
      "Epoch 36/100\n",
      "952/952 [==============================] - 1s 2ms/step - loss: 0.0999 - accuracy: 0.9579\n",
      "Epoch 37/100\n",
      "952/952 [==============================] - 1s 2ms/step - loss: 0.0905 - accuracy: 0.9598\n",
      "Epoch 38/100\n",
      "952/952 [==============================] - 1s 2ms/step - loss: 0.0861 - accuracy: 0.9638\n",
      "Epoch 39/100\n",
      "952/952 [==============================] - 1s 2ms/step - loss: 0.0937 - accuracy: 0.9622\n",
      "Epoch 40/100\n",
      "952/952 [==============================] - 2s 2ms/step - loss: 0.0781 - accuracy: 0.9667\n",
      "Epoch 41/100\n",
      "952/952 [==============================] - 2s 2ms/step - loss: 0.0823 - accuracy: 0.9655\n",
      "Epoch 42/100\n",
      "952/952 [==============================] - 3s 3ms/step - loss: 0.0865 - accuracy: 0.9647\n",
      "Epoch 43/100\n",
      "952/952 [==============================] - 2s 2ms/step - loss: 0.0828 - accuracy: 0.9666\n",
      "Epoch 44/100\n",
      "952/952 [==============================] - 2s 2ms/step - loss: 0.0749 - accuracy: 0.9702\n",
      "Epoch 45/100\n",
      "952/952 [==============================] - 2s 2ms/step - loss: 0.0834 - accuracy: 0.9666\n",
      "Epoch 46/100\n",
      "952/952 [==============================] - 2s 2ms/step - loss: 0.0617 - accuracy: 0.9734\n",
      "Epoch 47/100\n",
      "952/952 [==============================] - 2s 2ms/step - loss: 0.0641 - accuracy: 0.9731\n",
      "Epoch 48/100\n",
      "952/952 [==============================] - 2s 2ms/step - loss: 0.0950 - accuracy: 0.9625\n",
      "Epoch 49/100\n",
      "952/952 [==============================] - 2s 2ms/step - loss: 0.0564 - accuracy: 0.9771\n",
      "Epoch 50/100\n",
      "952/952 [==============================] - 2s 2ms/step - loss: 0.0744 - accuracy: 0.9702\n",
      "Epoch 51/100\n",
      "952/952 [==============================] - 2s 2ms/step - loss: 0.0806 - accuracy: 0.9695\n",
      "Epoch 52/100\n",
      "952/952 [==============================] - 2s 2ms/step - loss: 0.0654 - accuracy: 0.9733\n",
      "Epoch 53/100\n",
      "952/952 [==============================] - 2s 2ms/step - loss: 0.0586 - accuracy: 0.9753\n",
      "Epoch 54/100\n",
      "952/952 [==============================] - 2s 2ms/step - loss: 0.0673 - accuracy: 0.9734\n",
      "Epoch 55/100\n",
      "952/952 [==============================] - 2s 2ms/step - loss: 0.0696 - accuracy: 0.9720\n",
      "Epoch 56/100\n",
      "952/952 [==============================] - 2s 2ms/step - loss: 0.0641 - accuracy: 0.9737\n",
      "Epoch 57/100\n",
      "952/952 [==============================] - 2s 2ms/step - loss: 0.0630 - accuracy: 0.9763\n",
      "Epoch 58/100\n",
      "952/952 [==============================] - 2s 2ms/step - loss: 0.0666 - accuracy: 0.9740\n",
      "Epoch 59/100\n",
      "952/952 [==============================] - 2s 2ms/step - loss: 0.0531 - accuracy: 0.9799\n",
      "Epoch 60/100\n",
      "952/952 [==============================] - 2s 2ms/step - loss: 0.0605 - accuracy: 0.9760\n",
      "Epoch 61/100\n",
      "952/952 [==============================] - 2s 2ms/step - loss: 0.0588 - accuracy: 0.9764\n",
      "Epoch 62/100\n",
      "952/952 [==============================] - 2s 2ms/step - loss: 0.0471 - accuracy: 0.9812\n",
      "Epoch 63/100\n",
      "952/952 [==============================] - 2s 2ms/step - loss: 0.0771 - accuracy: 0.9731\n",
      "Epoch 64/100\n",
      "952/952 [==============================] - 2s 2ms/step - loss: 0.0599 - accuracy: 0.9794\n",
      "Epoch 65/100\n",
      "952/952 [==============================] - 2s 2ms/step - loss: 0.0436 - accuracy: 0.9841\n",
      "Epoch 66/100\n",
      "952/952 [==============================] - 2s 2ms/step - loss: 0.0562 - accuracy: 0.9779\n",
      "Epoch 67/100\n",
      "952/952 [==============================] - 2s 2ms/step - loss: 0.0525 - accuracy: 0.9817\n",
      "Epoch 68/100\n",
      "952/952 [==============================] - 2s 2ms/step - loss: 0.0464 - accuracy: 0.9817\n",
      "Epoch 69/100\n",
      "952/952 [==============================] - 2s 2ms/step - loss: 0.0650 - accuracy: 0.9767\n",
      "Epoch 70/100\n",
      "952/952 [==============================] - 2s 2ms/step - loss: 0.0466 - accuracy: 0.9828\n",
      "Epoch 71/100\n",
      "952/952 [==============================] - 2s 2ms/step - loss: 0.0414 - accuracy: 0.9851\n",
      "Epoch 72/100\n",
      "952/952 [==============================] - 2s 2ms/step - loss: 0.0456 - accuracy: 0.9828\n",
      "Epoch 73/100\n",
      "952/952 [==============================] - 2s 2ms/step - loss: 0.0535 - accuracy: 0.9798\n",
      "Epoch 74/100\n",
      "952/952 [==============================] - 2s 2ms/step - loss: 0.0447 - accuracy: 0.9829\n",
      "Epoch 75/100\n",
      "952/952 [==============================] - 2s 2ms/step - loss: 0.0512 - accuracy: 0.9810\n",
      "Epoch 76/100\n",
      "952/952 [==============================] - 2s 2ms/step - loss: 0.0461 - accuracy: 0.9835\n",
      "Epoch 77/100\n",
      "952/952 [==============================] - 2s 2ms/step - loss: 0.0558 - accuracy: 0.9801\n",
      "Epoch 78/100\n",
      "952/952 [==============================] - 2s 2ms/step - loss: 0.0515 - accuracy: 0.9814\n",
      "Epoch 79/100\n",
      "952/952 [==============================] - 2s 2ms/step - loss: 0.0399 - accuracy: 0.9860\n",
      "Epoch 80/100\n",
      "952/952 [==============================] - 2s 2ms/step - loss: 0.0396 - accuracy: 0.9854\n",
      "Epoch 81/100\n",
      "952/952 [==============================] - 2s 2ms/step - loss: 0.0350 - accuracy: 0.9872\n",
      "Epoch 82/100\n",
      "952/952 [==============================] - 2s 2ms/step - loss: 0.0519 - accuracy: 0.9816\n",
      "Epoch 83/100\n",
      "952/952 [==============================] - 1s 2ms/step - loss: 0.0449 - accuracy: 0.9852\n",
      "Epoch 84/100\n",
      "952/952 [==============================] - 1s 2ms/step - loss: 0.0509 - accuracy: 0.9838\n",
      "Epoch 85/100\n",
      "952/952 [==============================] - 2s 2ms/step - loss: 0.0347 - accuracy: 0.9879\n",
      "Epoch 86/100\n",
      "952/952 [==============================] - 3s 3ms/step - loss: 0.0309 - accuracy: 0.9883\n",
      "Epoch 87/100\n",
      "952/952 [==============================] - 2s 2ms/step - loss: 0.0569 - accuracy: 0.9817\n",
      "Epoch 88/100\n",
      "952/952 [==============================] - 1s 2ms/step - loss: 0.0372 - accuracy: 0.9872\n",
      "Epoch 89/100\n",
      "952/952 [==============================] - 1s 2ms/step - loss: 0.0261 - accuracy: 0.9904\n",
      "Epoch 90/100\n",
      "952/952 [==============================] - 2s 2ms/step - loss: 0.0663 - accuracy: 0.9803\n",
      "Epoch 91/100\n",
      "952/952 [==============================] - 1s 2ms/step - loss: 0.0392 - accuracy: 0.9862\n",
      "Epoch 92/100\n",
      "952/952 [==============================] - 1s 2ms/step - loss: 0.0316 - accuracy: 0.9881\n",
      "Epoch 93/100\n",
      "952/952 [==============================] - 3s 3ms/step - loss: 0.0535 - accuracy: 0.9835\n",
      "Epoch 94/100\n",
      "952/952 [==============================] - 3s 3ms/step - loss: 0.0307 - accuracy: 0.9903\n",
      "Epoch 95/100\n",
      "952/952 [==============================] - 2s 2ms/step - loss: 0.0296 - accuracy: 0.9885\n",
      "Epoch 96/100\n",
      "952/952 [==============================] - 2s 2ms/step - loss: 0.0346 - accuracy: 0.9869\n",
      "Epoch 97/100\n",
      "952/952 [==============================] - 2s 2ms/step - loss: 0.0665 - accuracy: 0.9808\n",
      "Epoch 98/100\n",
      "952/952 [==============================] - 2s 2ms/step - loss: 0.0273 - accuracy: 0.9907\n",
      "Epoch 99/100\n",
      "952/952 [==============================] - 2s 2ms/step - loss: 0.0280 - accuracy: 0.9895\n",
      "Epoch 100/100\n",
      "952/952 [==============================] - 2s 2ms/step - loss: 0.0457 - accuracy: 0.9863\n"
     ]
    },
    {
     "data": {
      "text/plain": [
       "<keras.src.callbacks.History at 0x12a27b940>"
      ]
     },
     "execution_count": 10,
     "metadata": {},
     "output_type": "execute_result"
    }
   ],
   "source": [
    "ann.fit(X_train, y_train, batch_size=32, epochs=100)"
   ]
  },
  {
   "cell_type": "code",
   "execution_count": 11,
   "metadata": {},
   "outputs": [
    {
     "data": {
      "text/plain": [
       "24157    1\n",
       "17703    1\n",
       "23474    0\n",
       "30922    0\n",
       "4557     1\n",
       "        ..\n",
       "28919    1\n",
       "26345    0\n",
       "29693    1\n",
       "19585    1\n",
       "19297    1\n",
       "Name: winner, Length: 3385, dtype: int64"
      ]
     },
     "execution_count": 11,
     "metadata": {},
     "output_type": "execute_result"
    }
   ],
   "source": [
    "y_test"
   ]
  },
  {
   "cell_type": "code",
   "execution_count": 12,
   "metadata": {},
   "outputs": [
    {
     "name": "stdout",
     "output_type": "stream",
     "text": [
      "106/106 [==============================] - 0s 1ms/step\n",
      "[[1.0000000e+00]\n",
      " [9.9999988e-01]\n",
      " [4.0613358e-08]\n",
      " ...\n",
      " [9.9999124e-01]\n",
      " [9.9999911e-01]\n",
      " [1.0000000e+00]]\n"
     ]
    }
   ],
   "source": [
    "y_pred = ann.predict(X_test)\n",
    "print(y_pred)"
   ]
  },
  {
   "cell_type": "code",
   "execution_count": 13,
   "metadata": {},
   "outputs": [
    {
     "data": {
      "text/plain": [
       "array([[ True],\n",
       "       [ True],\n",
       "       [False],\n",
       "       ...,\n",
       "       [ True],\n",
       "       [ True],\n",
       "       [ True]])"
      ]
     },
     "execution_count": 13,
     "metadata": {},
     "output_type": "execute_result"
    }
   ],
   "source": [
    "y_pred = y_pred > 0.5\n",
    "y_pred"
   ]
  },
  {
   "cell_type": "code",
   "execution_count": 14,
   "metadata": {},
   "outputs": [
    {
     "name": "stdout",
     "output_type": "stream",
     "text": [
      "[[1353  233]\n",
      " [ 204 1595]] 0.8709010339734121\n"
     ]
    }
   ],
   "source": [
    "from sklearn.metrics import accuracy_score, confusion_matrix\n",
    "cm = confusion_matrix(y_test, y_pred)\n",
    "acc = accuracy_score(y_test, y_pred)\n",
    "print(cm, acc)"
   ]
  },
  {
   "cell_type": "code",
   "execution_count": 15,
   "metadata": {},
   "outputs": [],
   "source": [
    "import pymongo\n",
    "\n",
    "MONGO_CLIENT = pymongo.MongoClient(\"mongodb://192.168.1.7:27017/\")\n",
    "SDA_DB = MONGO_CLIENT[\"steam_dota_api\"]\n",
    "MLRS_COL = SDA_DB[\"multi_real_time_stats\"]"
   ]
  },
  {
   "cell_type": "code",
   "execution_count": 16,
   "metadata": {},
   "outputs": [],
   "source": [
    "# matches = MLRS_COL.find({\"_id\": ObjectId(\"65b5e65abb22a1e961d58c20\")})\n",
    "matches = MLRS_COL.find({\"match.match_id\": \"7557978739\"})\n",
    "matches_for_pd = []\n",
    "\n",
    "for entry in matches:\n",
    "    try:\n",
    "        tmp = {}\n",
    "\n",
    "        tmp[\"timestamp\"] = entry[\"match\"][\"timestamp\"]\n",
    "        tmp[\"game_time\"] = entry[\"match\"][\"game_time\"]\n",
    "\n",
    "        tmp['score'] = entry[\"teams\"][0][\"score\"] - entry[\"teams\"][1][\"score\"]\n",
    "        tmp['net_worth'] = entry[\"teams\"][0][\"net_worth\"] - entry[\"teams\"][1][\"net_worth\"]\n",
    "\n",
    "        for team in entry[\"teams\"]:\n",
    "            for p_idx, player in enumerate(team[\"players\"]):\n",
    "                # tmp[\"team_{}_player_{}_heroid\".format(team[\"team_number\"], p_idx)] = player['heroid']\n",
    "                tmp[\"team_{}_player_{}_level\".format(team[\"team_number\"], p_idx)] = player['level']\n",
    "                tmp[\"team_{}_player_{}_kill_count\".format(team[\"team_number\"], p_idx)] = player['kill_count']\n",
    "                tmp[\"team_{}_player_{}_death_count\".format(team[\"team_number\"], p_idx)] = player['death_count']\n",
    "                tmp[\"team_{}_player_{}_assists_count\".format(team[\"team_number\"], p_idx)] = player['assists_count']\n",
    "                tmp[\"team_{}_player_{}_denies_count\".format(team[\"team_number\"], p_idx)] = player['denies_count']\n",
    "                tmp[\"team_{}_player_{}_lh_count\".format(team[\"team_number\"], p_idx)] = player['lh_count']\n",
    "                tmp[\"team_{}_player_{}_gold\".format(team[\"team_number\"], p_idx)] = player['gold']\n",
    "                tmp[\"team_{}_player_{}_net_worth\".format(team[\"team_number\"], p_idx)] = player['net_worth']\n",
    "\n",
    "                for i_idx, item in enumerate(player['items']):\n",
    "                    tmp[\"team_{}_player_{}_item_{}\".format(team[\"team_number\"], p_idx, i_idx)] = item\n",
    "\n",
    "        for gg_idx, graph_gold in enumerate(entry['graph_data']['graph_gold']):\n",
    "            tmp['graph_gold_{}'.format(gg_idx)] = graph_gold\n",
    "\n",
    "        for i, building in enumerate(entry[\"buildings\"]):\n",
    "            tmp[\"building_{}\".format(i)] = int(building[\"destroyed\"])\n",
    "\n",
    "        matches_for_pd.append(tmp)\n",
    "    except Exception as e:\n",
    "        MLRS_COL.delete_one({\"_id\": entry['_id']})\n",
    "        print(e, entry['_id'])"
   ]
  },
  {
   "cell_type": "code",
   "execution_count": 17,
   "metadata": {},
   "outputs": [
    {
     "name": "stdout",
     "output_type": "stream",
     "text": [
      "<class 'pandas.core.frame.DataFrame'>\n",
      "RangeIndex: 13 entries, 0 to 12\n",
      "Columns: 338 entries, timestamp to building_35\n",
      "dtypes: int64(338)\n",
      "memory usage: 34.5 KB\n"
     ]
    }
   ],
   "source": [
    "df = pd.DataFrame(matches_for_pd)\n",
    "df.info()"
   ]
  },
  {
   "cell_type": "code",
   "execution_count": 18,
   "metadata": {},
   "outputs": [],
   "source": [
    "X = df.iloc[:, :].values"
   ]
  },
  {
   "cell_type": "code",
   "execution_count": 19,
   "metadata": {},
   "outputs": [
    {
     "name": "stderr",
     "output_type": "stream",
     "text": [
      "/Library/Frameworks/Python.framework/Versions/3.10/lib/python3.10/site-packages/sklearn/base.py:493: UserWarning: X does not have valid feature names, but StandardScaler was fitted with feature names\n",
      "  warnings.warn(\n"
     ]
    }
   ],
   "source": [
    "X_ss = sc.transform(X)"
   ]
  },
  {
   "cell_type": "code",
   "execution_count": 20,
   "metadata": {},
   "outputs": [
    {
     "name": "stdout",
     "output_type": "stream",
     "text": [
      "1/1 [==============================] - 0s 38ms/step\n",
      "dire 1.0\n",
      "dire 1.0\n",
      "dire 1.0\n",
      "dire 1.0\n",
      "dire 1.0\n",
      "dire 1.0\n",
      "dire 1.0\n",
      "dire 1.0\n",
      "dire 1.0\n",
      "dire 1.0\n",
      "dire 1.0\n",
      "dire 1.0\n",
      "dire 1.0\n"
     ]
    }
   ],
   "source": [
    "y_pred = ann.predict(X_ss)\n",
    "for y in y_pred:\n",
    "    if y[0] > 0.5:\n",
    "        print('radiant', round(y[0], 2))\n",
    "    else:\n",
    "        print('dire', round(1- y[0], 2))\n",
    "    # print(round(1 - y[0], 4), '\\t', round(y[0], 4))\n",
    "    # print(y[0], 1 - y[0])"
   ]
  },
  {
   "cell_type": "code",
   "execution_count": 21,
   "metadata": {},
   "outputs": [],
   "source": [
    "import pickle\n",
    "\n",
    "with open('ann.pkl','wb') as f:\n",
    "    pickle.dump(ann, f)"
   ]
  },
  {
   "cell_type": "code",
   "execution_count": 22,
   "metadata": {},
   "outputs": [],
   "source": [
    "with open('standart_scaler.pkl','wb') as f:\n",
    "    pickle.dump(sc, f)"
   ]
  }
 ],
 "metadata": {
  "kernelspec": {
   "display_name": "Python 3",
   "language": "python",
   "name": "python3"
  },
  "language_info": {
   "codemirror_mode": {
    "name": "ipython",
    "version": 3
   },
   "file_extension": ".py",
   "mimetype": "text/x-python",
   "name": "python",
   "nbconvert_exporter": "python",
   "pygments_lexer": "ipython3",
   "version": "3.10.0"
  }
 },
 "nbformat": 4,
 "nbformat_minor": 2
}
