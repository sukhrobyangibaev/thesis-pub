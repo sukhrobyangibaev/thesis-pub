{
 "cells": [
  {
   "cell_type": "code",
   "execution_count": 13,
   "metadata": {},
   "outputs": [],
   "source": [
    "import pickle\n",
    "import pymongo\n",
    "import pandas as pd\n",
    "from bson import ObjectId"
   ]
  },
  {
   "cell_type": "code",
   "execution_count": 14,
   "metadata": {},
   "outputs": [],
   "source": [
    "with open('et_classifier.pkl', 'rb') as f:\n",
    "    et_classifier = pickle.load(f)\n",
    "with open('gb_classifier.pkl', 'rb') as f:\n",
    "    gb_classifier = pickle.load(f)\n",
    "with open('hgb_classifier.pkl', 'rb') as f:\n",
    "    hgb_classifier = pickle.load(f)\n",
    "with open('rf_classifier.pkl', 'rb') as f:\n",
    "    rf_classifier = pickle.load(f)\n",
    "with open('ab_classifier.pkl', 'rb') as f:\n",
    "    ab_classifier = pickle.load(f)"
   ]
  },
  {
   "cell_type": "code",
   "execution_count": 15,
   "metadata": {},
   "outputs": [],
   "source": [
    "MONGO_CLIENT = pymongo.MongoClient(\"mongodb://192.168.1.7:27017/\")\n",
    "SDA_DB = MONGO_CLIENT[\"steam_dota_api\"]\n",
    "MLRS_COL = SDA_DB[\"multi_real_time_stats\"]"
   ]
  },
  {
   "cell_type": "code",
   "execution_count": 16,
   "metadata": {},
   "outputs": [],
   "source": [
    "# matches = MLRS_COL.find({\"_id\": ObjectId(\"65b5e65abb22a1e961d58c20\")})\n",
    "matches = MLRS_COL.find({\"match.match_id\": \"7557978739\"})\n",
    "matches_for_pd = []\n",
    "\n",
    "for entry in matches:\n",
    "    try:\n",
    "        tmp = {}\n",
    "\n",
    "        tmp[\"timestamp\"] = entry[\"match\"][\"timestamp\"]\n",
    "        tmp[\"game_time\"] = entry[\"match\"][\"game_time\"]\n",
    "\n",
    "        tmp['score'] = entry[\"teams\"][0][\"score\"] - entry[\"teams\"][1][\"score\"]\n",
    "        tmp['net_worth'] = entry[\"teams\"][0][\"net_worth\"] - entry[\"teams\"][1][\"net_worth\"]\n",
    "\n",
    "        for team in entry[\"teams\"]:\n",
    "            for p_idx, player in enumerate(team[\"players\"]):\n",
    "                # tmp[\"team_{}_player_{}_heroid\".format(team[\"team_number\"], p_idx)] = player['heroid']\n",
    "                tmp[\"team_{}_player_{}_level\".format(team[\"team_number\"], p_idx)] = player['level']\n",
    "                tmp[\"team_{}_player_{}_kill_count\".format(team[\"team_number\"], p_idx)] = player['kill_count']\n",
    "                tmp[\"team_{}_player_{}_death_count\".format(team[\"team_number\"], p_idx)] = player['death_count']\n",
    "                tmp[\"team_{}_player_{}_assists_count\".format(team[\"team_number\"], p_idx)] = player['assists_count']\n",
    "                tmp[\"team_{}_player_{}_denies_count\".format(team[\"team_number\"], p_idx)] = player['denies_count']\n",
    "                tmp[\"team_{}_player_{}_lh_count\".format(team[\"team_number\"], p_idx)] = player['lh_count']\n",
    "                tmp[\"team_{}_player_{}_gold\".format(team[\"team_number\"], p_idx)] = player['gold']\n",
    "                tmp[\"team_{}_player_{}_net_worth\".format(team[\"team_number\"], p_idx)] = player['net_worth']\n",
    "\n",
    "                for i_idx, item in enumerate(player['items']):\n",
    "                    tmp[\"team_{}_player_{}_item_{}\".format(team[\"team_number\"], p_idx, i_idx)] = item\n",
    "\n",
    "        for gg_idx, graph_gold in enumerate(entry['graph_data']['graph_gold']):\n",
    "            tmp['graph_gold_{}'.format(gg_idx)] = graph_gold\n",
    "\n",
    "        for i, building in enumerate(entry[\"buildings\"]):\n",
    "            tmp[\"building_{}\".format(i)] = int(building[\"destroyed\"])\n",
    "\n",
    "        matches_for_pd.append(tmp)\n",
    "    except Exception as e:\n",
    "        MLRS_COL.delete_one({\"_id\": entry['_id']})\n",
    "        print(e, entry['_id'])"
   ]
  },
  {
   "cell_type": "code",
   "execution_count": 17,
   "metadata": {},
   "outputs": [
    {
     "name": "stdout",
     "output_type": "stream",
     "text": [
      "<class 'pandas.core.frame.DataFrame'>\n",
      "RangeIndex: 13 entries, 0 to 12\n",
      "Columns: 338 entries, timestamp to building_35\n",
      "dtypes: int64(338)\n",
      "memory usage: 34.5 KB\n"
     ]
    }
   ],
   "source": [
    "df = pd.DataFrame(matches_for_pd)\n",
    "df.info()"
   ]
  },
  {
   "cell_type": "code",
   "execution_count": 18,
   "metadata": {},
   "outputs": [
    {
     "name": "stdout",
     "output_type": "stream",
     "text": [
      "Index(['timestamp', 'game_time', 'score', 'net_worth', 'team_2_player_0_level',\n",
      "       'team_2_player_0_kill_count', 'team_2_player_0_death_count',\n",
      "       'team_2_player_0_assists_count', 'team_2_player_0_denies_count',\n",
      "       'team_2_player_0_lh_count',\n",
      "       ...\n",
      "       'building_26', 'building_27', 'building_28', 'building_29',\n",
      "       'building_30', 'building_31', 'building_32', 'building_33',\n",
      "       'building_34', 'building_35'],\n",
      "      dtype='object', length=338)\n"
     ]
    }
   ],
   "source": [
    "print(df.columns)"
   ]
  },
  {
   "cell_type": "code",
   "execution_count": 19,
   "metadata": {},
   "outputs": [
    {
     "name": "stdout",
     "output_type": "stream",
     "text": [
      "[[1437 1097    8 ...    0    0    0]\n",
      " [1591 1250    7 ...    0    0    0]\n",
      " [1747 1406    5 ...    0    0    0]\n",
      " ...\n",
      " [2896 2555    3 ...    0    0    0]\n",
      " [2972 2631    1 ...    0    0    0]\n",
      " [3051 2711    2 ...    0    0    0]]\n"
     ]
    }
   ],
   "source": [
    "X = df.iloc[:, :].values\n",
    "print(X)"
   ]
  },
  {
   "cell_type": "code",
   "execution_count": 20,
   "metadata": {},
   "outputs": [
    {
     "name": "stdout",
     "output_type": "stream",
     "text": [
      "[ 2667  2327     9  3224    19     2     5    17     7   184  2535 15780\n",
      "    50    34   119    40    31   108    -1    -1    13    18     7     8\n",
      "    13     2   143  2315 14360   100    40   178   214   108    73    73\n",
      "    -1    -1    18     6     8    18     6    42  1200  9455   180     1\n",
      "   254   188    40   232  4204  1123    -1    24    11     0     7    11\n",
      "   298  2122 23872    48    30   600   123   692   116    -1    -1    -1\n",
      "    23     8     4    10    24   418  2630 24830   154   117   116    63\n",
      "   158   123    26     5    -1    23     9     5     5    20   362   102\n",
      " 22752   116   160   147    63  1808    81    -1    -1    -1    19     6\n",
      "     4    16     4   222  1811 17186   263   180    36  1107   147    41\n",
      "    -1    -1    -1    20     4     9    17     0   170   760 15460   152\n",
      "    50   108   162   692   244    -1    -1    -1    18     4     6    17\n",
      "     5   104   613 12868   232   108   180     1    36    40    -1   244\n",
      "   188    21     1    10     7     4   236  4407 16807     1    36    65\n",
      "   252   108    29    -1    -1    -1   508  1308  1365  1427  1463  1399\n",
      "  1511  1690  1357  1537  1677  1772  2195  1865  1821  1770  1851  1957\n",
      "  1866  2155  2021  1712  1605  1875  1637  1586   927  1059  1858  1696\n",
      "  1911  1246   594   118   134   265  1021  1529  1384  2481  2651  2641\n",
      "  2712  2968  2531  1915  2942  3276  3326  3007  2531  3390  3787  3440\n",
      "  3398  3721  3732  3687  3312  3354  3488  4238  2488  2647  2772  3498\n",
      "  3814  3620  2571  1805  2196  1892  1089  1071   628   -34    10  -192\n",
      "  -395  -439   233  2612  2847  3596  3209  2839  2487  3824  4802  4971\n",
      "  4460  5760  5119  4118  4337  4060  6167  6790  7317  7056  7729  6879\n",
      "  6669  6641  6785  7367  5865  5819  5699  4328  2228  2677  2147  2410\n",
      "  2386  2306  3721  3857  3359  2835  3270  4177  4526  4404  3916  3561\n",
      "  3307  3115     1     0     0     1     0     0     1     0     0     0\n",
      "     0     0     0     0     0     0     0     0     1     1     0     1\n",
      "     0     0     1     1     0     0     0     0     0     0     0     0\n",
      "     0     0]\n"
     ]
    }
   ],
   "source": [
    "print(X[-4])"
   ]
  },
  {
   "cell_type": "code",
   "execution_count": 35,
   "metadata": {},
   "outputs": [
    {
     "name": "stdout",
     "output_type": "stream",
     "text": [
      "radiant 0.7\n",
      "radiant 0.67\n",
      "radiant 0.51\n",
      "radiant 0.61\n",
      "radiant 0.59\n",
      "radiant 0.55\n",
      "radiant 0.64\n",
      "radiant 0.76\n",
      "radiant 0.67\n",
      "radiant 0.68\n",
      "dire 0.53\n",
      "dire 0.61\n",
      "dire 0.68\n"
     ]
    }
   ],
   "source": [
    "for pred in et_classifier.predict_proba(X):\n",
    "    if pred[0] > pred[1]:\n",
    "        print('dire', round(pred[0], 2))\n",
    "    else:\n",
    "        print('radiant', round(pred[1], 2))"
   ]
  },
  {
   "cell_type": "code",
   "execution_count": 36,
   "metadata": {},
   "outputs": [
    {
     "name": "stdout",
     "output_type": "stream",
     "text": [
      "dire 0.81\n",
      "dire 0.99\n",
      "dire 0.97\n",
      "dire 0.54\n",
      "radiant 0.69\n",
      "radiant 0.71\n",
      "radiant 0.6\n",
      "radiant 0.87\n",
      "radiant 0.85\n",
      "radiant 0.93\n",
      "radiant 0.74\n",
      "dire 0.72\n",
      "dire 0.93\n"
     ]
    }
   ],
   "source": [
    "for pred in gb_classifier.predict_proba(X):\n",
    "    if pred[0] > pred[1]:\n",
    "        print('dire', round(pred[0], 2))\n",
    "    else:\n",
    "        print('radiant', round(pred[1], 2))"
   ]
  },
  {
   "cell_type": "code",
   "execution_count": 37,
   "metadata": {},
   "outputs": [
    {
     "name": "stdout",
     "output_type": "stream",
     "text": [
      "radiant 0.96\n",
      "radiant 0.8\n",
      "radiant 0.68\n",
      "radiant 0.88\n",
      "radiant 0.82\n",
      "radiant 0.82\n",
      "radiant 0.74\n",
      "radiant 0.84\n",
      "radiant 0.71\n",
      "radiant 0.71\n",
      "dire 0.58\n",
      "dire 0.74\n",
      "dire 0.83\n"
     ]
    }
   ],
   "source": [
    "for pred in hgb_classifier.predict_proba(X):\n",
    "    if pred[0] > pred[1]:\n",
    "        print('dire', round(pred[0], 2))\n",
    "    else:\n",
    "        print('radiant', round(pred[1], 2))"
   ]
  },
  {
   "cell_type": "code",
   "execution_count": 38,
   "metadata": {},
   "outputs": [
    {
     "name": "stdout",
     "output_type": "stream",
     "text": [
      "radiant 0.64\n",
      "radiant 0.64\n",
      "dire 0.62\n",
      "radiant 0.6\n",
      "radiant 0.68\n",
      "radiant 0.66\n",
      "radiant 0.64\n",
      "radiant 0.72\n",
      "radiant 0.62\n",
      "radiant 0.56\n",
      "dire 0.66\n",
      "dire 0.8\n",
      "dire 0.62\n"
     ]
    }
   ],
   "source": [
    "for pred in rf_classifier.predict_proba(X):\n",
    "    if pred[0] > pred[1]:\n",
    "        print('dire', round(pred[0], 2))\n",
    "    else:\n",
    "        print('radiant', round(pred[1], 2))"
   ]
  }
 ],
 "metadata": {
  "kernelspec": {
   "display_name": "Python 3",
   "language": "python",
   "name": "python3"
  },
  "language_info": {
   "codemirror_mode": {
    "name": "ipython",
    "version": 3
   },
   "file_extension": ".py",
   "mimetype": "text/x-python",
   "name": "python",
   "nbconvert_exporter": "python",
   "pygments_lexer": "ipython3",
   "version": "3.10.0"
  }
 },
 "nbformat": 4,
 "nbformat_minor": 2
}
