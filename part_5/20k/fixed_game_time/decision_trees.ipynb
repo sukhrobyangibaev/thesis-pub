{
 "cells": [
  {
   "cell_type": "code",
   "execution_count": 1,
   "metadata": {},
   "outputs": [],
   "source": [
    "import pandas as pd\n",
    "import numpy as np\n",
    "from sklearn.model_selection import train_test_split\n",
    "from sklearn.preprocessing import LabelEncoder, StandardScaler\n",
    "from sklearn import tree\n",
    "from sklearn.tree import DecisionTreeClassifier\n",
    "from sklearn.ensemble import ExtraTreesClassifier, GradientBoostingClassifier, HistGradientBoostingClassifier, RandomForestClassifier, AdaBoostClassifier\n",
    "from sklearn.metrics import accuracy_score, confusion_matrix\n",
    "import matplotlib.pyplot as plt\n",
    "import pymongo\n",
    "import json\n",
    "import requests\n",
    "from bs4 import BeautifulSoup"
   ]
  },
  {
   "cell_type": "code",
   "execution_count": 2,
   "metadata": {},
   "outputs": [],
   "source": [
    "MONGO_CLIENT = pymongo.MongoClient(\"mongodb://localhost:27017/\")\n",
    "SDA_DB = MONGO_CLIENT[\"steam_dota_api\"]\n",
    "MLRS_COL = SDA_DB[\"multi_real_time_stats\"]"
   ]
  },
  {
   "cell_type": "code",
   "execution_count": 3,
   "metadata": {},
   "outputs": [],
   "source": [
    "# heros_by_names = {}\n",
    "# heroid_winrate = {}\n",
    "# headers = {\n",
    "#     'User-Agent': 'Mozilla/5.0 (X11; Linux i686) AppleWebKit/537.36 (KHTML, like Gecko) Chrome/84.0.4147.135 Safari/537.36'}\n",
    "# page_link = 'https://www.dotabuff.com/heroes/winning'\n",
    "\n",
    "# f = open('heroes.json')\n",
    "# data = json.load(f)\n",
    "\n",
    "# for hero in data:\n",
    "#     heros_by_names[hero['localized_name']] = hero['id']\n",
    "\n",
    "# page_response = requests.get(page_link, timeout=5, headers=headers)\n",
    "# soup = BeautifulSoup(page_response.content, \"html.parser\")\n",
    "# trs = soup.find_all('tr')\n",
    "# for tr in trs[1:]:\n",
    "#     hero_name, winrate = tr.find_all('td')[1:3]\n",
    "#     heroid_winrate[heros_by_names.get(hero_name.a.string)] = winrate['data-value']"
   ]
  },
  {
   "cell_type": "code",
   "execution_count": 4,
   "metadata": {},
   "outputs": [],
   "source": [
    "matches = MLRS_COL.find({\"match.winner\": {\"$exists\": True}, \n",
    "                         \"$and\": [\n",
    "                         {\"match.game_time\": {\"$gte\": 600}},\n",
    "                         {\"match.game_time\": {\"$lte\": 1200}}]})"
   ]
  },
  {
   "cell_type": "code",
   "execution_count": 5,
   "metadata": {},
   "outputs": [
    {
     "name": "stdout",
     "output_type": "stream",
     "text": [
      "'items' 7539763194\n",
      "'items' 7539769586\n",
      "'items' 7540344483\n",
      "'items' 7540344483\n",
      "'items' 7539940347\n",
      "'items' 7539940347\n",
      "'items' 7539947961\n",
      "'items' 7539947961\n",
      "'items' 7541460439\n",
      "'items' 7541460439\n",
      "'items' 7541497612\n",
      "'items' 7541497612\n",
      "'items' 7545694391\n",
      "'items' 7545699932\n",
      "'items' 7545712288\n",
      "'items' 7545712288\n",
      "'items' 7545712288\n",
      "'items' 7545712288\n",
      "'items' 7545712288\n",
      "'items' 7545759506\n",
      "'items' 7545773946\n",
      "'items' 7545871185\n",
      "'items' 7545864833\n",
      "'items' 7545871185\n",
      "'items' 7545871185\n",
      "'items' 7545871185\n",
      "'items' 7545896481\n",
      "'items' 7545896481\n",
      "'items' 7545974086\n",
      "'items' 7545974086\n",
      "'items' 7546128945\n",
      "'items' 7546156007\n",
      "'items' 7547417213\n",
      "'items' 7547460156\n",
      "'items' 7547460156\n",
      "'items' 7547470738\n",
      "'items' 7547483885\n",
      "'items' 7547483885\n",
      "'items' 7548991466\n",
      "'items' 7549499571\n",
      "'items' 7549499571\n",
      "'items' 7550585270\n",
      "'items' 7550625599\n",
      "'items' 7550704109\n",
      "'items' 7550720961\n",
      "'items' 7551830846\n",
      "'items' 7551830846\n",
      "'items' 7551830846\n",
      "'items' 7551830846\n",
      "'items' 7551830846\n",
      "'items' 7551830846\n",
      "'items' 7551830846\n",
      "'items' 7551830846\n",
      "'items' 7551873444\n",
      "'items' 7551873444\n",
      "'items' 7551873444\n",
      "'items' 7551873444\n",
      "'items' 7551873444\n",
      "'items' 7551873444\n",
      "'items' 7551873444\n",
      "'items' 7551873444\n",
      "'items' 7553892089\n",
      "'items' 7553892089\n",
      "'items' 7553898333\n",
      "'items' 7554987075\n"
     ]
    }
   ],
   "source": [
    "matches_for_pd = []\n",
    "\n",
    "for entry in matches:\n",
    "    try:\n",
    "        tmp = {}\n",
    "\n",
    "        tmp[\"timestamp\"] = entry[\"match\"][\"timestamp\"]\n",
    "        tmp[\"game_time\"] = entry[\"match\"][\"game_time\"]\n",
    "\n",
    "        tmp['score'] = entry[\"teams\"][0][\"score\"] - entry[\"teams\"][1][\"score\"]\n",
    "        tmp['net_worth'] = entry[\"teams\"][0][\"net_worth\"] - entry[\"teams\"][1][\"net_worth\"]\n",
    "\n",
    "        for team in entry[\"teams\"]:\n",
    "            for p_idx, player in enumerate(team[\"players\"]):\n",
    "                # tmp[\"team_{}_player_{}_winrate\".format(team[\"team_number\"], p_idx)] = float(heroid_winrate[player['heroid']]) - 50\n",
    "                tmp[\"team_{}_player_{}_heroid\".format(team[\"team_number\"], p_idx)] = player['heroid']\n",
    "                tmp[\"team_{}_player_{}_level\".format(team[\"team_number\"], p_idx)] = player['level']\n",
    "                tmp[\"team_{}_player_{}_kill_count\".format(team[\"team_number\"], p_idx)] = player['kill_count']\n",
    "                tmp[\"team_{}_player_{}_death_count\".format(team[\"team_number\"], p_idx)] = player['death_count']\n",
    "                tmp[\"team_{}_player_{}_assists_count\".format(team[\"team_number\"], p_idx)] = player['assists_count']\n",
    "                tmp[\"team_{}_player_{}_denies_count\".format(team[\"team_number\"], p_idx)] = player['denies_count']\n",
    "                tmp[\"team_{}_player_{}_lh_count\".format(team[\"team_number\"], p_idx)] = player['lh_count']\n",
    "                tmp[\"team_{}_player_{}_gold\".format(team[\"team_number\"], p_idx)] = player['gold']\n",
    "                tmp[\"team_{}_player_{}_net_worth\".format(team[\"team_number\"], p_idx)] = player['net_worth']\n",
    "\n",
    "                for i_idx, item in enumerate(player['items']):\n",
    "                    tmp[\"team_{}_player_{}_item_{}\".format(team[\"team_number\"], p_idx, i_idx)] = item\n",
    "\n",
    "        for gg_idx, graph_gold in enumerate(entry['graph_data']['graph_gold']):\n",
    "            tmp['graph_gold_{}'.format(gg_idx)] = graph_gold\n",
    "\n",
    "\n",
    "        # tmp[\"building\"] = entry[\"buildings\"][0][\"destroyed\"]\n",
    "\n",
    "        tmp[\"winner\"] = entry[\"match\"][\"winner\"]\n",
    "\n",
    "        matches_for_pd.append(tmp)\n",
    "    except Exception as e:\n",
    "        print(e, entry['match']['match_id'])"
   ]
  },
  {
   "cell_type": "code",
   "execution_count": 6,
   "metadata": {},
   "outputs": [],
   "source": [
    "df = pd.DataFrame(matches_for_pd)"
   ]
  },
  {
   "cell_type": "code",
   "execution_count": 7,
   "metadata": {},
   "outputs": [
    {
     "data": {
      "text/plain": [
       "(7544, 313)"
      ]
     },
     "execution_count": 7,
     "metadata": {},
     "output_type": "execute_result"
    }
   ],
   "source": [
    "df.shape"
   ]
  },
  {
   "cell_type": "code",
   "execution_count": 8,
   "metadata": {},
   "outputs": [],
   "source": [
    "df.to_csv('7544_samples_fixed_game_time.csv', index=False)"
   ]
  },
  {
   "cell_type": "code",
   "execution_count": 9,
   "metadata": {},
   "outputs": [],
   "source": [
    "X = df.iloc[:, 0:-1].values\n",
    "y = df.iloc[:, -1].values"
   ]
  },
  {
   "cell_type": "code",
   "execution_count": 10,
   "metadata": {},
   "outputs": [],
   "source": [
    "X_train, X_test, y_train, y_test = train_test_split(X, y, test_size=0.1, random_state=1)"
   ]
  },
  {
   "cell_type": "code",
   "execution_count": 11,
   "metadata": {},
   "outputs": [],
   "source": [
    "results = []"
   ]
  },
  {
   "cell_type": "code",
   "execution_count": 12,
   "metadata": {},
   "outputs": [
    {
     "name": "stdout",
     "output_type": "stream",
     "text": [
      "0.8304635761589404\n"
     ]
    }
   ],
   "source": [
    "criterion = 'gini'\n",
    "\n",
    "classifier = DecisionTreeClassifier(criterion=criterion, random_state=1)\n",
    "classifier.fit(X_train, y_train)\n",
    "y_pred = classifier.predict(X_test)\n",
    "\n",
    "acc = accuracy_score(y_test, y_pred)\n",
    "print(acc)\n",
    "results.append({\n",
    "    'classifier': 'CART',\n",
    "    'criterion': criterion,\n",
    "    'accuracy_score': acc\n",
    "    })"
   ]
  },
  {
   "cell_type": "code",
   "execution_count": 13,
   "metadata": {},
   "outputs": [
    {
     "name": "stdout",
     "output_type": "stream",
     "text": [
      "0.833112582781457\n"
     ]
    }
   ],
   "source": [
    "criterion = 'entropy'\n",
    "\n",
    "classifier = DecisionTreeClassifier(criterion=criterion, random_state=1)\n",
    "classifier.fit(X_train, y_train)\n",
    "y_pred = classifier.predict(X_test)\n",
    "\n",
    "acc = accuracy_score(y_test, y_pred)\n",
    "print(acc)\n",
    "results.append({\n",
    "    'classifier': 'C4.5',\n",
    "    'criterion': criterion,\n",
    "    'accuracy_score': acc\n",
    "    })"
   ]
  },
  {
   "cell_type": "code",
   "execution_count": 14,
   "metadata": {},
   "outputs": [
    {
     "name": "stdout",
     "output_type": "stream",
     "text": [
      "0.9059602649006623\n"
     ]
    }
   ],
   "source": [
    "# criterions = ['gini', 'entropy', 'log_loss']\n",
    "# n_estimators_arr = [10, 20, 50, 100, 150]\n",
    "etc_results = []\n",
    "\n",
    "# for criterion in criterions:\n",
    "#     for n_estimators in n_estimators_arr:\n",
    "classifier = ExtraTreesClassifier(criterion='entropy', n_estimators=150, random_state=1)\n",
    "classifier.fit(X_train, y_train)\n",
    "y_pred = classifier.predict(X_test)\n",
    "etc_results.append({\n",
    "    'criterion': 'entropy',\n",
    "    'n_estimators': 150, \n",
    "    'accuracy_score': accuracy_score(y_test, y_pred)})\n",
    "\n",
    "result = max(etc_results, key=lambda x: x['accuracy_score'])\n",
    "print(result['accuracy_score'])\n",
    "result['classifier'] = 'Extra Trees Classifier'\n",
    "results.append(result)"
   ]
  },
  {
   "cell_type": "code",
   "execution_count": 15,
   "metadata": {},
   "outputs": [
    {
     "name": "stdout",
     "output_type": "stream",
     "text": [
      "0.9245033112582781\n"
     ]
    }
   ],
   "source": [
    "# {'loss': 'log_loss',\n",
    "#   'learning_rate': 1,\n",
    "#   'n_estimators': 50,\n",
    "#   'criterion': 'friedman_mse',\n",
    "#   'max_depth': 4,\n",
    "#   'accuracy_score': 0.8166666666666667,\n",
    "#   'classifier': 'Gradient Boosting'},\n",
    "\n",
    "\n",
    "gb_results = []\n",
    "\n",
    "classifier = GradientBoostingClassifier(loss='log_loss', n_estimators=50, learning_rate=1, criterion='friedman_mse', max_depth=4, random_state=1)\n",
    "classifier.fit(X_train, y_train)\n",
    "y_pred = classifier.predict(X_test)\n",
    "gb_results.append({\n",
    "    'loss': 'log_loss',\n",
    "    'learning_rate': 1,\n",
    "    'n_estimators': 50,\n",
    "    'criterion': 'friedman_mse',\n",
    "    'max_depth': 4,\n",
    "    'accuracy_score': accuracy_score(y_test, y_pred)\n",
    "})\n",
    "\n",
    "result = max(gb_results, key=lambda x: x['accuracy_score'])\n",
    "print(result['accuracy_score'])\n",
    "result['classifier'] = 'Gradient Boosting'\n",
    "results.append(result)"
   ]
  },
  {
   "cell_type": "code",
   "execution_count": 16,
   "metadata": {},
   "outputs": [
    {
     "name": "stdout",
     "output_type": "stream",
     "text": [
      "0.9854304635761589\n"
     ]
    }
   ],
   "source": [
    "# {'learning_rate': 0.2,\n",
    "#   'max_iter': 100,\n",
    "#   'accuracy_score': 0.6505376344086021,\n",
    "#   'classifier': 'Hist Gradient Boosting'},\n",
    "\n",
    "# learning_rate_arr = [0.1, 0.2, 0.5, 1]\n",
    "# max_iter_arr = [10, 50, 100, 150]\n",
    "hgb_results = []\n",
    "\n",
    "# for learning_rate in learning_rate_arr:\n",
    "#     for max_iter in max_iter_arr:\n",
    "classifier = HistGradientBoostingClassifier(learning_rate=0.2, max_iter=100, random_state=1)\n",
    "classifier.fit(X_train, y_train)\n",
    "y_pred = classifier.predict(X_test)\n",
    "hgb_results.append({\n",
    "    'learning_rate': 0.2,\n",
    "    'max_iter': 100,\n",
    "    'accuracy_score': accuracy_score(y_test, y_pred)\n",
    "})\n",
    "\n",
    "result = max(hgb_results, key=lambda x: x['accuracy_score'])\n",
    "print(result['accuracy_score'])\n",
    "result['classifier'] = 'Hist Gradient Boosting'\n",
    "results.append(result)"
   ]
  },
  {
   "cell_type": "code",
   "execution_count": 17,
   "metadata": {},
   "outputs": [
    {
     "name": "stdout",
     "output_type": "stream",
     "text": [
      "0.871523178807947\n"
     ]
    }
   ],
   "source": [
    "#  {'n_estimators': 50,\n",
    "#   'criterion': 'gini',\n",
    "#   'accuracy_score': 0.6881720430107527,\n",
    "#   'classifier': 'Random Forest'},\n",
    "\n",
    "# n_estimators_arr = [10, 20, 50, 100, 150]\n",
    "# criterion_arr = ['gini', 'entropy']\n",
    "rf_results = []\n",
    "\n",
    "# for n_estimators in 50:\n",
    "#     for criterion in criterion_arr:\n",
    "classifier = RandomForestClassifier(n_estimators=50, criterion='gini', random_state=1)\n",
    "classifier.fit(X_train, y_train)\n",
    "y_pred = classifier.predict(X_test)\n",
    "rf_results.append({\n",
    "    'n_estimators': 50,\n",
    "    'criterion': 'gini',\n",
    "    'accuracy_score': accuracy_score(y_test, y_pred)\n",
    "})\n",
    "\n",
    "result = max(rf_results, key=lambda x: x['accuracy_score'])\n",
    "print(result['accuracy_score'])\n",
    "result['classifier'] = 'Random Forest'\n",
    "results.append(result)"
   ]
  },
  {
   "cell_type": "code",
   "execution_count": 18,
   "metadata": {},
   "outputs": [
    {
     "name": "stdout",
     "output_type": "stream",
     "text": [
      "0.7019867549668874\n"
     ]
    }
   ],
   "source": [
    "#  {'n_estimators': 50,\n",
    "#   'learning_rate': 0.1,\n",
    "#   'algorithm': 'SAMME.R',\n",
    "#   'accuracy_score': 0.7150537634408602,\n",
    "#   'classifier': 'Adaboost'}]\n",
    "\n",
    "# n_estimators_arr = [10, 20, 50, 100, 150]\n",
    "# learning_rate_arr = [0.1, 0.2, 0.5, 1]\n",
    "# algorithm_arr = ['SAMME', 'SAMME.R']\n",
    "ada_results = []\n",
    "\n",
    "# for n_estimators in n_estimators_arr:\n",
    "#     for learning_rate in learning_rate_arr:\n",
    "#         for algorithm in algorithm_arr:\n",
    "classifier = AdaBoostClassifier(n_estimators=50, learning_rate=0.1, algorithm='SAMME.R', random_state=0)\n",
    "classifier.fit(X_train, y_train)\n",
    "y_pred = classifier.predict(X_test)\n",
    "ada_results.append({\n",
    "    'n_estimators': 50,\n",
    "    'learning_rate': 0.1,\n",
    "    'algorithm': 'SAMME.R',\n",
    "    'accuracy_score': accuracy_score(y_test, y_pred)\n",
    "})\n",
    "\n",
    "result = max(ada_results, key=lambda x: x['accuracy_score'])\n",
    "print(result['accuracy_score'])\n",
    "result['classifier'] = 'Adaboost'\n",
    "results.append(result)"
   ]
  },
  {
   "cell_type": "code",
   "execution_count": 19,
   "metadata": {},
   "outputs": [
    {
     "data": {
      "image/png": "[encoded data removed]",
      "text/plain": [
       "<Figure size 640x480 with 1 Axes>"
      ]
     },
     "metadata": {},
     "output_type": "display_data"
    }
   ],
   "source": [
    "plt.rcdefaults()\n",
    "fig, ax = plt.subplots()\n",
    "\n",
    "df = pd.DataFrame(results)\n",
    "\n",
    "df_sorted = df.sort_values('accuracy_score')\n",
    "\n",
    "ax.barh('classifier', 'accuracy_score', data=df_sorted)\n",
    "for i in range(len(results)):\n",
    "    ax.text(results[i]['accuracy_score'] * 0.9, results[i]['classifier'], round(results[i]['accuracy_score'], 4), ha='center', color='black')\n"
   ]
  }
 ],
 "metadata": {
  "kernelspec": {
   "display_name": "Python 3",
   "language": "python",
   "name": "python3"
  },
  "language_info": {
   "codemirror_mode": {
    "name": "ipython",
    "version": 3
   },
   "file_extension": ".py",
   "mimetype": "text/x-python",
   "name": "python",
   "nbconvert_exporter": "python",
   "pygments_lexer": "ipython3",
   "version": "3.12.0"
  }
 },
 "nbformat": 4,
 "nbformat_minor": 2
}
