{
 "cells": [
  {
   "cell_type": "code",
   "execution_count": 14,
   "metadata": {},
   "outputs": [],
   "source": [
    "import pandas as pd\n",
    "import numpy as np\n",
    "from sklearn.model_selection import train_test_split\n",
    "from sklearn.preprocessing import LabelEncoder, StandardScaler\n",
    "from sklearn import tree\n",
    "from sklearn.tree import DecisionTreeClassifier\n",
    "from sklearn.ensemble import ExtraTreesClassifier, GradientBoostingClassifier, HistGradientBoostingClassifier, RandomForestClassifier, AdaBoostClassifier\n",
    "from sklearn.metrics import accuracy_score, confusion_matrix\n",
    "import matplotlib.pyplot as plt"
   ]
  },
  {
   "cell_type": "code",
   "execution_count": 15,
   "metadata": {},
   "outputs": [
    {
     "data": {
      "text/html": [
       "<div>\n",
       "<style scoped>\n",
       "    .dataframe tbody tr th:only-of-type {\n",
       "        vertical-align: middle;\n",
       "    }\n",
       "\n",
       "    .dataframe tbody tr th {\n",
       "        vertical-align: top;\n",
       "    }\n",
       "\n",
       "    .dataframe thead th {\n",
       "        text-align: right;\n",
       "    }\n",
       "</style>\n",
       "<table border=\"1\" class=\"dataframe\">\n",
       "  <thead>\n",
       "    <tr style=\"text-align: right;\">\n",
       "      <th></th>\n",
       "      <th>opposing_team_id</th>\n",
       "      <th>side</th>\n",
       "      <th>duration</th>\n",
       "      <th>my_hero_1</th>\n",
       "      <th>my_hero_2</th>\n",
       "      <th>my_hero_3</th>\n",
       "      <th>my_hero_4</th>\n",
       "      <th>my_hero_5</th>\n",
       "      <th>opposing_hero_1</th>\n",
       "      <th>opposing_hero_2</th>\n",
       "      <th>opposing_hero_3</th>\n",
       "      <th>opposing_hero_4</th>\n",
       "      <th>opposing_hero_5</th>\n",
       "      <th>my_team_kills</th>\n",
       "      <th>opposing_team_kills</th>\n",
       "      <th>gold_adv</th>\n",
       "      <th>xp_adv</th>\n",
       "      <th>my_tower_status</th>\n",
       "      <th>opposing_team_tower_status</th>\n",
       "      <th>win</th>\n",
       "    </tr>\n",
       "  </thead>\n",
       "  <tbody>\n",
       "    <tr>\n",
       "      <th>0</th>\n",
       "      <td>7732977</td>\n",
       "      <td>dire</td>\n",
       "      <td>1901</td>\n",
       "      <td>136</td>\n",
       "      <td>11</td>\n",
       "      <td>61</td>\n",
       "      <td>87</td>\n",
       "      <td>17</td>\n",
       "      <td>85</td>\n",
       "      <td>123</td>\n",
       "      <td>43</td>\n",
       "      <td>46</td>\n",
       "      <td>19</td>\n",
       "      <td>28</td>\n",
       "      <td>13</td>\n",
       "      <td>19623</td>\n",
       "      <td>18197</td>\n",
       "      <td>1974</td>\n",
       "      <td>1536</td>\n",
       "      <td>1</td>\n",
       "    </tr>\n",
       "    <tr>\n",
       "      <th>1</th>\n",
       "      <td>7732977</td>\n",
       "      <td>radiant</td>\n",
       "      <td>1613</td>\n",
       "      <td>137</td>\n",
       "      <td>52</td>\n",
       "      <td>91</td>\n",
       "      <td>18</td>\n",
       "      <td>7</td>\n",
       "      <td>129</td>\n",
       "      <td>119</td>\n",
       "      <td>74</td>\n",
       "      <td>68</td>\n",
       "      <td>10</td>\n",
       "      <td>22</td>\n",
       "      <td>6</td>\n",
       "      <td>24806</td>\n",
       "      <td>29717</td>\n",
       "      <td>1983</td>\n",
       "      <td>1572</td>\n",
       "      <td>1</td>\n",
       "    </tr>\n",
       "    <tr>\n",
       "      <th>2</th>\n",
       "      <td>6209804</td>\n",
       "      <td>radiant</td>\n",
       "      <td>1672</td>\n",
       "      <td>137</td>\n",
       "      <td>66</td>\n",
       "      <td>114</td>\n",
       "      <td>38</td>\n",
       "      <td>119</td>\n",
       "      <td>11</td>\n",
       "      <td>88</td>\n",
       "      <td>128</td>\n",
       "      <td>120</td>\n",
       "      <td>64</td>\n",
       "      <td>32</td>\n",
       "      <td>9</td>\n",
       "      <td>15500</td>\n",
       "      <td>16130</td>\n",
       "      <td>1983</td>\n",
       "      <td>1536</td>\n",
       "      <td>1</td>\n",
       "    </tr>\n",
       "    <tr>\n",
       "      <th>3</th>\n",
       "      <td>2163</td>\n",
       "      <td>radiant</td>\n",
       "      <td>2583</td>\n",
       "      <td>33</td>\n",
       "      <td>19</td>\n",
       "      <td>110</td>\n",
       "      <td>13</td>\n",
       "      <td>10</td>\n",
       "      <td>85</td>\n",
       "      <td>120</td>\n",
       "      <td>86</td>\n",
       "      <td>35</td>\n",
       "      <td>2</td>\n",
       "      <td>20</td>\n",
       "      <td>25</td>\n",
       "      <td>10673</td>\n",
       "      <td>18586</td>\n",
       "      <td>1956</td>\n",
       "      <td>288</td>\n",
       "      <td>1</td>\n",
       "    </tr>\n",
       "    <tr>\n",
       "      <th>4</th>\n",
       "      <td>2163</td>\n",
       "      <td>radiant</td>\n",
       "      <td>2785</td>\n",
       "      <td>33</td>\n",
       "      <td>19</td>\n",
       "      <td>25</td>\n",
       "      <td>87</td>\n",
       "      <td>54</td>\n",
       "      <td>137</td>\n",
       "      <td>85</td>\n",
       "      <td>52</td>\n",
       "      <td>38</td>\n",
       "      <td>99</td>\n",
       "      <td>32</td>\n",
       "      <td>29</td>\n",
       "      <td>14209</td>\n",
       "      <td>32044</td>\n",
       "      <td>1828</td>\n",
       "      <td>0</td>\n",
       "      <td>1</td>\n",
       "    </tr>\n",
       "  </tbody>\n",
       "</table>\n",
       "</div>"
      ],
      "text/plain": [
       "   opposing_team_id     side  duration  my_hero_1  my_hero_2  my_hero_3   \n",
       "0           7732977     dire      1901        136         11         61  \\\n",
       "1           7732977  radiant      1613        137         52         91   \n",
       "2           6209804  radiant      1672        137         66        114   \n",
       "3              2163  radiant      2583         33         19        110   \n",
       "4              2163  radiant      2785         33         19         25   \n",
       "\n",
       "   my_hero_4  my_hero_5  opposing_hero_1  opposing_hero_2  opposing_hero_3   \n",
       "0         87         17               85              123               43  \\\n",
       "1         18          7              129              119               74   \n",
       "2         38        119               11               88              128   \n",
       "3         13         10               85              120               86   \n",
       "4         87         54              137               85               52   \n",
       "\n",
       "   opposing_hero_4  opposing_hero_5  my_team_kills  opposing_team_kills   \n",
       "0               46               19             28                   13  \\\n",
       "1               68               10             22                    6   \n",
       "2              120               64             32                    9   \n",
       "3               35                2             20                   25   \n",
       "4               38               99             32                   29   \n",
       "\n",
       "   gold_adv  xp_adv  my_tower_status  opposing_team_tower_status  win  \n",
       "0     19623   18197             1974                        1536    1  \n",
       "1     24806   29717             1983                        1572    1  \n",
       "2     15500   16130             1983                        1536    1  \n",
       "3     10673   18586             1956                         288    1  \n",
       "4     14209   32044             1828                           0    1  "
      ]
     },
     "execution_count": 15,
     "metadata": {},
     "output_type": "execute_result"
    }
   ],
   "source": [
    "dataset = pd.read_csv('psglgd.csv').iloc[:, 2:]\n",
    "dataset.head()"
   ]
  },
  {
   "cell_type": "code",
   "execution_count": 16,
   "metadata": {},
   "outputs": [
    {
     "data": {
      "text/html": [
       "<div>\n",
       "<style scoped>\n",
       "    .dataframe tbody tr th:only-of-type {\n",
       "        vertical-align: middle;\n",
       "    }\n",
       "\n",
       "    .dataframe tbody tr th {\n",
       "        vertical-align: top;\n",
       "    }\n",
       "\n",
       "    .dataframe thead th {\n",
       "        text-align: right;\n",
       "    }\n",
       "</style>\n",
       "<table border=\"1\" class=\"dataframe\">\n",
       "  <thead>\n",
       "    <tr style=\"text-align: right;\">\n",
       "      <th></th>\n",
       "      <th>columns</th>\n",
       "    </tr>\n",
       "  </thead>\n",
       "  <tbody>\n",
       "    <tr>\n",
       "      <th>0</th>\n",
       "      <td>opposing_team_id</td>\n",
       "    </tr>\n",
       "    <tr>\n",
       "      <th>1</th>\n",
       "      <td>side</td>\n",
       "    </tr>\n",
       "    <tr>\n",
       "      <th>2</th>\n",
       "      <td>duration</td>\n",
       "    </tr>\n",
       "    <tr>\n",
       "      <th>3</th>\n",
       "      <td>my_hero_1</td>\n",
       "    </tr>\n",
       "    <tr>\n",
       "      <th>4</th>\n",
       "      <td>my_hero_2</td>\n",
       "    </tr>\n",
       "    <tr>\n",
       "      <th>5</th>\n",
       "      <td>my_hero_3</td>\n",
       "    </tr>\n",
       "    <tr>\n",
       "      <th>6</th>\n",
       "      <td>my_hero_4</td>\n",
       "    </tr>\n",
       "    <tr>\n",
       "      <th>7</th>\n",
       "      <td>my_hero_5</td>\n",
       "    </tr>\n",
       "    <tr>\n",
       "      <th>8</th>\n",
       "      <td>opposing_hero_1</td>\n",
       "    </tr>\n",
       "    <tr>\n",
       "      <th>9</th>\n",
       "      <td>opposing_hero_2</td>\n",
       "    </tr>\n",
       "    <tr>\n",
       "      <th>10</th>\n",
       "      <td>opposing_hero_3</td>\n",
       "    </tr>\n",
       "    <tr>\n",
       "      <th>11</th>\n",
       "      <td>opposing_hero_4</td>\n",
       "    </tr>\n",
       "    <tr>\n",
       "      <th>12</th>\n",
       "      <td>opposing_hero_5</td>\n",
       "    </tr>\n",
       "    <tr>\n",
       "      <th>13</th>\n",
       "      <td>my_team_kills</td>\n",
       "    </tr>\n",
       "    <tr>\n",
       "      <th>14</th>\n",
       "      <td>opposing_team_kills</td>\n",
       "    </tr>\n",
       "    <tr>\n",
       "      <th>15</th>\n",
       "      <td>gold_adv</td>\n",
       "    </tr>\n",
       "    <tr>\n",
       "      <th>16</th>\n",
       "      <td>xp_adv</td>\n",
       "    </tr>\n",
       "    <tr>\n",
       "      <th>17</th>\n",
       "      <td>my_tower_status</td>\n",
       "    </tr>\n",
       "    <tr>\n",
       "      <th>18</th>\n",
       "      <td>opposing_team_tower_status</td>\n",
       "    </tr>\n",
       "    <tr>\n",
       "      <th>19</th>\n",
       "      <td>win</td>\n",
       "    </tr>\n",
       "  </tbody>\n",
       "</table>\n",
       "</div>"
      ],
      "text/plain": [
       "                       columns\n",
       "0             opposing_team_id\n",
       "1                         side\n",
       "2                     duration\n",
       "3                    my_hero_1\n",
       "4                    my_hero_2\n",
       "5                    my_hero_3\n",
       "6                    my_hero_4\n",
       "7                    my_hero_5\n",
       "8              opposing_hero_1\n",
       "9              opposing_hero_2\n",
       "10             opposing_hero_3\n",
       "11             opposing_hero_4\n",
       "12             opposing_hero_5\n",
       "13               my_team_kills\n",
       "14         opposing_team_kills\n",
       "15                    gold_adv\n",
       "16                      xp_adv\n",
       "17             my_tower_status\n",
       "18  opposing_team_tower_status\n",
       "19                         win"
      ]
     },
     "execution_count": 16,
     "metadata": {},
     "output_type": "execute_result"
    }
   ],
   "source": [
    "pd.DataFrame({'columns': dataset.columns.tolist()})"
   ]
  },
  {
   "attachments": {},
   "cell_type": "markdown",
   "metadata": {},
   "source": [
    "# opposing_team_id\n",
    "# side\n",
    "# duration\n",
    "# gold_adv\n",
    "# xp_adv"
   ]
  },
  {
   "cell_type": "code",
   "execution_count": 17,
   "metadata": {},
   "outputs": [],
   "source": [
    "X = dataset.iloc[:, [0, 1, 2, 15, 16]].values #16-17 too dependent\n",
    "y = dataset.iloc[:, 19].values"
   ]
  },
  {
   "cell_type": "code",
   "execution_count": 18,
   "metadata": {},
   "outputs": [],
   "source": [
    "le = LabelEncoder()\n",
    "X[:, 0] = le.fit_transform(X[:, 0])\n",
    "le = LabelEncoder()\n",
    "X[:, 1] = le.fit_transform(X[:, 1])\n",
    "le = LabelEncoder()\n",
    "y = le.fit_transform(y)"
   ]
  },
  {
   "cell_type": "code",
   "execution_count": 19,
   "metadata": {},
   "outputs": [
    {
     "data": {
      "text/plain": [
       "array([115, 0, 1901, 19623, 18197], dtype=object)"
      ]
     },
     "execution_count": 19,
     "metadata": {},
     "output_type": "execute_result"
    }
   ],
   "source": [
    "X[0]"
   ]
  },
  {
   "cell_type": "code",
   "execution_count": 20,
   "metadata": {},
   "outputs": [
    {
     "data": {
      "text/plain": [
       "array([1, 1, 1, ..., 1, 1, 0], dtype=int64)"
      ]
     },
     "execution_count": 20,
     "metadata": {},
     "output_type": "execute_result"
    }
   ],
   "source": [
    "y"
   ]
  },
  {
   "cell_type": "code",
   "execution_count": 21,
   "metadata": {},
   "outputs": [],
   "source": [
    "X_train, X_test, y_train, y_test = train_test_split(X, y, test_size=0.2, random_state=1)"
   ]
  },
  {
   "cell_type": "code",
   "execution_count": 22,
   "metadata": {},
   "outputs": [],
   "source": [
    "results = []"
   ]
  },
  {
   "cell_type": "markdown",
   "metadata": {},
   "source": [
    "# CART gini"
   ]
  },
  {
   "cell_type": "code",
   "execution_count": 23,
   "metadata": {},
   "outputs": [
    {
     "name": "stdout",
     "output_type": "stream",
     "text": [
      "0.9128205128205128\n"
     ]
    }
   ],
   "source": [
    "criterion = 'gini'\n",
    "\n",
    "classifier = DecisionTreeClassifier(criterion=criterion, random_state=1)\n",
    "classifier.fit(X_train, y_train)\n",
    "y_pred = classifier.predict(X_test)\n",
    "\n",
    "acc = accuracy_score(y_test, y_pred)\n",
    "print(acc)\n",
    "results.append({\n",
    "    'classifier': 'CART', \n",
    "    'criterion': criterion,\n",
    "    'accuracy_score': acc\n",
    "    })"
   ]
  },
  {
   "cell_type": "markdown",
   "metadata": {},
   "source": [
    "# ID3 C4.5 entropy"
   ]
  },
  {
   "cell_type": "code",
   "execution_count": 24,
   "metadata": {},
   "outputs": [
    {
     "name": "stdout",
     "output_type": "stream",
     "text": [
      "0.9256410256410257\n"
     ]
    }
   ],
   "source": [
    "criterion = 'entropy'\n",
    "\n",
    "classifier = DecisionTreeClassifier(criterion=criterion, random_state=1)\n",
    "classifier.fit(X_train, y_train)\n",
    "y_pred = classifier.predict(X_test)\n",
    "\n",
    "acc = accuracy_score(y_test, y_pred)\n",
    "print(acc)\n",
    "results.append({\n",
    "    'classifier': 'C4.5',\n",
    "    'criterion': criterion,\n",
    "    'accuracy_score': acc\n",
    "    })"
   ]
  },
  {
   "cell_type": "markdown",
   "metadata": {},
   "source": [
    "# Extra Trees Classifier"
   ]
  },
  {
   "cell_type": "code",
   "execution_count": 25,
   "metadata": {},
   "outputs": [
    {
     "name": "stdout",
     "output_type": "stream",
     "text": [
      "0.9487179487179487\n"
     ]
    }
   ],
   "source": [
    "criterions = ['gini', 'entropy', 'log_loss']\n",
    "n_estimators_arr = [10, 20, 50, 100, 150]\n",
    "etc_results = []\n",
    "\n",
    "for criterion in criterions:\n",
    "    for n_estimators in n_estimators_arr:\n",
    "        classifier = ExtraTreesClassifier(criterion=criterion, n_estimators=n_estimators, random_state=1)\n",
    "        classifier.fit(X_train, y_train)\n",
    "        y_pred = classifier.predict(X_test)\n",
    "        etc_results.append({\n",
    "            'criterion': criterion,\n",
    "            'n_estimators': n_estimators, \n",
    "            'accuracy_score': accuracy_score(y_test, y_pred)})\n",
    "\n",
    "result = max(etc_results, key=lambda x: x['accuracy_score'])\n",
    "print(result['accuracy_score'])\n",
    "result['classifier'] = 'Extra Trees Classifier'\n",
    "results.append(result)"
   ]
  },
  {
   "cell_type": "markdown",
   "metadata": {},
   "source": [
    "# Gradient Boosting"
   ]
  },
  {
   "cell_type": "code",
   "execution_count": 26,
   "metadata": {},
   "outputs": [
    {
     "name": "stdout",
     "output_type": "stream",
     "text": [
      "0.9538461538461539\n"
     ]
    }
   ],
   "source": [
    "loss_arr = ['log_loss']\n",
    "learning_rate_arr = [0.1, 0.2, 1]\n",
    "n_estimators_arr = [50, 100, 150] #this param need to change\n",
    "criterion_arr = ['friedman_mse', 'squared_error']\n",
    "max_depth_arr = [2, 3, 4]\n",
    "gb_results = []\n",
    "\n",
    "for loss in loss_arr:\n",
    "    for learning_rate in learning_rate_arr:\n",
    "        for n_estimators in n_estimators_arr:\n",
    "            for criterion in criterion_arr:\n",
    "                for max_depth in max_depth_arr:\n",
    "                    classifier = GradientBoostingClassifier(loss=loss, n_estimators=n_estimators, learning_rate=learning_rate, criterion=criterion, max_depth=max_depth, random_state=1)\n",
    "                    classifier.fit(X_train, y_train)\n",
    "                    y_pred = classifier.predict(X_test)\n",
    "                    gb_results.append({\n",
    "                        'loss': loss,\n",
    "                        'learning_rate': learning_rate,\n",
    "                        'n_estimators': n_estimators,\n",
    "                        'criterion': criterion,\n",
    "                        'max_depth': max_depth,\n",
    "                        'accuracy_score': accuracy_score(y_test, y_pred)\n",
    "                    })\n",
    "\n",
    "result = max(gb_results, key=lambda x: x['accuracy_score'])\n",
    "print(result['accuracy_score'])\n",
    "result['classifier'] = 'Gradient Boosting'\n",
    "results.append(result)"
   ]
  },
  {
   "cell_type": "markdown",
   "metadata": {},
   "source": [
    "# Hist Gradient Boosting"
   ]
  },
  {
   "cell_type": "code",
   "execution_count": 27,
   "metadata": {},
   "outputs": [
    {
     "name": "stdout",
     "output_type": "stream",
     "text": [
      "0.9538461538461539\n"
     ]
    }
   ],
   "source": [
    "learning_rate_arr = [0.1, 0.2, 0.5, 1]\n",
    "max_iter_arr = [10, 50, 100, 150]\n",
    "hgb_results = []\n",
    "\n",
    "for learning_rate in learning_rate_arr:\n",
    "    for max_iter in max_iter_arr:\n",
    "        classifier = HistGradientBoostingClassifier(learning_rate=learning_rate, max_iter=max_iter, random_state=1)\n",
    "        classifier.fit(X_train, y_train)\n",
    "        y_pred = classifier.predict(X_test)\n",
    "        hgb_results.append({\n",
    "            'learning_rate': learning_rate,\n",
    "            'max_iter': max_iter,\n",
    "            'accuracy_score': accuracy_score(y_test, y_pred)\n",
    "        })\n",
    "\n",
    "result = max(hgb_results, key=lambda x: x['accuracy_score'])\n",
    "print(result['accuracy_score'])\n",
    "result['classifier'] = 'Hist Gradient Boosting'\n",
    "results.append(result)"
   ]
  },
  {
   "cell_type": "markdown",
   "metadata": {},
   "source": [
    "# Random Forest gini"
   ]
  },
  {
   "cell_type": "code",
   "execution_count": 28,
   "metadata": {},
   "outputs": [
    {
     "name": "stdout",
     "output_type": "stream",
     "text": [
      "0.9512820512820512\n"
     ]
    }
   ],
   "source": [
    "n_estimators_arr = [10, 20, 50, 100, 150]\n",
    "criterion_arr = ['gini', 'entropy']\n",
    "rf_results = []\n",
    "\n",
    "for n_estimators in n_estimators_arr:\n",
    "    for criterion in criterion_arr:\n",
    "        classifier = RandomForestClassifier(n_estimators=n_estimators, criterion=criterion, random_state=1)\n",
    "        classifier.fit(X_train, y_train)\n",
    "        y_pred = classifier.predict(X_test)\n",
    "        rf_results.append({\n",
    "            'n_estimators': n_estimators,\n",
    "            'criterion': criterion,\n",
    "            'accuracy_score': accuracy_score(y_test, y_pred)\n",
    "        })\n",
    "\n",
    "result = max(rf_results, key=lambda x: x['accuracy_score'])\n",
    "print(result['accuracy_score'])\n",
    "result['classifier'] = 'Random Forest'\n",
    "results.append(result)"
   ]
  },
  {
   "cell_type": "markdown",
   "metadata": {},
   "source": [
    "# Adaboost"
   ]
  },
  {
   "cell_type": "code",
   "execution_count": 29,
   "metadata": {},
   "outputs": [
    {
     "name": "stdout",
     "output_type": "stream",
     "text": [
      "0.9512820512820512\n"
     ]
    }
   ],
   "source": [
    "n_estimators_arr = [10, 20, 50, 100, 150]\n",
    "learning_rate_arr = [0.1, 0.2, 0.5, 1]\n",
    "algorithm_arr = ['SAMME', 'SAMME.R']\n",
    "ada_results = []\n",
    "\n",
    "for n_estimators in n_estimators_arr:\n",
    "    for learning_rate in learning_rate_arr:\n",
    "        for algorithm in algorithm_arr:\n",
    "            classifier = AdaBoostClassifier(n_estimators=n_estimators, learning_rate=learning_rate, algorithm=algorithm, random_state=0)\n",
    "            classifier.fit(X_train, y_train)\n",
    "            y_pred = classifier.predict(X_test)\n",
    "            ada_results.append({\n",
    "                'n_estimators': n_estimators,\n",
    "                'learning_rate': learning_rate,\n",
    "                'algorithm': algorithm,\n",
    "                'accuracy_score': accuracy_score(y_test, y_pred)\n",
    "            })\n",
    "\n",
    "result = max(ada_results, key=lambda x: x['accuracy_score'])\n",
    "print(result['accuracy_score'])\n",
    "result['classifier'] = 'Adaboost'\n",
    "results.append(result)"
   ]
  },
  {
   "cell_type": "code",
   "execution_count": 30,
   "metadata": {},
   "outputs": [
    {
     "data": {
      "text/plain": [
       "[{'classifier': 'CART',\n",
       "  'criterion': 'gini',\n",
       "  'accuracy_score': 0.9128205128205128},\n",
       " {'classifier': 'C4.5',\n",
       "  'criterion': 'entropy',\n",
       "  'accuracy_score': 0.9256410256410257},\n",
       " {'criterion': 'entropy',\n",
       "  'n_estimators': 100,\n",
       "  'accuracy_score': 0.9487179487179487,\n",
       "  'classifier': 'Extra Trees Classifier'},\n",
       " {'loss': 'log_loss',\n",
       "  'learning_rate': 0.1,\n",
       "  'n_estimators': 100,\n",
       "  'criterion': 'friedman_mse',\n",
       "  'max_depth': 2,\n",
       "  'accuracy_score': 0.9538461538461539,\n",
       "  'classifier': 'Gradient Boosting'},\n",
       " {'learning_rate': 0.2,\n",
       "  'max_iter': 10,\n",
       "  'accuracy_score': 0.9538461538461539,\n",
       "  'classifier': 'Hist Gradient Boosting'},\n",
       " {'n_estimators': 20,\n",
       "  'criterion': 'entropy',\n",
       "  'accuracy_score': 0.9512820512820512,\n",
       "  'classifier': 'Random Forest'},\n",
       " {'n_estimators': 10,\n",
       "  'learning_rate': 0.1,\n",
       "  'algorithm': 'SAMME',\n",
       "  'accuracy_score': 0.9512820512820512,\n",
       "  'classifier': 'Adaboost'}]"
      ]
     },
     "execution_count": 30,
     "metadata": {},
     "output_type": "execute_result"
    }
   ],
   "source": [
    "results"
   ]
  },
  {
   "cell_type": "code",
   "execution_count": 31,
   "metadata": {},
   "outputs": [
    {
     "data": {
      "image/png": "[encoded data removed]",
      "text/plain": [
       "<Figure size 640x480 with 1 Axes>"
      ]
     },
     "metadata": {},
     "output_type": "display_data"
    }
   ],
   "source": [
    "plt.rcdefaults()\n",
    "fig, ax = plt.subplots()\n",
    "\n",
    "df = pd.DataFrame(results)\n",
    "\n",
    "df_sorted = df.sort_values('accuracy_score')\n",
    "\n",
    "ax.barh('classifier', 'accuracy_score', data=df_sorted)\n",
    "for i in range(len(results)):\n",
    "    ax.text(results[i]['accuracy_score'] * 0.9, results[i]['classifier'], round(results[i]['accuracy_score'], 4), ha='center', color='black')\n"
   ]
  }
 ],
 "metadata": {
  "kernelspec": {
   "display_name": "Python 3.10.7 ('thesis_venv': venv)",
   "language": "python",
   "name": "python3"
  },
  "language_info": {
   "codemirror_mode": {
    "name": "ipython",
    "version": 3
   },
   "file_extension": ".py",
   "mimetype": "text/x-python",
   "name": "python",
   "nbconvert_exporter": "python",
   "pygments_lexer": "ipython3",
   "version": "3.10.10"
  },
  "orig_nbformat": 4,
  "vscode": {
   "interpreter": {
    "hash": "6442ccbef71e3a52891e24f5e2ea91ce4ad765b6c4cfe5751cd7f175b2f3dc2f"
   }
  }
 },
 "nbformat": 4,
 "nbformat_minor": 2
}
