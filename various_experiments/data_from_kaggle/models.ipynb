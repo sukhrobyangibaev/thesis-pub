{
 "cells": [
  {
   "cell_type": "code",
   "execution_count": 30,
   "metadata": {},
   "outputs": [],
   "source": [
    "import pandas as pd\n",
    "import numpy as np\n",
    "from sklearn.model_selection import train_test_split\n",
    "from sklearn.preprocessing import LabelEncoder, StandardScaler\n",
    "from sklearn import tree\n",
    "from sklearn.tree import DecisionTreeClassifier\n",
    "from sklearn.ensemble import ExtraTreesClassifier, GradientBoostingClassifier, HistGradientBoostingClassifier, RandomForestClassifier, AdaBoostClassifier\n",
    "from sklearn.metrics import accuracy_score, confusion_matrix\n",
    "import matplotlib.pyplot as plt"
   ]
  },
  {
   "cell_type": "code",
   "execution_count": 31,
   "metadata": {},
   "outputs": [],
   "source": [
    "X_train_df = pd.read_csv('train_features.csv', delimiter=',')\n",
    "X_test_df = pd.read_csv('test_features.csv', delimiter=',')\n",
    "y_train_df = pd.read_csv('train_targets.csv', delimiter=',')\n"
   ]
  },
  {
   "cell_type": "code",
   "execution_count": 32,
   "metadata": {},
   "outputs": [],
   "source": [
    "X_train_df = X_train_df.drop(columns=['match_id_hash',\n",
    "                      'game_mode',\n",
    "                      'lobby_type',\n",
    "                      'objectives_len',\n",
    "                      'chat_len',\n",
    "                      'r1_hero_id','r2_hero_id','r3_hero_id','r4_hero_id','r5_hero_id',\n",
    "                      'd1_hero_id','d2_hero_id','d3_hero_id','d4_hero_id','d5_hero_id',\n",
    "                      'r1_xp','r2_xp','r3_xp','r4_xp','r5_xp',\n",
    "                      'd1_xp','d2_xp','d3_xp','d4_xp','d5_xp',\n",
    "                      'r1_health','r2_health','r3_health','r4_health','r5_health',\n",
    "                      'd1_health','d2_health','d3_health','d4_health','d5_health',\n",
    "                      'r1_max_health','r2_max_health','r3_max_health','r4_max_health','r5_max_health',\n",
    "                      'd1_max_health','d2_max_health','d3_max_health','d4_max_health','d5_max_health',\n",
    "                      'r1_max_mana','r2_max_mana','r3_max_mana','r4_max_mana','r5_max_mana',\n",
    "                      'd1_max_mana','d2_max_mana','d3_max_mana','d4_max_mana','d5_max_mana',\n",
    "                      'r1_x','r2_x','r3_x','r4_x','r5_x',\n",
    "                      'd1_x','d2_x','d3_x','d4_x','d5_x',\n",
    "                      'r1_y','r2_y','r3_y','r4_y','r5_y',\n",
    "                      'd1_y','d2_y','d3_y','d4_y','d5_y',\n",
    "                      'r1_stuns','r2_stuns','r3_stuns','r4_stuns','r5_stuns',\n",
    "                      'd1_stuns','d2_stuns','d3_stuns','d4_stuns','d5_stuns',\n",
    "                      'r1_creeps_stacked','r2_creeps_stacked','r3_creeps_stacked','r4_creeps_stacked','r5_creeps_stacked',\n",
    "                      'd1_creeps_stacked','d2_creeps_stacked','d3_creeps_stacked','d4_creeps_stacked','d5_creeps_stacked',\n",
    "                      'r1_camps_stacked','r2_camps_stacked','r3_camps_stacked','r4_camps_stacked','r5_camps_stacked',\n",
    "                      'd1_camps_stacked','d2_camps_stacked','d3_camps_stacked','d4_camps_stacked','d5_camps_stacked',\n",
    "                      'r1_rune_pickups','r2_rune_pickups','r3_rune_pickups','r4_rune_pickups','r5_rune_pickups',\n",
    "                      'd1_rune_pickups','d2_rune_pickups','d3_rune_pickups','d4_rune_pickups','d5_rune_pickups',\n",
    "                      'r1_firstblood_claimed','r2_firstblood_claimed','r3_firstblood_claimed','r4_firstblood_claimed','r5_firstblood_claimed',\n",
    "                      'd1_firstblood_claimed','d2_firstblood_claimed','d3_firstblood_claimed','d4_firstblood_claimed','d5_firstblood_claimed',\n",
    "                      'r1_teamfight_participation','r2_teamfight_participation','r3_teamfight_participation','r4_teamfight_participation','r5_teamfight_participation',\n",
    "                      'd1_teamfight_participation','d2_teamfight_participation','d3_teamfight_participation','d4_teamfight_participation','d5_teamfight_participation',\n",
    "                      'r1_towers_killed','r2_towers_killed','r3_towers_killed','r4_towers_killed','r5_towers_killed',\n",
    "                      'd1_towers_killed','d2_towers_killed','d3_towers_killed','d4_towers_killed','d5_towers_killed',\n",
    "                      'r1_roshans_killed','r2_roshans_killed','r3_roshans_killed','r4_roshans_killed','r5_roshans_killed',\n",
    "                      'd1_roshans_killed','d2_roshans_killed','d3_roshans_killed','d4_roshans_killed','d5_roshans_killed',\n",
    "                      'r1_obs_placed','r2_obs_placed','r3_obs_placed','r4_obs_placed','r5_obs_placed',\n",
    "                      'd1_obs_placed','d2_obs_placed','d3_obs_placed','d4_obs_placed','d5_obs_placed',\n",
    "                      'r1_sen_placed','r2_sen_placed','r3_sen_placed','r4_sen_placed','r5_sen_placed',\n",
    "                      'd1_sen_placed','d2_sen_placed','d3_sen_placed','d4_sen_placed','d5_sen_placed',\n",
    "                           ])"
   ]
  },
  {
   "cell_type": "code",
   "execution_count": 33,
   "metadata": {},
   "outputs": [],
   "source": [
    "X_test_df = X_test_df.drop(columns=['match_id_hash',\n",
    "                      'game_mode',\n",
    "                      'lobby_type',\n",
    "                      'objectives_len',\n",
    "                      'chat_len',\n",
    "                      'r1_hero_id','r2_hero_id','r3_hero_id','r4_hero_id','r5_hero_id',\n",
    "                      'd1_hero_id','d2_hero_id','d3_hero_id','d4_hero_id','d5_hero_id',\n",
    "                      'r1_xp','r2_xp','r3_xp','r4_xp','r5_xp',\n",
    "                      'd1_xp','d2_xp','d3_xp','d4_xp','d5_xp',\n",
    "                      'r1_health','r2_health','r3_health','r4_health','r5_health',\n",
    "                      'd1_health','d2_health','d3_health','d4_health','d5_health',\n",
    "                      'r1_max_health','r2_max_health','r3_max_health','r4_max_health','r5_max_health',\n",
    "                      'd1_max_health','d2_max_health','d3_max_health','d4_max_health','d5_max_health',\n",
    "                      'r1_max_mana','r2_max_mana','r3_max_mana','r4_max_mana','r5_max_mana',\n",
    "                      'd1_max_mana','d2_max_mana','d3_max_mana','d4_max_mana','d5_max_mana',\n",
    "                      'r1_x','r2_x','r3_x','r4_x','r5_x',\n",
    "                      'd1_x','d2_x','d3_x','d4_x','d5_x',\n",
    "                      'r1_y','r2_y','r3_y','r4_y','r5_y',\n",
    "                      'd1_y','d2_y','d3_y','d4_y','d5_y',\n",
    "                      'r1_stuns','r2_stuns','r3_stuns','r4_stuns','r5_stuns',\n",
    "                      'd1_stuns','d2_stuns','d3_stuns','d4_stuns','d5_stuns',\n",
    "                      'r1_creeps_stacked','r2_creeps_stacked','r3_creeps_stacked','r4_creeps_stacked','r5_creeps_stacked',\n",
    "                      'd1_creeps_stacked','d2_creeps_stacked','d3_creeps_stacked','d4_creeps_stacked','d5_creeps_stacked',\n",
    "                      'r1_camps_stacked','r2_camps_stacked','r3_camps_stacked','r4_camps_stacked','r5_camps_stacked',\n",
    "                      'd1_camps_stacked','d2_camps_stacked','d3_camps_stacked','d4_camps_stacked','d5_camps_stacked',\n",
    "                      'r1_rune_pickups','r2_rune_pickups','r3_rune_pickups','r4_rune_pickups','r5_rune_pickups',\n",
    "                      'd1_rune_pickups','d2_rune_pickups','d3_rune_pickups','d4_rune_pickups','d5_rune_pickups',\n",
    "                      'r1_firstblood_claimed','r2_firstblood_claimed','r3_firstblood_claimed','r4_firstblood_claimed','r5_firstblood_claimed',\n",
    "                      'd1_firstblood_claimed','d2_firstblood_claimed','d3_firstblood_claimed','d4_firstblood_claimed','d5_firstblood_claimed',\n",
    "                      'r1_teamfight_participation','r2_teamfight_participation','r3_teamfight_participation','r4_teamfight_participation','r5_teamfight_participation',\n",
    "                      'd1_teamfight_participation','d2_teamfight_participation','d3_teamfight_participation','d4_teamfight_participation','d5_teamfight_participation',\n",
    "                      'r1_towers_killed','r2_towers_killed','r3_towers_killed','r4_towers_killed','r5_towers_killed',\n",
    "                      'd1_towers_killed','d2_towers_killed','d3_towers_killed','d4_towers_killed','d5_towers_killed',\n",
    "                      'r1_roshans_killed','r2_roshans_killed','r3_roshans_killed','r4_roshans_killed','r5_roshans_killed',\n",
    "                      'd1_roshans_killed','d2_roshans_killed','d3_roshans_killed','d4_roshans_killed','d5_roshans_killed',\n",
    "                      'r1_obs_placed','r2_obs_placed','r3_obs_placed','r4_obs_placed','r5_obs_placed',\n",
    "                      'd1_obs_placed','d2_obs_placed','d3_obs_placed','d4_obs_placed','d5_obs_placed',\n",
    "                      'r1_sen_placed','r2_sen_placed','r3_sen_placed','r4_sen_placed','r5_sen_placed',\n",
    "                      'd1_sen_placed','d2_sen_placed','d3_sen_placed','d4_sen_placed','d5_sen_placed',\n",
    "                           ])"
   ]
  },
  {
   "cell_type": "code",
   "execution_count": 34,
   "metadata": {},
   "outputs": [
    {
     "data": {
      "text/plain": [
       "array([[  155,     0,     0, ...,   851,    11,     3],\n",
       "       [  658,     7,     2, ...,  1423,     8,     4],\n",
       "       [   21,     0,     0, ...,    96,     0,     1],\n",
       "       ...,\n",
       "       [  643,     1,     4, ...,  5431,    51,    10],\n",
       "       [ 2405,     3,     8, ..., 18231,   181,    24],\n",
       "       [ 1775,     3,     4, ..., 14096,   225,    19]], dtype=int64)"
      ]
     },
     "execution_count": 34,
     "metadata": {},
     "output_type": "execute_result"
    }
   ],
   "source": [
    "X_train = X_train_df.iloc[:, :].values\n",
    "X_train"
   ]
  },
  {
   "cell_type": "code",
   "execution_count": 35,
   "metadata": {},
   "outputs": [
    {
     "data": {
      "text/plain": [
       "array([[  23,    0,    0, ...,  115,    0,    1],\n",
       "       [1044,    3,    5, ..., 4746,    5,   10],\n",
       "       [1091,    3,    1, ..., 6456,   73,   11],\n",
       "       ...,\n",
       "       [ 391,    0,    1, ..., 1164,    4,    4],\n",
       "       [1254,    0,    4, ..., 8015,  103,   14],\n",
       "       [1553,    5,    7, ..., 6564,   23,   17]], dtype=int64)"
      ]
     },
     "execution_count": 35,
     "metadata": {},
     "output_type": "execute_result"
    }
   ],
   "source": [
    "X_test = X_test_df.iloc[:, :].values\n",
    "X_test"
   ]
  },
  {
   "cell_type": "code",
   "execution_count": 36,
   "metadata": {},
   "outputs": [],
   "source": [
    "from sklearn.preprocessing import LabelEncoder\n",
    "\n",
    "label_encoder = LabelEncoder()\n",
    "y_train_df['radiant_win'] = label_encoder.fit_transform(y_train_df['radiant_win'])\n",
    "y_train = y_train_df.iloc[:, 2]"
   ]
  },
  {
   "cell_type": "code",
   "execution_count": 37,
   "metadata": {},
   "outputs": [
    {
     "data": {
      "text/plain": [
       "0        0\n",
       "1        1\n",
       "2        1\n",
       "3        1\n",
       "4        0\n",
       "        ..\n",
       "39670    0\n",
       "39671    1\n",
       "39672    0\n",
       "39673    1\n",
       "39674    1\n",
       "Name: radiant_win, Length: 39675, dtype: int64"
      ]
     },
     "execution_count": 37,
     "metadata": {},
     "output_type": "execute_result"
    }
   ],
   "source": [
    "y_train"
   ]
  },
  {
   "cell_type": "code",
   "execution_count": 38,
   "metadata": {},
   "outputs": [],
   "source": [
    "results = []"
   ]
  },
  {
   "cell_type": "code",
   "execution_count": 39,
   "metadata": {},
   "outputs": [
    {
     "ename": "NameError",
     "evalue": "name 'y_test' is not defined",
     "output_type": "error",
     "traceback": [
      "\u001b[1;31m---------------------------------------------------------------------------\u001b[0m",
      "\u001b[1;31mNameError\u001b[0m                                 Traceback (most recent call last)",
      "Cell \u001b[1;32mIn[39], line 7\u001b[0m\n\u001b[0;32m      4\u001b[0m gini_classifier\u001b[38;5;241m.\u001b[39mfit(X_train, y_train)\n\u001b[0;32m      5\u001b[0m y_pred \u001b[38;5;241m=\u001b[39m gini_classifier\u001b[38;5;241m.\u001b[39mpredict(X_test)\n\u001b[1;32m----> 7\u001b[0m acc \u001b[38;5;241m=\u001b[39m accuracy_score(\u001b[43my_test\u001b[49m, y_pred)\n\u001b[0;32m      8\u001b[0m \u001b[38;5;28mprint\u001b[39m(acc)\n\u001b[0;32m      9\u001b[0m results\u001b[38;5;241m.\u001b[39mappend({\n\u001b[0;32m     10\u001b[0m     \u001b[38;5;124m'\u001b[39m\u001b[38;5;124mclassifier\u001b[39m\u001b[38;5;124m'\u001b[39m: \u001b[38;5;124m'\u001b[39m\u001b[38;5;124mCART\u001b[39m\u001b[38;5;124m'\u001b[39m,\n\u001b[0;32m     11\u001b[0m     \u001b[38;5;124m'\u001b[39m\u001b[38;5;124mcriterion\u001b[39m\u001b[38;5;124m'\u001b[39m: criterion,\n\u001b[0;32m     12\u001b[0m     \u001b[38;5;124m'\u001b[39m\u001b[38;5;124maccuracy_score\u001b[39m\u001b[38;5;124m'\u001b[39m: acc\n\u001b[0;32m     13\u001b[0m     })\n",
      "\u001b[1;31mNameError\u001b[0m: name 'y_test' is not defined"
     ]
    }
   ],
   "source": [
    "criterion = 'gini'\n",
    "\n",
    "gini_classifier = DecisionTreeClassifier(criterion=criterion, random_state=1)\n",
    "gini_classifier.fit(X_train, y_train)\n",
    "y_pred = gini_classifier.predict(X_test)\n",
    "\n",
    "acc = accuracy_score(y_test, y_pred)\n",
    "print(acc)\n",
    "results.append({\n",
    "    'classifier': 'CART',\n",
    "    'criterion': criterion,\n",
    "    'accuracy_score': acc\n",
    "    })"
   ]
  },
  {
   "cell_type": "code",
   "execution_count": null,
   "metadata": {},
   "outputs": [],
   "source": [
    "criterion = 'entropy'\n",
    "\n",
    "entropy_classifier = DecisionTreeClassifier(criterion=criterion, random_state=1)\n",
    "entropy_classifier.fit(X_train, y_train)\n",
    "y_pred = entropy_classifier.predict(X_test)\n",
    "\n",
    "acc = accuracy_score(y_test, y_pred)\n",
    "print(acc)\n",
    "results.append({\n",
    "    'classifier': 'C4.5',\n",
    "    'criterion': criterion,\n",
    "    'accuracy_score': acc\n",
    "    })"
   ]
  },
  {
   "cell_type": "code",
   "execution_count": null,
   "metadata": {},
   "outputs": [],
   "source": [
    "etc_results = []\n",
    "\n",
    "et_classifier = ExtraTreesClassifier(criterion='entropy', n_estimators=150, random_state=1)\n",
    "et_classifier.fit(X_train, y_train)\n",
    "y_pred = et_classifier.predict(X_test)\n",
    "etc_results.append({\n",
    "    'criterion': 'entropy',\n",
    "    'n_estimators': 150, \n",
    "    'accuracy_score': accuracy_score(y_test, y_pred)})\n",
    "\n",
    "result = max(etc_results, key=lambda x: x['accuracy_score'])\n",
    "print(result['accuracy_score'])\n",
    "result['classifier'] = 'Extra Trees Classifier'\n",
    "results.append(result)"
   ]
  },
  {
   "cell_type": "code",
   "execution_count": null,
   "metadata": {},
   "outputs": [],
   "source": [
    "gb_results = []\n",
    "\n",
    "gb_classifier = GradientBoostingClassifier(loss='log_loss', n_estimators=50, learning_rate=1, criterion='friedman_mse', max_depth=4, random_state=1)\n",
    "gb_classifier.fit(X_train, y_train)\n",
    "y_pred = gb_classifier.predict(X_test)\n",
    "gb_results.append({\n",
    "    'loss': 'log_loss',\n",
    "    'learning_rate': 1,\n",
    "    'n_estimators': 50,\n",
    "    'criterion': 'friedman_mse',\n",
    "    'max_depth': 4,\n",
    "    'accuracy_score': accuracy_score(y_test, y_pred)\n",
    "})\n",
    "\n",
    "result = max(gb_results, key=lambda x: x['accuracy_score'])\n",
    "print(result['accuracy_score'])\n",
    "result['classifier'] = 'Gradient Boosting'\n",
    "results.append(result)"
   ]
  },
  {
   "cell_type": "code",
   "execution_count": null,
   "metadata": {},
   "outputs": [],
   "source": [
    "hgb_results = []\n",
    "\n",
    "hgb_classifier = HistGradientBoostingClassifier(learning_rate=0.2, max_iter=100, random_state=1)\n",
    "hgb_classifier.fit(X_train, y_train)\n",
    "y_pred = hgb_classifier.predict(X_test)\n",
    "hgb_results.append({\n",
    "    'learning_rate': 0.2,\n",
    "    'max_iter': 100,\n",
    "    'accuracy_score': accuracy_score(y_test, y_pred)\n",
    "})\n",
    "\n",
    "result = max(hgb_results, key=lambda x: x['accuracy_score'])\n",
    "print(result['accuracy_score'])\n",
    "result['classifier'] = 'Hist Gradient Boosting'\n",
    "results.append(result)"
   ]
  },
  {
   "cell_type": "code",
   "execution_count": null,
   "metadata": {},
   "outputs": [],
   "source": [
    "rf_results = []\n",
    "\n",
    "rf_classifier = RandomForestClassifier(n_estimators=50, criterion='gini', random_state=1)\n",
    "rf_classifier.fit(X_train, y_train)\n",
    "y_pred = rf_classifier.predict(X_test)\n",
    "rf_results.append({\n",
    "    'n_estimators': 50,\n",
    "    'criterion': 'gini',\n",
    "    'accuracy_score': accuracy_score(y_test, y_pred)\n",
    "})\n",
    "\n",
    "result = max(rf_results, key=lambda x: x['accuracy_score'])\n",
    "print(result['accuracy_score'])\n",
    "result['classifier'] = 'Random Forest'\n",
    "results.append(result)"
   ]
  },
  {
   "cell_type": "code",
   "execution_count": null,
   "metadata": {},
   "outputs": [],
   "source": [
    "ada_results = []\n",
    "\n",
    "ab_classifier = AdaBoostClassifier(n_estimators=50, learning_rate=0.1, algorithm='SAMME.R', random_state=0)\n",
    "ab_classifier.fit(X_train, y_train)\n",
    "y_pred = ab_classifier.predict(X_test)\n",
    "ada_results.append({\n",
    "    'n_estimators': 50,\n",
    "    'learning_rate': 0.1,\n",
    "    'algorithm': 'SAMME.R',\n",
    "    'accuracy_score': accuracy_score(y_test, y_pred)\n",
    "})\n",
    "\n",
    "result = max(ada_results, key=lambda x: x['accuracy_score'])\n",
    "print(result['accuracy_score'])\n",
    "result['classifier'] = 'Adaboost'\n",
    "results.append(result)"
   ]
  },
  {
   "cell_type": "code",
   "execution_count": null,
   "metadata": {},
   "outputs": [],
   "source": [
    "plt.rcdefaults()\n",
    "fig, ax = plt.subplots()\n",
    "\n",
    "df = pd.DataFrame(results)\n",
    "\n",
    "df_sorted = df.sort_values('accuracy_score')\n",
    "\n",
    "ax.barh('classifier', 'accuracy_score', data=df_sorted)\n",
    "for i in range(len(results)):\n",
    "    ax.text(results[i]['accuracy_score'] * 0.9, results[i]['classifier'], round(results[i]['accuracy_score'], 4), ha='center', color='black')"
   ]
  }
 ],
 "metadata": {
  "kernelspec": {
   "display_name": "Python 3",
   "language": "python",
   "name": "python3"
  },
  "language_info": {
   "codemirror_mode": {
    "name": "ipython",
    "version": 3
   },
   "file_extension": ".py",
   "mimetype": "text/x-python",
   "name": "python",
   "nbconvert_exporter": "python",
   "pygments_lexer": "ipython3",
   "version": "3.12.0"
  }
 },
 "nbformat": 4,
 "nbformat_minor": 2
}
