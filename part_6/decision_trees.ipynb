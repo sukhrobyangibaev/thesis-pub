{
 "cells": [
  {
   "cell_type": "code",
   "execution_count": 40,
   "metadata": {},
   "outputs": [],
   "source": [
    "import pandas as pd\n",
    "import numpy as np\n",
    "from sklearn.model_selection import train_test_split\n",
    "from sklearn.preprocessing import LabelEncoder, StandardScaler\n",
    "from sklearn import tree\n",
    "from sklearn.tree import DecisionTreeClassifier\n",
    "from sklearn.ensemble import ExtraTreesClassifier, GradientBoostingClassifier, HistGradientBoostingClassifier, RandomForestClassifier, AdaBoostClassifier\n",
    "from sklearn.metrics import accuracy_score, confusion_matrix\n",
    "import matplotlib.pyplot as plt\n",
    "import pymongo"
   ]
  },
  {
   "cell_type": "code",
   "execution_count": 41,
   "metadata": {},
   "outputs": [],
   "source": [
    "MONGO_CLIENT = pymongo.MongoClient(\"mongodb://192.168.1.7:27017/\")\n",
    "SDA_DB = MONGO_CLIENT[\"steam_dota_api\"]\n",
    "LGC_COL = SDA_DB[\"league_games_col\"]"
   ]
  },
  {
   "cell_type": "code",
   "execution_count": 42,
   "metadata": {},
   "outputs": [],
   "source": [
    "matches_for_pd = []"
   ]
  },
  {
   "cell_type": "code",
   "execution_count": 43,
   "metadata": {},
   "outputs": [],
   "source": [
    "matches = LGC_COL.find({\"winner\": {\"$exists\": True}})\n",
    "\n",
    "for entry in matches:\n",
    "    try:\n",
    "        tmp = {}\n",
    "\n",
    "        tmp['duration'] = entry['scoreboard']['duration']\n",
    "        tmp['radiant_series_wins'] = entry['radiant_series_wins']\n",
    "        tmp['dire_series_wins'] = entry['dire_series_wins']\n",
    "\n",
    "        tmp['score'] = entry[\"scoreboard\"]['radiant'][\"score\"] - entry[\"scoreboard\"]['dire'][\"score\"]\n",
    "        tmp['tower_state'] = entry[\"scoreboard\"]['radiant'][\"tower_state\"] - entry[\"scoreboard\"]['dire'][\"tower_state\"]\n",
    "        tmp['barracks_state'] = entry[\"scoreboard\"]['radiant'][\"barracks_state\"] - entry[\"scoreboard\"]['dire'][\"barracks_state\"]\n",
    "        \n",
    "\n",
    "        radiant_net_worth = 0\n",
    "        dire_net_worth = 0\n",
    "\n",
    "        if 'radiant' not in entry[\"scoreboard\"]:\n",
    "            continue\n",
    "\n",
    "        for i, player in enumerate(entry[\"scoreboard\"]['radiant']['players']):\n",
    "            tmp[f'radiant_player_{i}_kills'] = player['kills']\n",
    "            tmp[f'radiant_player_{i}_death'] = player['death']\n",
    "            tmp[f'radiant_player_{i}_assists'] = player['assists']\n",
    "            tmp[f'radiant_player_{i}_last_hits'] = player['last_hits']\n",
    "            tmp[f'radiant_player_{i}_gold'] = player['gold']\n",
    "            tmp[f'radiant_player_{i}_level'] = player['level']\n",
    "            tmp[f'radiant_player_{i}_gold_per_min'] = player['gold_per_min']\n",
    "            tmp[f'radiant_player_{i}_xp_per_min'] = player['xp_per_min']\n",
    "            tmp[f'radiant_player_{i}_item0'] = player['item0']\n",
    "            tmp[f'radiant_player_{i}_item1'] = player['item1']\n",
    "            tmp[f'radiant_player_{i}_item2'] = player['item2']\n",
    "            tmp[f'radiant_player_{i}_item3'] = player['item3']\n",
    "            tmp[f'radiant_player_{i}_item4'] = player['item4']\n",
    "            tmp[f'radiant_player_{i}_item5'] = player['item5']\n",
    "            tmp[f'radiant_player_{i}_net_worth'] = player['net_worth']\n",
    "\n",
    "            radiant_net_worth += player['net_worth']\n",
    "\n",
    "        for i, player in enumerate(entry[\"scoreboard\"]['dire']['players']):\n",
    "            i = player['player_slot']\n",
    "            tmp[f'dire_player_{i}_kills'] = player['kills']\n",
    "            tmp[f'dire_player_{i}_death'] = player['death']\n",
    "            tmp[f'dire_player_{i}_assists'] = player['assists']\n",
    "            tmp[f'dire_player_{i}_last_hits'] = player['last_hits']\n",
    "            tmp[f'dire_player_{i}_gold'] = player['gold']\n",
    "            tmp[f'dire_player_{i}_level'] = player['level']\n",
    "            tmp[f'dire_player_{i}_gold_per_min'] = player['gold_per_min']\n",
    "            tmp[f'dire_player_{i}_xp_per_min'] = player['xp_per_min']\n",
    "            tmp[f'dire_player_{i}_item0'] = player['item0']\n",
    "            tmp[f'dire_player_{i}_item1'] = player['item1']\n",
    "            tmp[f'dire_player_{i}_item2'] = player['item2']\n",
    "            tmp[f'dire_player_{i}_item3'] = player['item3']\n",
    "            tmp[f'dire_player_{i}_item4'] = player['item4']\n",
    "            tmp[f'dire_player_{i}_item5'] = player['item5']\n",
    "            tmp[f'dire_player_{i}_net_worth'] = player['net_worth']\n",
    "\n",
    "            dire_net_worth += player['net_worth']\n",
    "\n",
    "        tmp['net_worth'] = radiant_net_worth - dire_net_worth\n",
    "\n",
    "        tmp[\"winner\"] = entry[\"winner\"]\n",
    "\n",
    "        matches_for_pd.append(tmp)\n",
    "    except Exception as e:\n",
    "        print(e, entry['match']['match_id'])"
   ]
  },
  {
   "cell_type": "code",
   "execution_count": 44,
   "metadata": {},
   "outputs": [
    {
     "data": {
      "text/plain": [
       "(19954, 158)"
      ]
     },
     "execution_count": 44,
     "metadata": {},
     "output_type": "execute_result"
    }
   ],
   "source": [
    "df = pd.DataFrame(matches_for_pd)\n",
    "df.shape"
   ]
  },
  {
   "cell_type": "code",
   "execution_count": 45,
   "metadata": {},
   "outputs": [
    {
     "data": {
      "text/plain": [
       "(19662, 158)"
      ]
     },
     "execution_count": 45,
     "metadata": {},
     "output_type": "execute_result"
    }
   ],
   "source": [
    "df = df.dropna()\n",
    "df.shape"
   ]
  },
  {
   "cell_type": "code",
   "execution_count": 46,
   "metadata": {},
   "outputs": [
    {
     "name": "stdout",
     "output_type": "stream",
     "text": [
      "[]\n"
     ]
    }
   ],
   "source": [
    "columns_with_nan = df.columns[df.isna().any()].tolist()\n",
    "print(columns_with_nan)"
   ]
  },
  {
   "cell_type": "code",
   "execution_count": 47,
   "metadata": {},
   "outputs": [],
   "source": [
    "df.to_csv(f'{df.shape[0]}x{df.shape[1]}_samples.csv', index=False)"
   ]
  },
  {
   "cell_type": "code",
   "execution_count": 48,
   "metadata": {},
   "outputs": [],
   "source": [
    "X = df.iloc[:, 0:-1].values\n",
    "y = df.iloc[:, -1].values"
   ]
  },
  {
   "cell_type": "code",
   "execution_count": 49,
   "metadata": {},
   "outputs": [
    {
     "name": "stdout",
     "output_type": "stream",
     "text": [
      "0 = dire\n",
      "1 = radiant\n"
     ]
    }
   ],
   "source": [
    "le = LabelEncoder()\n",
    "y = le.fit_transform(y)\n",
    "\n",
    "for i, winner in enumerate(le.classes_):\n",
    "    print(i, '=', winner)"
   ]
  },
  {
   "cell_type": "code",
   "execution_count": 50,
   "metadata": {},
   "outputs": [],
   "source": [
    "X_train, X_test, y_train, y_test = train_test_split(X, y, test_size=0.1, random_state=1)"
   ]
  },
  {
   "cell_type": "code",
   "execution_count": 51,
   "metadata": {},
   "outputs": [],
   "source": [
    "results = []"
   ]
  },
  {
   "cell_type": "markdown",
   "metadata": {},
   "source": [
    "Gini"
   ]
  },
  {
   "cell_type": "code",
   "execution_count": 52,
   "metadata": {},
   "outputs": [
    {
     "name": "stdout",
     "output_type": "stream",
     "text": [
      "0.8418912048805287\n"
     ]
    }
   ],
   "source": [
    "criterion = 'gini'\n",
    "\n",
    "gini_classifier = DecisionTreeClassifier(criterion=criterion, random_state=1)\n",
    "gini_classifier.fit(X_train, y_train)\n",
    "y_pred = gini_classifier.predict(X_test)\n",
    "\n",
    "acc = accuracy_score(y_test, y_pred)\n",
    "print(acc)\n",
    "results.append({\n",
    "    'classifier': 'CART',\n",
    "    'criterion': criterion,\n",
    "    'accuracy_score': acc\n",
    "    })"
   ]
  },
  {
   "cell_type": "markdown",
   "metadata": {},
   "source": [
    "Entropy"
   ]
  },
  {
   "cell_type": "code",
   "execution_count": 53,
   "metadata": {},
   "outputs": [
    {
     "name": "stdout",
     "output_type": "stream",
     "text": [
      "0.836807320793086\n"
     ]
    }
   ],
   "source": [
    "criterion = 'entropy'\n",
    "\n",
    "entropy_classifier = DecisionTreeClassifier(criterion=criterion, random_state=1)\n",
    "entropy_classifier.fit(X_train, y_train)\n",
    "y_pred = entropy_classifier.predict(X_test)\n",
    "\n",
    "acc = accuracy_score(y_test, y_pred)\n",
    "print(acc)\n",
    "results.append({\n",
    "    'classifier': 'C4.5',\n",
    "    'criterion': criterion,\n",
    "    'accuracy_score': acc\n",
    "    })"
   ]
  },
  {
   "cell_type": "markdown",
   "metadata": {},
   "source": [
    "Extra Tree Classifier"
   ]
  },
  {
   "cell_type": "code",
   "execution_count": 54,
   "metadata": {},
   "outputs": [
    {
     "name": "stdout",
     "output_type": "stream",
     "text": [
      "0.9644128113879004\n"
     ]
    }
   ],
   "source": [
    "etc_results = []\n",
    "\n",
    "et_classifier = ExtraTreesClassifier(criterion='entropy', n_estimators=150, random_state=1)\n",
    "et_classifier.fit(X_train, y_train)\n",
    "y_pred = et_classifier.predict(X_test)\n",
    "etc_results.append({\n",
    "    'criterion': 'entropy',\n",
    "    'n_estimators': 150, \n",
    "    'accuracy_score': accuracy_score(y_test, y_pred)})\n",
    "\n",
    "result = max(etc_results, key=lambda x: x['accuracy_score'])\n",
    "print(result['accuracy_score'])\n",
    "result['classifier'] = 'Extra Trees Classifier'\n",
    "results.append(result)"
   ]
  },
  {
   "cell_type": "markdown",
   "metadata": {},
   "source": [
    "Gradient boosting"
   ]
  },
  {
   "cell_type": "code",
   "execution_count": 55,
   "metadata": {},
   "outputs": [
    {
     "name": "stdout",
     "output_type": "stream",
     "text": [
      "0.8962887646161668\n"
     ]
    }
   ],
   "source": [
    "gb_results = []\n",
    "\n",
    "gb_classifier = GradientBoostingClassifier(loss='log_loss', n_estimators=50, learning_rate=1, criterion='friedman_mse', max_depth=4, random_state=1)\n",
    "gb_classifier.fit(X_train, y_train)\n",
    "y_pred = gb_classifier.predict(X_test)\n",
    "gb_results.append({\n",
    "    'loss': 'log_loss',\n",
    "    'learning_rate': 1,\n",
    "    'n_estimators': 50,\n",
    "    'criterion': 'friedman_mse',\n",
    "    'max_depth': 4,\n",
    "    'accuracy_score': accuracy_score(y_test, y_pred)\n",
    "})\n",
    "\n",
    "result = max(gb_results, key=lambda x: x['accuracy_score'])\n",
    "print(result['accuracy_score'])\n",
    "result['classifier'] = 'Gradient Boosting'\n",
    "results.append(result)"
   ]
  },
  {
   "cell_type": "markdown",
   "metadata": {},
   "source": [
    "Hist Gradient Boosting"
   ]
  },
  {
   "cell_type": "code",
   "execution_count": 56,
   "metadata": {},
   "outputs": [
    {
     "name": "stdout",
     "output_type": "stream",
     "text": [
      "0.9466192170818505\n"
     ]
    }
   ],
   "source": [
    "hgb_results = []\n",
    "\n",
    "hgb_classifier = HistGradientBoostingClassifier(learning_rate=0.2, max_iter=100, random_state=1)\n",
    "hgb_classifier.fit(X_train, y_train)\n",
    "y_pred = hgb_classifier.predict(X_test)\n",
    "hgb_results.append({\n",
    "    'learning_rate': 0.2,\n",
    "    'max_iter': 100,\n",
    "    'accuracy_score': accuracy_score(y_test, y_pred)\n",
    "})\n",
    "\n",
    "result = max(hgb_results, key=lambda x: x['accuracy_score'])\n",
    "print(result['accuracy_score'])\n",
    "result['classifier'] = 'Hist Gradient Boosting'\n",
    "results.append(result)"
   ]
  },
  {
   "cell_type": "markdown",
   "metadata": {},
   "source": [
    "Random Forest"
   ]
  },
  {
   "cell_type": "code",
   "execution_count": 57,
   "metadata": {},
   "outputs": [
    {
     "name": "stdout",
     "output_type": "stream",
     "text": [
      "0.9461108286731063\n"
     ]
    }
   ],
   "source": [
    "rf_results = []\n",
    "\n",
    "rf_classifier = RandomForestClassifier(n_estimators=50, criterion='gini', random_state=1)\n",
    "rf_classifier.fit(X_train, y_train)\n",
    "y_pred = rf_classifier.predict(X_test)\n",
    "rf_results.append({\n",
    "    'n_estimators': 50,\n",
    "    'criterion': 'gini',\n",
    "    'accuracy_score': accuracy_score(y_test, y_pred)\n",
    "})\n",
    "\n",
    "result = max(rf_results, key=lambda x: x['accuracy_score'])\n",
    "print(result['accuracy_score'])\n",
    "result['classifier'] = 'Random Forest'\n",
    "results.append(result)"
   ]
  },
  {
   "cell_type": "markdown",
   "metadata": {},
   "source": [
    "Ada Boost"
   ]
  },
  {
   "cell_type": "code",
   "execution_count": 58,
   "metadata": {},
   "outputs": [
    {
     "name": "stdout",
     "output_type": "stream",
     "text": [
      "0.7163192679206914\n"
     ]
    }
   ],
   "source": [
    "ada_results = []\n",
    "\n",
    "ab_classifier = AdaBoostClassifier(n_estimators=50, learning_rate=0.1, algorithm='SAMME.R', random_state=0)\n",
    "ab_classifier.fit(X_train, y_train)\n",
    "y_pred = ab_classifier.predict(X_test)\n",
    "ada_results.append({\n",
    "    'n_estimators': 50,\n",
    "    'learning_rate': 0.1,\n",
    "    'algorithm': 'SAMME.R',\n",
    "    'accuracy_score': accuracy_score(y_test, y_pred)\n",
    "})\n",
    "\n",
    "result = max(ada_results, key=lambda x: x['accuracy_score'])\n",
    "print(result['accuracy_score'])\n",
    "result['classifier'] = 'Adaboost'\n",
    "results.append(result)"
   ]
  },
  {
   "cell_type": "markdown",
   "metadata": {},
   "source": [
    "Printing results"
   ]
  },
  {
   "cell_type": "code",
   "execution_count": 59,
   "metadata": {},
   "outputs": [
    {
     "data": {
      "image/png": "[encoded data removed]",
      "text/plain": [
       "<Figure size 640x480 with 1 Axes>"
      ]
     },
     "metadata": {},
     "output_type": "display_data"
    }
   ],
   "source": [
    "plt.rcdefaults()\n",
    "fig, ax = plt.subplots()\n",
    "\n",
    "df = pd.DataFrame(results)\n",
    "\n",
    "df_sorted = df.sort_values('accuracy_score')\n",
    "\n",
    "ax.barh('classifier', 'accuracy_score', data=df_sorted)\n",
    "for i in range(len(results)):\n",
    "    ax.text(results[i]['accuracy_score'] * 0.9, results[i]['classifier'], round(results[i]['accuracy_score'], 4), ha='center', color='black')\n"
   ]
  },
  {
   "cell_type": "markdown",
   "metadata": {},
   "source": [
    "# Saving models"
   ]
  },
  {
   "cell_type": "code",
   "execution_count": 60,
   "metadata": {},
   "outputs": [],
   "source": [
    "import pickle\n",
    "\n",
    "with open('et_classifier.pkl','wb') as f:\n",
    "    pickle.dump(et_classifier, f)\n",
    "with open('gb_classifier.pkl','wb') as f:\n",
    "    pickle.dump(gb_classifier, f)\n",
    "with open('hgb_classifier.pkl','wb') as f:\n",
    "    pickle.dump(hgb_classifier, f)\n",
    "with open('rf_classifier.pkl','wb') as f:\n",
    "    pickle.dump(rf_classifier, f)\n",
    "with open('ab_classifier.pkl','wb') as f:\n",
    "    pickle.dump(ab_classifier, f)"
   ]
  },
  {
   "cell_type": "code",
   "execution_count": 61,
   "metadata": {},
   "outputs": [],
   "source": [
    "# y_pred = hgb_classifier.predict_proba(X_test)\n",
    "# y_pred"
   ]
  }
 ],
 "metadata": {
  "kernelspec": {
   "display_name": "Python 3",
   "language": "python",
   "name": "python3"
  },
  "language_info": {
   "codemirror_mode": {
    "name": "ipython",
    "version": 3
   },
   "file_extension": ".py",
   "mimetype": "text/x-python",
   "name": "python",
   "nbconvert_exporter": "python",
   "pygments_lexer": "ipython3",
   "version": "3.12.0"
  }
 },
 "nbformat": 4,
 "nbformat_minor": 2
}
